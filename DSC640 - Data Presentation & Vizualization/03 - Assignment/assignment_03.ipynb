{
 "cells": [
  {
   "cell_type": "markdown",
   "id": "9ce1db54-6009-4cf6-acaa-47c86421065d",
   "metadata": {
    "tags": []
   },
   "source": [
    "### Week 5 & 6\n",
    "### DSC 640\n",
    "### Abed Tabbalat\n",
    "### Python"
   ]
  },
  {
   "cell_type": "code",
   "execution_count": 1,
   "id": "349dee37-cde1-481a-9f69-f695213db6fa",
   "metadata": {},
   "outputs": [],
   "source": [
    "# Library Imports\n",
    "import pandas as pd\n",
    "import numpy as np\n",
    "import seaborn as sns\n",
    "import squarify\n",
    "import matplotlib.pyplot as plt\n",
    "import matplotlib.patches as mpatches\n",
    "%matplotlib inline"
   ]
  },
  {
   "cell_type": "code",
   "execution_count": 2,
   "id": "be5abdc9-6ea4-4ffe-9f12-ab0620602cd6",
   "metadata": {},
   "outputs": [],
   "source": [
    "# Settings\n",
    "pd.set_option(\"display.max_rows\", 10, \"display.max_columns\", 10)\n",
    "plt.style.use('seaborn')\n",
    "sns.set_style('whitegrid')"
   ]
  },
  {
   "cell_type": "code",
   "execution_count": 3,
   "id": "dd8e02ae-ca42-434a-a8be-0289d79b71eb",
   "metadata": {},
   "outputs": [
    {
     "data": {
      "text/html": [
       "<div>\n",
       "<style scoped>\n",
       "    .dataframe tbody tr th:only-of-type {\n",
       "        vertical-align: middle;\n",
       "    }\n",
       "\n",
       "    .dataframe tbody tr th {\n",
       "        vertical-align: top;\n",
       "    }\n",
       "\n",
       "    .dataframe thead th {\n",
       "        text-align: right;\n",
       "    }\n",
       "</style>\n",
       "<table border=\"1\" class=\"dataframe\">\n",
       "  <thead>\n",
       "    <tr style=\"text-align: right;\">\n",
       "      <th></th>\n",
       "      <th>Series id</th>\n",
       "      <th>Year</th>\n",
       "      <th>Period</th>\n",
       "      <th>Value</th>\n",
       "    </tr>\n",
       "  </thead>\n",
       "  <tbody>\n",
       "    <tr>\n",
       "      <th>0</th>\n",
       "      <td>LNS14000000</td>\n",
       "      <td>1948</td>\n",
       "      <td>M01</td>\n",
       "      <td>3.4</td>\n",
       "    </tr>\n",
       "    <tr>\n",
       "      <th>1</th>\n",
       "      <td>LNS14000000</td>\n",
       "      <td>1948</td>\n",
       "      <td>M02</td>\n",
       "      <td>3.8</td>\n",
       "    </tr>\n",
       "    <tr>\n",
       "      <th>2</th>\n",
       "      <td>LNS14000000</td>\n",
       "      <td>1948</td>\n",
       "      <td>M03</td>\n",
       "      <td>4.0</td>\n",
       "    </tr>\n",
       "    <tr>\n",
       "      <th>3</th>\n",
       "      <td>LNS14000000</td>\n",
       "      <td>1948</td>\n",
       "      <td>M04</td>\n",
       "      <td>3.9</td>\n",
       "    </tr>\n",
       "    <tr>\n",
       "      <th>4</th>\n",
       "      <td>LNS14000000</td>\n",
       "      <td>1948</td>\n",
       "      <td>M05</td>\n",
       "      <td>3.5</td>\n",
       "    </tr>\n",
       "    <tr>\n",
       "      <th>...</th>\n",
       "      <td>...</td>\n",
       "      <td>...</td>\n",
       "      <td>...</td>\n",
       "      <td>...</td>\n",
       "    </tr>\n",
       "    <tr>\n",
       "      <th>741</th>\n",
       "      <td>LNS14000000</td>\n",
       "      <td>2009</td>\n",
       "      <td>M10</td>\n",
       "      <td>10.1</td>\n",
       "    </tr>\n",
       "    <tr>\n",
       "      <th>742</th>\n",
       "      <td>LNS14000000</td>\n",
       "      <td>2009</td>\n",
       "      <td>M11</td>\n",
       "      <td>10.0</td>\n",
       "    </tr>\n",
       "    <tr>\n",
       "      <th>743</th>\n",
       "      <td>LNS14000000</td>\n",
       "      <td>2009</td>\n",
       "      <td>M12</td>\n",
       "      <td>10.0</td>\n",
       "    </tr>\n",
       "    <tr>\n",
       "      <th>744</th>\n",
       "      <td>LNS14000000</td>\n",
       "      <td>2010</td>\n",
       "      <td>M01</td>\n",
       "      <td>9.7</td>\n",
       "    </tr>\n",
       "    <tr>\n",
       "      <th>745</th>\n",
       "      <td>LNS14000000</td>\n",
       "      <td>2010</td>\n",
       "      <td>M02</td>\n",
       "      <td>9.7</td>\n",
       "    </tr>\n",
       "  </tbody>\n",
       "</table>\n",
       "<p>746 rows × 4 columns</p>\n",
       "</div>"
      ],
      "text/plain": [
       "       Series id  Year Period  Value\n",
       "0    LNS14000000  1948    M01    3.4\n",
       "1    LNS14000000  1948    M02    3.8\n",
       "2    LNS14000000  1948    M03    4.0\n",
       "3    LNS14000000  1948    M04    3.9\n",
       "4    LNS14000000  1948    M05    3.5\n",
       "..           ...   ...    ...    ...\n",
       "741  LNS14000000  2009    M10   10.1\n",
       "742  LNS14000000  2009    M11   10.0\n",
       "743  LNS14000000  2009    M12   10.0\n",
       "744  LNS14000000  2010    M01    9.7\n",
       "745  LNS14000000  2010    M02    9.7\n",
       "\n",
       "[746 rows x 4 columns]"
      ]
     },
     "execution_count": 3,
     "metadata": {},
     "output_type": "execute_result"
    }
   ],
   "source": [
    "# Data import\n",
    "dfu = pd.read_csv('unemployement-rate-1948-2010.csv')\n",
    "dfu"
   ]
  },
  {
   "cell_type": "code",
   "execution_count": 4,
   "id": "6bc74dad-4185-4f94-868d-abfb2c270a1b",
   "metadata": {},
   "outputs": [
    {
     "data": {
      "text/plain": [
       "Series id     object\n",
       "Year           int64\n",
       "Period        object\n",
       "Value        float64\n",
       "dtype: object"
      ]
     },
     "execution_count": 4,
     "metadata": {},
     "output_type": "execute_result"
    }
   ],
   "source": [
    "dfu.dtypes"
   ]
  },
  {
   "cell_type": "code",
   "execution_count": 5,
   "id": "6cdff473-7b7e-429b-9744-425b446164d3",
   "metadata": {},
   "outputs": [
    {
     "data": {
      "text/html": [
       "<div>\n",
       "<style scoped>\n",
       "    .dataframe tbody tr th:only-of-type {\n",
       "        vertical-align: middle;\n",
       "    }\n",
       "\n",
       "    .dataframe tbody tr th {\n",
       "        vertical-align: top;\n",
       "    }\n",
       "\n",
       "    .dataframe thead th {\n",
       "        text-align: right;\n",
       "    }\n",
       "</style>\n",
       "<table border=\"1\" class=\"dataframe\">\n",
       "  <thead>\n",
       "    <tr style=\"text-align: right;\">\n",
       "      <th></th>\n",
       "      <th>year</th>\n",
       "      <th>category</th>\n",
       "      <th>expenditure</th>\n",
       "      <th>sex</th>\n",
       "    </tr>\n",
       "  </thead>\n",
       "  <tbody>\n",
       "    <tr>\n",
       "      <th>0</th>\n",
       "      <td>2008</td>\n",
       "      <td>Food</td>\n",
       "      <td>6443</td>\n",
       "      <td>1</td>\n",
       "    </tr>\n",
       "    <tr>\n",
       "      <th>1</th>\n",
       "      <td>2008</td>\n",
       "      <td>Alcoholic Beverages</td>\n",
       "      <td>444</td>\n",
       "      <td>1</td>\n",
       "    </tr>\n",
       "    <tr>\n",
       "      <th>2</th>\n",
       "      <td>2008</td>\n",
       "      <td>Housing</td>\n",
       "      <td>17109</td>\n",
       "      <td>1</td>\n",
       "    </tr>\n",
       "    <tr>\n",
       "      <th>3</th>\n",
       "      <td>2008</td>\n",
       "      <td>Apparel</td>\n",
       "      <td>1801</td>\n",
       "      <td>1</td>\n",
       "    </tr>\n",
       "    <tr>\n",
       "      <th>4</th>\n",
       "      <td>2008</td>\n",
       "      <td>Transportation</td>\n",
       "      <td>8604</td>\n",
       "      <td>1</td>\n",
       "    </tr>\n",
       "    <tr>\n",
       "      <th>...</th>\n",
       "      <td>...</td>\n",
       "      <td>...</td>\n",
       "      <td>...</td>\n",
       "      <td>...</td>\n",
       "    </tr>\n",
       "    <tr>\n",
       "      <th>345</th>\n",
       "      <td>1984</td>\n",
       "      <td>Education</td>\n",
       "      <td>303</td>\n",
       "      <td>1</td>\n",
       "    </tr>\n",
       "    <tr>\n",
       "      <th>346</th>\n",
       "      <td>1984</td>\n",
       "      <td>Tobacco Products</td>\n",
       "      <td>228</td>\n",
       "      <td>1</td>\n",
       "    </tr>\n",
       "    <tr>\n",
       "      <th>347</th>\n",
       "      <td>1984</td>\n",
       "      <td>Miscellaneous</td>\n",
       "      <td>451</td>\n",
       "      <td>1</td>\n",
       "    </tr>\n",
       "    <tr>\n",
       "      <th>348</th>\n",
       "      <td>1984</td>\n",
       "      <td>Cash Contributions</td>\n",
       "      <td>706</td>\n",
       "      <td>1</td>\n",
       "    </tr>\n",
       "    <tr>\n",
       "      <th>349</th>\n",
       "      <td>1984</td>\n",
       "      <td>Personal Insurance</td>\n",
       "      <td>1897</td>\n",
       "      <td>1</td>\n",
       "    </tr>\n",
       "  </tbody>\n",
       "</table>\n",
       "<p>350 rows × 4 columns</p>\n",
       "</div>"
      ],
      "text/plain": [
       "     year             category  expenditure  sex\n",
       "0    2008                 Food         6443    1\n",
       "1    2008  Alcoholic Beverages          444    1\n",
       "2    2008              Housing        17109    1\n",
       "3    2008              Apparel         1801    1\n",
       "4    2008       Transportation         8604    1\n",
       "..    ...                  ...          ...  ...\n",
       "345  1984            Education          303    1\n",
       "346  1984     Tobacco Products          228    1\n",
       "347  1984        Miscellaneous          451    1\n",
       "348  1984   Cash Contributions          706    1\n",
       "349  1984   Personal Insurance         1897    1\n",
       "\n",
       "[350 rows x 4 columns]"
      ]
     },
     "execution_count": 5,
     "metadata": {},
     "output_type": "execute_result"
    }
   ],
   "source": [
    "dfe = pd.read_csv('expenditures.txt', sep='\\t')\n",
    "dfe"
   ]
  },
  {
   "cell_type": "code",
   "execution_count": 6,
   "id": "4b5e975d-8016-4a00-a098-a77c47cb2247",
   "metadata": {},
   "outputs": [
    {
     "data": {
      "text/html": [
       "<div>\n",
       "<style scoped>\n",
       "    .dataframe tbody tr th:only-of-type {\n",
       "        vertical-align: middle;\n",
       "    }\n",
       "\n",
       "    .dataframe tbody tr th {\n",
       "        vertical-align: top;\n",
       "    }\n",
       "\n",
       "    .dataframe thead th {\n",
       "        text-align: right;\n",
       "    }\n",
       "</style>\n",
       "<table border=\"1\" class=\"dataframe\">\n",
       "  <thead>\n",
       "    <tr style=\"text-align: right;\">\n",
       "      <th></th>\n",
       "      <th>year</th>\n",
       "      <th>expenditure</th>\n",
       "      <th>sex</th>\n",
       "    </tr>\n",
       "  </thead>\n",
       "  <tbody>\n",
       "    <tr>\n",
       "      <th>count</th>\n",
       "      <td>350.000000</td>\n",
       "      <td>350.000000</td>\n",
       "      <td>350.0</td>\n",
       "    </tr>\n",
       "    <tr>\n",
       "      <th>mean</th>\n",
       "      <td>1996.000000</td>\n",
       "      <td>2482.674286</td>\n",
       "      <td>1.0</td>\n",
       "    </tr>\n",
       "    <tr>\n",
       "      <th>std</th>\n",
       "      <td>7.221426</td>\n",
       "      <td>3176.732830</td>\n",
       "      <td>0.0</td>\n",
       "    </tr>\n",
       "    <tr>\n",
       "      <th>min</th>\n",
       "      <td>1984.000000</td>\n",
       "      <td>116.000000</td>\n",
       "      <td>1.0</td>\n",
       "    </tr>\n",
       "    <tr>\n",
       "      <th>25%</th>\n",
       "      <td>1990.000000</td>\n",
       "      <td>401.500000</td>\n",
       "      <td>1.0</td>\n",
       "    </tr>\n",
       "    <tr>\n",
       "      <th>50%</th>\n",
       "      <td>1996.000000</td>\n",
       "      <td>1225.500000</td>\n",
       "      <td>1.0</td>\n",
       "    </tr>\n",
       "    <tr>\n",
       "      <th>75%</th>\n",
       "      <td>2002.000000</td>\n",
       "      <td>3039.000000</td>\n",
       "      <td>1.0</td>\n",
       "    </tr>\n",
       "    <tr>\n",
       "      <th>max</th>\n",
       "      <td>2008.000000</td>\n",
       "      <td>17109.000000</td>\n",
       "      <td>1.0</td>\n",
       "    </tr>\n",
       "  </tbody>\n",
       "</table>\n",
       "</div>"
      ],
      "text/plain": [
       "              year   expenditure    sex\n",
       "count   350.000000    350.000000  350.0\n",
       "mean   1996.000000   2482.674286    1.0\n",
       "std       7.221426   3176.732830    0.0\n",
       "min    1984.000000    116.000000    1.0\n",
       "25%    1990.000000    401.500000    1.0\n",
       "50%    1996.000000   1225.500000    1.0\n",
       "75%    2002.000000   3039.000000    1.0\n",
       "max    2008.000000  17109.000000    1.0"
      ]
     },
     "execution_count": 6,
     "metadata": {},
     "output_type": "execute_result"
    }
   ],
   "source": [
    "dfe.describe()"
   ]
  },
  {
   "cell_type": "markdown",
   "id": "1949bc32-118c-4b03-92a2-3afd57cf1284",
   "metadata": {
    "tags": []
   },
   "source": [
    "### Applying Charts"
   ]
  },
  {
   "cell_type": "markdown",
   "id": "d67d5723-0c56-433d-8215-c0fcb2d4edb5",
   "metadata": {},
   "source": [
    "#### Treemap Chart"
   ]
  },
  {
   "cell_type": "code",
   "execution_count": 7,
   "id": "67c96a12-e5fe-4858-8841-7d6c83732bff",
   "metadata": {},
   "outputs": [
    {
     "data": {
      "text/plain": [
       "category\n",
       "Housing               280256\n",
       "Transportation        160694\n",
       "Food                  119297\n",
       "Personal Insurance     84269\n",
       "Healthcare             47383\n",
       "Name: expenditure, dtype: int64"
      ]
     },
     "execution_count": 7,
     "metadata": {},
     "output_type": "execute_result"
    }
   ],
   "source": [
    "# Top 5 expenditure categories\n",
    "dfe_top5 = dfe.groupby('category')['expenditure'].sum().nlargest(5)\n",
    "dfe_top5"
   ]
  },
  {
   "cell_type": "code",
   "execution_count": 8,
   "id": "f67183b4-16fe-487e-b0ae-ba112cd310bf",
   "metadata": {},
   "outputs": [
    {
     "data": {
      "text/plain": [
       "(0.0, 100.0, 0.0, 100.0)"
      ]
     },
     "execution_count": 8,
     "metadata": {},
     "output_type": "execute_result"
    },
    {
     "data": {
      "image/png": "[encoded data removed]",
      "text/plain": [
       "<Figure size 1440x720 with 1 Axes>"
      ]
     },
     "metadata": {},
     "output_type": "display_data"
    }
   ],
   "source": [
    "fig, ax = plt.subplots(figsize=(20, 10))\n",
    "\n",
    "# Plot\n",
    "squarify.plot(sizes = dfe_top5.values, label = dfe_top5.index, \n",
    "              color = sns.color_palette(\"OrRd_r\", len(dfe_top5.values)))\n",
    "\n",
    "# Format\n",
    "plt.title('Python - Treemap\\nTop 5 Categories by Expenditure', fontsize=25)\n",
    "ax.axis('off')"
   ]
  },
  {
   "cell_type": "markdown",
   "id": "ad0e29ca-e2fc-427b-b14d-1013797cf409",
   "metadata": {},
   "source": [
    "#### Area Chart"
   ]
  },
  {
   "cell_type": "code",
   "execution_count": 9,
   "id": "0b69de08-197e-4048-b4e5-0ba213da88f5",
   "metadata": {},
   "outputs": [
    {
     "data": {
      "text/plain": [
       "year\n",
       "1984    21972\n",
       "1985    23489\n",
       "1986    23865\n",
       "1987    24415\n",
       "1988    25893\n",
       "        ...  \n",
       "2004    43392\n",
       "2005    46407\n",
       "2006    48400\n",
       "2007    49619\n",
       "2008    50489\n",
       "Name: expenditure, Length: 25, dtype: int64"
      ]
     },
     "execution_count": 9,
     "metadata": {},
     "output_type": "execute_result"
    }
   ],
   "source": [
    "# Expenditure per year\n",
    "dfe_year = dfe.groupby('year')['expenditure'].sum()\n",
    "dfe_year"
   ]
  },
  {
   "cell_type": "code",
   "execution_count": 10,
   "id": "09c0206d-fdba-4700-b52a-681e2aee203e",
   "metadata": {},
   "outputs": [
    {
     "data": {
      "text/plain": [
       "Text(0.5, 1.0, 'Python - Area Chart\\nExpenditures By Year')"
      ]
     },
     "execution_count": 10,
     "metadata": {},
     "output_type": "execute_result"
    },
    {
     "data": {
      "image/png": "[encoded data removed]",
      "text/plain": [
       "<Figure size 1440x720 with 1 Axes>"
      ]
     },
     "metadata": {},
     "output_type": "display_data"
    }
   ],
   "source": [
    "fig, ax = plt.subplots(figsize=(20, 10))\n",
    "\n",
    "# Plot\n",
    "ax.fill_between(dfe_year.keys(), dfe_year.values, color='orange')\n",
    "\n",
    "# Format\n",
    "\n",
    "plt.xlabel('Year', fontsize=15)\n",
    "plt.xticks(fontsize=13)\n",
    "plt.ylabel('Expenditures', fontsize=15)\n",
    "plt.yticks(fontsize=13)\n",
    "plt.title('Python - Area Chart\\nExpenditures By Year', fontsize=25)"
   ]
  },
  {
   "cell_type": "markdown",
   "id": "2236db5d-33e4-40b4-9a20-3b139a2bc51e",
   "metadata": {},
   "source": [
    "#### Stacked Area Chart"
   ]
  },
  {
   "cell_type": "code",
   "execution_count": 11,
   "id": "236bf3f6-8602-4835-9885-1bf4787a8e4e",
   "metadata": {},
   "outputs": [
    {
     "data": {
      "text/plain": [
       "{'2009': [7.7, 8.2, 8.6, 8.9, 9.4, 9.5, 9.4, 9.7, 9.8, 10.1, 10.0, 10.0],\n",
       " '1999': [4.3, 4.4, 4.2, 4.3, 4.2, 4.3, 4.3, 4.2, 4.2, 4.1, 4.1, 4.0],\n",
       " '1989': [5.4, 5.2, 5.0, 5.2, 5.2, 5.3, 5.2, 5.2, 5.3, 5.3, 5.4, 5.4]}"
      ]
     },
     "execution_count": 11,
     "metadata": {},
     "output_type": "execute_result"
    }
   ],
   "source": [
    "# Creating a 10 year stacked area chart 2009, 1999, 1989\n",
    "# Y axis variables\n",
    "fy_2009 = list(dfu[dfu['Year'] == 2009]['Value'])\n",
    "fy_1999 = list(dfu[dfu['Year'] == 1999]['Value'])\n",
    "fy_1989 = list(dfu[dfu['Year'] == 1989]['Value'])\n",
    "\n",
    "y = {\n",
    "    '2009' : fy_2009,\n",
    "    '1999' : fy_1999,\n",
    "    '1989' : fy_1989\n",
    "}\n",
    "\n",
    "y"
   ]
  },
  {
   "cell_type": "code",
   "execution_count": 12,
   "id": "4738d7b4-e2ed-45d1-abbf-a783b2b07321",
   "metadata": {},
   "outputs": [
    {
     "data": {
      "text/plain": [
       "['1', '2', '3', '4', '5', '6', '7', '8', '9', '10', '11', '12']"
      ]
     },
     "execution_count": 12,
     "metadata": {},
     "output_type": "execute_result"
    }
   ],
   "source": [
    "# X axis variable\n",
    "x = ['1', '2', '3', '4', '5', '6', '7', '8', '9', '10', '11', '12']\n",
    "\n",
    "x"
   ]
  },
  {
   "cell_type": "code",
   "execution_count": 13,
   "id": "fa0e7a49-66cc-4426-9e66-8097c3ae9668",
   "metadata": {},
   "outputs": [
    {
     "data": {
      "text/plain": [
       "<matplotlib.legend.Legend at 0x1d2315817f0>"
      ]
     },
     "execution_count": 13,
     "metadata": {},
     "output_type": "execute_result"
    },
    {
     "data": {
      "image/png": "[encoded data removed]",
      "text/plain": [
       "<Figure size 1440x720 with 1 Axes>"
      ]
     },
     "metadata": {},
     "output_type": "display_data"
    }
   ],
   "source": [
    "fig, ax = plt.subplots(figsize=(20, 10))\n",
    "\n",
    "# Plot\n",
    "ax.stackplot(x, y.values(), labels = y.keys(), colors = ['red', 'orange', 'yellow'])\n",
    "\n",
    "# Format\n",
    "plt.xlabel('Month', fontsize=15)\n",
    "plt.xticks(fontsize=13)\n",
    "plt.ylabel('Unemployment Rates', fontsize=15)\n",
    "plt.yticks(fontsize=13)\n",
    "plt.title('Python - Stacked Area Chart\\n10 Yr Unemployment Rates',fontsize=25)\n",
    "\n",
    "\n",
    "ax.legend(loc = 'upper left')"
   ]
  },
  {
   "cell_type": "code",
   "execution_count": null,
   "id": "bb3354b7-e404-4ecf-970a-bafc306141f1",
   "metadata": {},
   "outputs": [],
   "source": []
  },
  {
   "cell_type": "code",
   "execution_count": null,
   "id": "6cd1e7f1-8cb2-4d1d-8951-b7fd3dd20bd7",
   "metadata": {},
   "outputs": [],
   "source": []
  }
 ],
 "metadata": {
  "kernelspec": {
   "display_name": "Python 3 (ipykernel)",
   "language": "python",
   "name": "python3"
  },
  "language_info": {
   "codemirror_mode": {
    "name": "ipython",
    "version": 3
   },
   "file_extension": ".py",
   "mimetype": "text/x-python",
   "name": "python",
   "nbconvert_exporter": "python",
   "pygments_lexer": "ipython3",
   "version": "3.9.12"
  }
 },
 "nbformat": 4,
 "nbformat_minor": 5
}
