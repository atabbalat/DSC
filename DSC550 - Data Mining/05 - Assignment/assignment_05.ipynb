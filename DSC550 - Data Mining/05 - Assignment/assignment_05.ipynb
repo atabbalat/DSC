{
 "cells": [
  {
   "cell_type": "markdown",
   "id": "blank-productivity",
   "metadata": {},
   "source": [
    "### Week 5\n",
    "### DSC 550\n",
    "### Abed Tabbalat"
   ]
  },
  {
   "cell_type": "code",
   "execution_count": 1,
   "id": "moderate-board",
   "metadata": {},
   "outputs": [
    {
     "name": "stderr",
     "output_type": "stream",
     "text": [
      "[nltk_data] Downloading package vader_lexicon to\n",
      "[nltk_data]     C:\\Users\\abedt\\AppData\\Roaming\\nltk_data...\n",
      "[nltk_data]   Package vader_lexicon is already up-to-date!\n",
      "[nltk_data] Downloading package stopwords to\n",
      "[nltk_data]     C:\\Users\\abedt\\AppData\\Roaming\\nltk_data...\n",
      "[nltk_data]   Package stopwords is already up-to-date!\n",
      "[nltk_data] Downloading package punkt to\n",
      "[nltk_data]     C:\\Users\\abedt\\AppData\\Roaming\\nltk_data...\n",
      "[nltk_data]   Package punkt is already up-to-date!\n"
     ]
    }
   ],
   "source": [
    "import pandas as pd\n",
    "from textblob import TextBlob\n",
    "from sklearn.metrics import accuracy_score\n",
    "import nltk\n",
    "from nltk.sentiment.vader import SentimentIntensityAnalyzer\n",
    "nltk.download('vader_lexicon')\n",
    "nltk.download('stopwords')\n",
    "from nltk.corpus import stopwords\n",
    "from nltk.tokenize import word_tokenize\n",
    "nltk.download('punkt')\n",
    "from nltk.stem import PorterStemmer\n",
    "from sklearn.feature_extraction.text import CountVectorizer\n",
    "from sklearn.feature_extraction.text import TfidfVectorizer\n",
    "from sklearn.model_selection import train_test_split\n",
    "from sklearn.feature_extraction.text import TfidfVectorizer\n",
    "from sklearn.linear_model import LogisticRegression\n",
    "from sklearn.metrics import plot_confusion_matrix\n",
    "from yellowbrick.classifier import ConfusionMatrix\n",
    "from yellowbrick.classifier import ClassificationReport\n",
    "from yellowbrick.classifier import ROCAUC\n",
    "from sklearn.ensemble import RandomForestClassifier"
   ]
  },
  {
   "cell_type": "code",
   "execution_count": 5,
   "id": "suburban-theory",
   "metadata": {},
   "outputs": [
    {
     "data": {
      "text/html": [
       "<div>\n",
       "<style scoped>\n",
       "    .dataframe tbody tr th:only-of-type {\n",
       "        vertical-align: middle;\n",
       "    }\n",
       "\n",
       "    .dataframe tbody tr th {\n",
       "        vertical-align: top;\n",
       "    }\n",
       "\n",
       "    .dataframe thead th {\n",
       "        text-align: right;\n",
       "    }\n",
       "</style>\n",
       "<table border=\"1\" class=\"dataframe\">\n",
       "  <thead>\n",
       "    <tr style=\"text-align: right;\">\n",
       "      <th></th>\n",
       "      <th>id</th>\n",
       "      <th>sentiment</th>\n",
       "      <th>review</th>\n",
       "    </tr>\n",
       "  </thead>\n",
       "  <tbody>\n",
       "    <tr>\n",
       "      <th>0</th>\n",
       "      <td>5814_8</td>\n",
       "      <td>1</td>\n",
       "      <td>With all this stuff going down at the moment w...</td>\n",
       "    </tr>\n",
       "    <tr>\n",
       "      <th>1</th>\n",
       "      <td>2381_9</td>\n",
       "      <td>1</td>\n",
       "      <td>\\The Classic War of the Worlds\\\" by Timothy Hi...</td>\n",
       "    </tr>\n",
       "    <tr>\n",
       "      <th>2</th>\n",
       "      <td>7759_3</td>\n",
       "      <td>0</td>\n",
       "      <td>The film starts with a manager (Nicholas Bell)...</td>\n",
       "    </tr>\n",
       "    <tr>\n",
       "      <th>3</th>\n",
       "      <td>3630_4</td>\n",
       "      <td>0</td>\n",
       "      <td>It must be assumed that those who praised this...</td>\n",
       "    </tr>\n",
       "    <tr>\n",
       "      <th>4</th>\n",
       "      <td>9495_8</td>\n",
       "      <td>1</td>\n",
       "      <td>Superbly trashy and wondrously unpretentious 8...</td>\n",
       "    </tr>\n",
       "    <tr>\n",
       "      <th>...</th>\n",
       "      <td>...</td>\n",
       "      <td>...</td>\n",
       "      <td>...</td>\n",
       "    </tr>\n",
       "    <tr>\n",
       "      <th>24995</th>\n",
       "      <td>3453_3</td>\n",
       "      <td>0</td>\n",
       "      <td>It seems like more consideration has gone into...</td>\n",
       "    </tr>\n",
       "    <tr>\n",
       "      <th>24996</th>\n",
       "      <td>5064_1</td>\n",
       "      <td>0</td>\n",
       "      <td>I don't believe they made this film. Completel...</td>\n",
       "    </tr>\n",
       "    <tr>\n",
       "      <th>24997</th>\n",
       "      <td>10905_3</td>\n",
       "      <td>0</td>\n",
       "      <td>Guy is a loser. Can't get girls, needs to buil...</td>\n",
       "    </tr>\n",
       "    <tr>\n",
       "      <th>24998</th>\n",
       "      <td>10194_3</td>\n",
       "      <td>0</td>\n",
       "      <td>This 30 minute documentary Buñuel made in the ...</td>\n",
       "    </tr>\n",
       "    <tr>\n",
       "      <th>24999</th>\n",
       "      <td>8478_8</td>\n",
       "      <td>1</td>\n",
       "      <td>I saw this movie as a child and it broke my he...</td>\n",
       "    </tr>\n",
       "  </tbody>\n",
       "</table>\n",
       "<p>25000 rows × 3 columns</p>\n",
       "</div>"
      ],
      "text/plain": [
       "            id  sentiment                                             review\n",
       "0       5814_8          1  With all this stuff going down at the moment w...\n",
       "1       2381_9          1  \\The Classic War of the Worlds\\\" by Timothy Hi...\n",
       "2       7759_3          0  The film starts with a manager (Nicholas Bell)...\n",
       "3       3630_4          0  It must be assumed that those who praised this...\n",
       "4       9495_8          1  Superbly trashy and wondrously unpretentious 8...\n",
       "...        ...        ...                                                ...\n",
       "24995   3453_3          0  It seems like more consideration has gone into...\n",
       "24996   5064_1          0  I don't believe they made this film. Completel...\n",
       "24997  10905_3          0  Guy is a loser. Can't get girls, needs to buil...\n",
       "24998  10194_3          0  This 30 minute documentary Buñuel made in the ...\n",
       "24999   8478_8          1  I saw this movie as a child and it broke my he...\n",
       "\n",
       "[25000 rows x 3 columns]"
      ]
     },
     "execution_count": 5,
     "metadata": {},
     "output_type": "execute_result"
    }
   ],
   "source": [
    "# Get the stemmed data using the same process you did in Week 3.\n",
    "## Importing data\n",
    "df = pd.read_csv('labeledTrainData.tsv', sep='\\t')\n",
    "df"
   ]
  },
  {
   "cell_type": "code",
   "execution_count": 6,
   "id": "personalized-vegetarian",
   "metadata": {},
   "outputs": [],
   "source": [
    "## Adding functions to breakout Subjectivity and Polarity\n",
    "def getSubjectivity(text):\n",
    "    return TextBlob(text).sentiment.subjectivity\n",
    "def getPolarity(text):\n",
    "    return TextBlob(text).sentiment.polarity"
   ]
  },
  {
   "cell_type": "code",
   "execution_count": 7,
   "id": "reflected-workstation",
   "metadata": {},
   "outputs": [
    {
     "data": {
      "text/html": [
       "<div>\n",
       "<style scoped>\n",
       "    .dataframe tbody tr th:only-of-type {\n",
       "        vertical-align: middle;\n",
       "    }\n",
       "\n",
       "    .dataframe tbody tr th {\n",
       "        vertical-align: top;\n",
       "    }\n",
       "\n",
       "    .dataframe thead th {\n",
       "        text-align: right;\n",
       "    }\n",
       "</style>\n",
       "<table border=\"1\" class=\"dataframe\">\n",
       "  <thead>\n",
       "    <tr style=\"text-align: right;\">\n",
       "      <th></th>\n",
       "      <th>id</th>\n",
       "      <th>sentiment</th>\n",
       "      <th>review</th>\n",
       "      <th>BlobSubjectivity</th>\n",
       "      <th>BlobPolarity</th>\n",
       "    </tr>\n",
       "  </thead>\n",
       "  <tbody>\n",
       "    <tr>\n",
       "      <th>0</th>\n",
       "      <td>5814_8</td>\n",
       "      <td>1</td>\n",
       "      <td>With all this stuff going down at the moment w...</td>\n",
       "      <td>0.606746</td>\n",
       "      <td>0.001277</td>\n",
       "    </tr>\n",
       "    <tr>\n",
       "      <th>1</th>\n",
       "      <td>2381_9</td>\n",
       "      <td>1</td>\n",
       "      <td>\\The Classic War of the Worlds\\\" by Timothy Hi...</td>\n",
       "      <td>0.531111</td>\n",
       "      <td>0.256349</td>\n",
       "    </tr>\n",
       "    <tr>\n",
       "      <th>2</th>\n",
       "      <td>7759_3</td>\n",
       "      <td>0</td>\n",
       "      <td>The film starts with a manager (Nicholas Bell)...</td>\n",
       "      <td>0.562933</td>\n",
       "      <td>-0.053941</td>\n",
       "    </tr>\n",
       "    <tr>\n",
       "      <th>3</th>\n",
       "      <td>3630_4</td>\n",
       "      <td>0</td>\n",
       "      <td>It must be assumed that those who praised this...</td>\n",
       "      <td>0.492901</td>\n",
       "      <td>0.134753</td>\n",
       "    </tr>\n",
       "    <tr>\n",
       "      <th>4</th>\n",
       "      <td>9495_8</td>\n",
       "      <td>1</td>\n",
       "      <td>Superbly trashy and wondrously unpretentious 8...</td>\n",
       "      <td>0.459818</td>\n",
       "      <td>-0.024842</td>\n",
       "    </tr>\n",
       "    <tr>\n",
       "      <th>...</th>\n",
       "      <td>...</td>\n",
       "      <td>...</td>\n",
       "      <td>...</td>\n",
       "      <td>...</td>\n",
       "      <td>...</td>\n",
       "    </tr>\n",
       "    <tr>\n",
       "      <th>24995</th>\n",
       "      <td>3453_3</td>\n",
       "      <td>0</td>\n",
       "      <td>It seems like more consideration has gone into...</td>\n",
       "      <td>0.542857</td>\n",
       "      <td>0.102083</td>\n",
       "    </tr>\n",
       "    <tr>\n",
       "      <th>24996</th>\n",
       "      <td>5064_1</td>\n",
       "      <td>0</td>\n",
       "      <td>I don't believe they made this film. Completel...</td>\n",
       "      <td>0.462371</td>\n",
       "      <td>0.090813</td>\n",
       "    </tr>\n",
       "    <tr>\n",
       "      <th>24997</th>\n",
       "      <td>10905_3</td>\n",
       "      <td>0</td>\n",
       "      <td>Guy is a loser. Can't get girls, needs to buil...</td>\n",
       "      <td>0.484103</td>\n",
       "      <td>0.145256</td>\n",
       "    </tr>\n",
       "    <tr>\n",
       "      <th>24998</th>\n",
       "      <td>10194_3</td>\n",
       "      <td>0</td>\n",
       "      <td>This 30 minute documentary Buñuel made in the ...</td>\n",
       "      <td>0.504514</td>\n",
       "      <td>0.065625</td>\n",
       "    </tr>\n",
       "    <tr>\n",
       "      <th>24999</th>\n",
       "      <td>8478_8</td>\n",
       "      <td>1</td>\n",
       "      <td>I saw this movie as a child and it broke my he...</td>\n",
       "      <td>0.735897</td>\n",
       "      <td>0.239295</td>\n",
       "    </tr>\n",
       "  </tbody>\n",
       "</table>\n",
       "<p>25000 rows × 5 columns</p>\n",
       "</div>"
      ],
      "text/plain": [
       "            id  sentiment                                             review  \\\n",
       "0       5814_8          1  With all this stuff going down at the moment w...   \n",
       "1       2381_9          1  \\The Classic War of the Worlds\\\" by Timothy Hi...   \n",
       "2       7759_3          0  The film starts with a manager (Nicholas Bell)...   \n",
       "3       3630_4          0  It must be assumed that those who praised this...   \n",
       "4       9495_8          1  Superbly trashy and wondrously unpretentious 8...   \n",
       "...        ...        ...                                                ...   \n",
       "24995   3453_3          0  It seems like more consideration has gone into...   \n",
       "24996   5064_1          0  I don't believe they made this film. Completel...   \n",
       "24997  10905_3          0  Guy is a loser. Can't get girls, needs to buil...   \n",
       "24998  10194_3          0  This 30 minute documentary Buñuel made in the ...   \n",
       "24999   8478_8          1  I saw this movie as a child and it broke my he...   \n",
       "\n",
       "       BlobSubjectivity  BlobPolarity  \n",
       "0              0.606746      0.001277  \n",
       "1              0.531111      0.256349  \n",
       "2              0.562933     -0.053941  \n",
       "3              0.492901      0.134753  \n",
       "4              0.459818     -0.024842  \n",
       "...                 ...           ...  \n",
       "24995          0.542857      0.102083  \n",
       "24996          0.462371      0.090813  \n",
       "24997          0.484103      0.145256  \n",
       "24998          0.504514      0.065625  \n",
       "24999          0.735897      0.239295  \n",
       "\n",
       "[25000 rows x 5 columns]"
      ]
     },
     "execution_count": 7,
     "metadata": {},
     "output_type": "execute_result"
    }
   ],
   "source": [
    "## Use TextBlob to classify each movie review as positive or negative. Assume that a polarity score greater than or equal to zero is a positive sentiment and less than 0 is a negative sentiment.\n",
    "df['BlobSubjectivity'] = df['review'].apply(getSubjectivity)\n",
    "df['BlobPolarity'] = df['review'].apply(getPolarity)\n",
    "df"
   ]
  },
  {
   "cell_type": "code",
   "execution_count": 8,
   "id": "interpreted-thursday",
   "metadata": {},
   "outputs": [
    {
     "data": {
      "text/html": [
       "<div>\n",
       "<style scoped>\n",
       "    .dataframe tbody tr th:only-of-type {\n",
       "        vertical-align: middle;\n",
       "    }\n",
       "\n",
       "    .dataframe tbody tr th {\n",
       "        vertical-align: top;\n",
       "    }\n",
       "\n",
       "    .dataframe thead th {\n",
       "        text-align: right;\n",
       "    }\n",
       "</style>\n",
       "<table border=\"1\" class=\"dataframe\">\n",
       "  <thead>\n",
       "    <tr style=\"text-align: right;\">\n",
       "      <th></th>\n",
       "      <th>id</th>\n",
       "      <th>sentiment</th>\n",
       "      <th>review</th>\n",
       "      <th>BlobSubjectivity</th>\n",
       "      <th>BlobPolarity</th>\n",
       "      <th>Blob_Sentiment</th>\n",
       "    </tr>\n",
       "  </thead>\n",
       "  <tbody>\n",
       "    <tr>\n",
       "      <th>0</th>\n",
       "      <td>5814_8</td>\n",
       "      <td>1</td>\n",
       "      <td>With all this stuff going down at the moment w...</td>\n",
       "      <td>0.606746</td>\n",
       "      <td>0.001277</td>\n",
       "      <td>1</td>\n",
       "    </tr>\n",
       "    <tr>\n",
       "      <th>1</th>\n",
       "      <td>2381_9</td>\n",
       "      <td>1</td>\n",
       "      <td>\\The Classic War of the Worlds\\\" by Timothy Hi...</td>\n",
       "      <td>0.531111</td>\n",
       "      <td>0.256349</td>\n",
       "      <td>1</td>\n",
       "    </tr>\n",
       "    <tr>\n",
       "      <th>2</th>\n",
       "      <td>7759_3</td>\n",
       "      <td>0</td>\n",
       "      <td>The film starts with a manager (Nicholas Bell)...</td>\n",
       "      <td>0.562933</td>\n",
       "      <td>-0.053941</td>\n",
       "      <td>0</td>\n",
       "    </tr>\n",
       "    <tr>\n",
       "      <th>3</th>\n",
       "      <td>3630_4</td>\n",
       "      <td>0</td>\n",
       "      <td>It must be assumed that those who praised this...</td>\n",
       "      <td>0.492901</td>\n",
       "      <td>0.134753</td>\n",
       "      <td>1</td>\n",
       "    </tr>\n",
       "    <tr>\n",
       "      <th>4</th>\n",
       "      <td>9495_8</td>\n",
       "      <td>1</td>\n",
       "      <td>Superbly trashy and wondrously unpretentious 8...</td>\n",
       "      <td>0.459818</td>\n",
       "      <td>-0.024842</td>\n",
       "      <td>0</td>\n",
       "    </tr>\n",
       "    <tr>\n",
       "      <th>...</th>\n",
       "      <td>...</td>\n",
       "      <td>...</td>\n",
       "      <td>...</td>\n",
       "      <td>...</td>\n",
       "      <td>...</td>\n",
       "      <td>...</td>\n",
       "    </tr>\n",
       "    <tr>\n",
       "      <th>24995</th>\n",
       "      <td>3453_3</td>\n",
       "      <td>0</td>\n",
       "      <td>It seems like more consideration has gone into...</td>\n",
       "      <td>0.542857</td>\n",
       "      <td>0.102083</td>\n",
       "      <td>1</td>\n",
       "    </tr>\n",
       "    <tr>\n",
       "      <th>24996</th>\n",
       "      <td>5064_1</td>\n",
       "      <td>0</td>\n",
       "      <td>I don't believe they made this film. Completel...</td>\n",
       "      <td>0.462371</td>\n",
       "      <td>0.090813</td>\n",
       "      <td>1</td>\n",
       "    </tr>\n",
       "    <tr>\n",
       "      <th>24997</th>\n",
       "      <td>10905_3</td>\n",
       "      <td>0</td>\n",
       "      <td>Guy is a loser. Can't get girls, needs to buil...</td>\n",
       "      <td>0.484103</td>\n",
       "      <td>0.145256</td>\n",
       "      <td>1</td>\n",
       "    </tr>\n",
       "    <tr>\n",
       "      <th>24998</th>\n",
       "      <td>10194_3</td>\n",
       "      <td>0</td>\n",
       "      <td>This 30 minute documentary Buñuel made in the ...</td>\n",
       "      <td>0.504514</td>\n",
       "      <td>0.065625</td>\n",
       "      <td>1</td>\n",
       "    </tr>\n",
       "    <tr>\n",
       "      <th>24999</th>\n",
       "      <td>8478_8</td>\n",
       "      <td>1</td>\n",
       "      <td>I saw this movie as a child and it broke my he...</td>\n",
       "      <td>0.735897</td>\n",
       "      <td>0.239295</td>\n",
       "      <td>1</td>\n",
       "    </tr>\n",
       "  </tbody>\n",
       "</table>\n",
       "<p>25000 rows × 6 columns</p>\n",
       "</div>"
      ],
      "text/plain": [
       "            id  sentiment                                             review  \\\n",
       "0       5814_8          1  With all this stuff going down at the moment w...   \n",
       "1       2381_9          1  \\The Classic War of the Worlds\\\" by Timothy Hi...   \n",
       "2       7759_3          0  The film starts with a manager (Nicholas Bell)...   \n",
       "3       3630_4          0  It must be assumed that those who praised this...   \n",
       "4       9495_8          1  Superbly trashy and wondrously unpretentious 8...   \n",
       "...        ...        ...                                                ...   \n",
       "24995   3453_3          0  It seems like more consideration has gone into...   \n",
       "24996   5064_1          0  I don't believe they made this film. Completel...   \n",
       "24997  10905_3          0  Guy is a loser. Can't get girls, needs to buil...   \n",
       "24998  10194_3          0  This 30 minute documentary Buñuel made in the ...   \n",
       "24999   8478_8          1  I saw this movie as a child and it broke my he...   \n",
       "\n",
       "       BlobSubjectivity  BlobPolarity  Blob_Sentiment  \n",
       "0              0.606746      0.001277               1  \n",
       "1              0.531111      0.256349               1  \n",
       "2              0.562933     -0.053941               0  \n",
       "3              0.492901      0.134753               1  \n",
       "4              0.459818     -0.024842               0  \n",
       "...                 ...           ...             ...  \n",
       "24995          0.542857      0.102083               1  \n",
       "24996          0.462371      0.090813               1  \n",
       "24997          0.484103      0.145256               1  \n",
       "24998          0.504514      0.065625               1  \n",
       "24999          0.735897      0.239295               1  \n",
       "\n",
       "[25000 rows x 6 columns]"
      ]
     },
     "execution_count": 8,
     "metadata": {},
     "output_type": "execute_result"
    }
   ],
   "source": [
    "## Adding another function to convert polarity to a meaningful answer\n",
    "def getAnalysis(score):\n",
    "    if score < 0:\n",
    "        return 0\n",
    "    else:\n",
    "        return 1\n",
    "    \n",
    "## Creating final column to give out the analysis\n",
    "df['Blob_Sentiment'] = df['BlobPolarity'].apply(getAnalysis)\n",
    "df"
   ]
  },
  {
   "cell_type": "code",
   "execution_count": 9,
   "id": "twelve-teens",
   "metadata": {},
   "outputs": [
    {
     "name": "stderr",
     "output_type": "stream",
     "text": [
      "<ipython-input-9-ad9ed0f24034>:3: FutureWarning: The default value of regex will change from True to False in a future version.\n",
      "  df['review'] = df['review'].str.replace(r'[^\\w\\s]+', '') # Special characters\n"
     ]
    },
    {
     "data": {
      "text/html": [
       "<div>\n",
       "<style scoped>\n",
       "    .dataframe tbody tr th:only-of-type {\n",
       "        vertical-align: middle;\n",
       "    }\n",
       "\n",
       "    .dataframe tbody tr th {\n",
       "        vertical-align: top;\n",
       "    }\n",
       "\n",
       "    .dataframe thead th {\n",
       "        text-align: right;\n",
       "    }\n",
       "</style>\n",
       "<table border=\"1\" class=\"dataframe\">\n",
       "  <thead>\n",
       "    <tr style=\"text-align: right;\">\n",
       "      <th></th>\n",
       "      <th>id</th>\n",
       "      <th>sentiment</th>\n",
       "      <th>review</th>\n",
       "      <th>BlobSubjectivity</th>\n",
       "      <th>BlobPolarity</th>\n",
       "      <th>Blob_Sentiment</th>\n",
       "    </tr>\n",
       "  </thead>\n",
       "  <tbody>\n",
       "    <tr>\n",
       "      <th>0</th>\n",
       "      <td>5814_8</td>\n",
       "      <td>1</td>\n",
       "      <td>stuff going moment mj ive started listening mu...</td>\n",
       "      <td>0.606746</td>\n",
       "      <td>0.001277</td>\n",
       "      <td>1</td>\n",
       "    </tr>\n",
       "    <tr>\n",
       "      <th>1</th>\n",
       "      <td>2381_9</td>\n",
       "      <td>1</td>\n",
       "      <td>classic war worlds timothy hines entertaining ...</td>\n",
       "      <td>0.531111</td>\n",
       "      <td>0.256349</td>\n",
       "      <td>1</td>\n",
       "    </tr>\n",
       "    <tr>\n",
       "      <th>2</th>\n",
       "      <td>7759_3</td>\n",
       "      <td>0</td>\n",
       "      <td>film starts manager nicholas bell giving welco...</td>\n",
       "      <td>0.562933</td>\n",
       "      <td>-0.053941</td>\n",
       "      <td>0</td>\n",
       "    </tr>\n",
       "    <tr>\n",
       "      <th>3</th>\n",
       "      <td>3630_4</td>\n",
       "      <td>0</td>\n",
       "      <td>must assumed praised film greatest filmed oper...</td>\n",
       "      <td>0.492901</td>\n",
       "      <td>0.134753</td>\n",
       "      <td>1</td>\n",
       "    </tr>\n",
       "    <tr>\n",
       "      <th>4</th>\n",
       "      <td>9495_8</td>\n",
       "      <td>1</td>\n",
       "      <td>superbly trashy wondrously unpretentious 80s e...</td>\n",
       "      <td>0.459818</td>\n",
       "      <td>-0.024842</td>\n",
       "      <td>0</td>\n",
       "    </tr>\n",
       "    <tr>\n",
       "      <th>...</th>\n",
       "      <td>...</td>\n",
       "      <td>...</td>\n",
       "      <td>...</td>\n",
       "      <td>...</td>\n",
       "      <td>...</td>\n",
       "      <td>...</td>\n",
       "    </tr>\n",
       "    <tr>\n",
       "      <th>24995</th>\n",
       "      <td>3453_3</td>\n",
       "      <td>0</td>\n",
       "      <td>seems like consideration gone imdb reviews fil...</td>\n",
       "      <td>0.542857</td>\n",
       "      <td>0.102083</td>\n",
       "      <td>1</td>\n",
       "    </tr>\n",
       "    <tr>\n",
       "      <th>24996</th>\n",
       "      <td>5064_1</td>\n",
       "      <td>0</td>\n",
       "      <td>dont believe made film completely unnecessary ...</td>\n",
       "      <td>0.462371</td>\n",
       "      <td>0.090813</td>\n",
       "      <td>1</td>\n",
       "    </tr>\n",
       "    <tr>\n",
       "      <th>24997</th>\n",
       "      <td>10905_3</td>\n",
       "      <td>0</td>\n",
       "      <td>guy loser cant get girls needs build picked st...</td>\n",
       "      <td>0.484103</td>\n",
       "      <td>0.145256</td>\n",
       "      <td>1</td>\n",
       "    </tr>\n",
       "    <tr>\n",
       "      <th>24998</th>\n",
       "      <td>10194_3</td>\n",
       "      <td>0</td>\n",
       "      <td>30 minute documentary buñuel made early 1930s ...</td>\n",
       "      <td>0.504514</td>\n",
       "      <td>0.065625</td>\n",
       "      <td>1</td>\n",
       "    </tr>\n",
       "    <tr>\n",
       "      <th>24999</th>\n",
       "      <td>8478_8</td>\n",
       "      <td>1</td>\n",
       "      <td>saw movie child broke heart story unfinished e...</td>\n",
       "      <td>0.735897</td>\n",
       "      <td>0.239295</td>\n",
       "      <td>1</td>\n",
       "    </tr>\n",
       "  </tbody>\n",
       "</table>\n",
       "<p>25000 rows × 6 columns</p>\n",
       "</div>"
      ],
      "text/plain": [
       "            id  sentiment                                             review  \\\n",
       "0       5814_8          1  stuff going moment mj ive started listening mu...   \n",
       "1       2381_9          1  classic war worlds timothy hines entertaining ...   \n",
       "2       7759_3          0  film starts manager nicholas bell giving welco...   \n",
       "3       3630_4          0  must assumed praised film greatest filmed oper...   \n",
       "4       9495_8          1  superbly trashy wondrously unpretentious 80s e...   \n",
       "...        ...        ...                                                ...   \n",
       "24995   3453_3          0  seems like consideration gone imdb reviews fil...   \n",
       "24996   5064_1          0  dont believe made film completely unnecessary ...   \n",
       "24997  10905_3          0  guy loser cant get girls needs build picked st...   \n",
       "24998  10194_3          0  30 minute documentary buñuel made early 1930s ...   \n",
       "24999   8478_8          1  saw movie child broke heart story unfinished e...   \n",
       "\n",
       "       BlobSubjectivity  BlobPolarity  Blob_Sentiment  \n",
       "0              0.606746      0.001277               1  \n",
       "1              0.531111      0.256349               1  \n",
       "2              0.562933     -0.053941               0  \n",
       "3              0.492901      0.134753               1  \n",
       "4              0.459818     -0.024842               0  \n",
       "...                 ...           ...             ...  \n",
       "24995          0.542857      0.102083               1  \n",
       "24996          0.462371      0.090813               1  \n",
       "24997          0.484103      0.145256               1  \n",
       "24998          0.504514      0.065625               1  \n",
       "24999          0.735897      0.239295               1  \n",
       "\n",
       "[25000 rows x 6 columns]"
      ]
     },
     "execution_count": 9,
     "metadata": {},
     "output_type": "execute_result"
    }
   ],
   "source": [
    "## Converting text to lower case and applying stop words\n",
    "df['review'] = df['review'].str.lower() # Lower case\n",
    "df['review'] = df['review'].str.replace(r'[^\\w\\s]+', '') # Special characters\n",
    "stop_words = stopwords.words('english') # Applying stopwords variable\n",
    "df['review'] = df['review'].apply(lambda x: ' '.join([w for w in x.split() if w not in (stop_words)]))\n",
    "df"
   ]
  },
  {
   "cell_type": "code",
   "execution_count": 10,
   "id": "criminal-empire",
   "metadata": {},
   "outputs": [
    {
     "data": {
      "text/html": [
       "<div>\n",
       "<style scoped>\n",
       "    .dataframe tbody tr th:only-of-type {\n",
       "        vertical-align: middle;\n",
       "    }\n",
       "\n",
       "    .dataframe tbody tr th {\n",
       "        vertical-align: top;\n",
       "    }\n",
       "\n",
       "    .dataframe thead th {\n",
       "        text-align: right;\n",
       "    }\n",
       "</style>\n",
       "<table border=\"1\" class=\"dataframe\">\n",
       "  <thead>\n",
       "    <tr style=\"text-align: right;\">\n",
       "      <th></th>\n",
       "      <th>id</th>\n",
       "      <th>sentiment</th>\n",
       "      <th>review</th>\n",
       "      <th>BlobSubjectivity</th>\n",
       "      <th>BlobPolarity</th>\n",
       "      <th>Blob_Sentiment</th>\n",
       "      <th>review_token</th>\n",
       "      <th>review_stem</th>\n",
       "      <th>review_stem_line</th>\n",
       "    </tr>\n",
       "  </thead>\n",
       "  <tbody>\n",
       "    <tr>\n",
       "      <th>0</th>\n",
       "      <td>5814_8</td>\n",
       "      <td>1</td>\n",
       "      <td>stuff going moment mj ive started listening mu...</td>\n",
       "      <td>0.606746</td>\n",
       "      <td>0.001277</td>\n",
       "      <td>1</td>\n",
       "      <td>&lt;filter object at 0x000001DC2A861340&gt;</td>\n",
       "      <td>[stuff, go, moment, mj, ive, start, listen, mu...</td>\n",
       "      <td>stuff go moment mj ive start listen music watc...</td>\n",
       "    </tr>\n",
       "    <tr>\n",
       "      <th>1</th>\n",
       "      <td>2381_9</td>\n",
       "      <td>1</td>\n",
       "      <td>classic war worlds timothy hines entertaining ...</td>\n",
       "      <td>0.531111</td>\n",
       "      <td>0.256349</td>\n",
       "      <td>1</td>\n",
       "      <td>&lt;filter object at 0x000001DC0881A280&gt;</td>\n",
       "      <td>[classic, war, world, timothi, hine, entertain...</td>\n",
       "      <td>classic war world timothi hine entertain film ...</td>\n",
       "    </tr>\n",
       "    <tr>\n",
       "      <th>2</th>\n",
       "      <td>7759_3</td>\n",
       "      <td>0</td>\n",
       "      <td>film starts manager nicholas bell giving welco...</td>\n",
       "      <td>0.562933</td>\n",
       "      <td>-0.053941</td>\n",
       "      <td>0</td>\n",
       "      <td>&lt;filter object at 0x000001DC2A945FA0&gt;</td>\n",
       "      <td>[film, start, manag, nichola, bell, give, welc...</td>\n",
       "      <td>film start manag nichola bell give welcom inve...</td>\n",
       "    </tr>\n",
       "    <tr>\n",
       "      <th>3</th>\n",
       "      <td>3630_4</td>\n",
       "      <td>0</td>\n",
       "      <td>must assumed praised film greatest filmed oper...</td>\n",
       "      <td>0.492901</td>\n",
       "      <td>0.134753</td>\n",
       "      <td>1</td>\n",
       "      <td>&lt;filter object at 0x000001DC0884EAF0&gt;</td>\n",
       "      <td>[must, assum, prais, film, greatest, film, ope...</td>\n",
       "      <td>must assum prais film greatest film opera ever...</td>\n",
       "    </tr>\n",
       "    <tr>\n",
       "      <th>4</th>\n",
       "      <td>9495_8</td>\n",
       "      <td>1</td>\n",
       "      <td>superbly trashy wondrously unpretentious 80s e...</td>\n",
       "      <td>0.459818</td>\n",
       "      <td>-0.024842</td>\n",
       "      <td>0</td>\n",
       "      <td>&lt;filter object at 0x000001DC0884ED00&gt;</td>\n",
       "      <td>[superbl, trashi, wondrous, unpretenti, 80, ex...</td>\n",
       "      <td>superbl trashi wondrous unpretenti 80 exploit ...</td>\n",
       "    </tr>\n",
       "    <tr>\n",
       "      <th>...</th>\n",
       "      <td>...</td>\n",
       "      <td>...</td>\n",
       "      <td>...</td>\n",
       "      <td>...</td>\n",
       "      <td>...</td>\n",
       "      <td>...</td>\n",
       "      <td>...</td>\n",
       "      <td>...</td>\n",
       "      <td>...</td>\n",
       "    </tr>\n",
       "    <tr>\n",
       "      <th>24995</th>\n",
       "      <td>3453_3</td>\n",
       "      <td>0</td>\n",
       "      <td>seems like consideration gone imdb reviews fil...</td>\n",
       "      <td>0.542857</td>\n",
       "      <td>0.102083</td>\n",
       "      <td>1</td>\n",
       "      <td>&lt;filter object at 0x000001DC3C623490&gt;</td>\n",
       "      <td>[seem, like, consider, gone, imdb, review, fil...</td>\n",
       "      <td>seem like consider gone imdb review film went ...</td>\n",
       "    </tr>\n",
       "    <tr>\n",
       "      <th>24996</th>\n",
       "      <td>5064_1</td>\n",
       "      <td>0</td>\n",
       "      <td>dont believe made film completely unnecessary ...</td>\n",
       "      <td>0.462371</td>\n",
       "      <td>0.090813</td>\n",
       "      <td>1</td>\n",
       "      <td>&lt;filter object at 0x000001DC3C6234F0&gt;</td>\n",
       "      <td>[dont, believ, made, film, complet, unnecessar...</td>\n",
       "      <td>dont believ made film complet unnecessari firs...</td>\n",
       "    </tr>\n",
       "    <tr>\n",
       "      <th>24997</th>\n",
       "      <td>10905_3</td>\n",
       "      <td>0</td>\n",
       "      <td>guy loser cant get girls needs build picked st...</td>\n",
       "      <td>0.484103</td>\n",
       "      <td>0.145256</td>\n",
       "      <td>1</td>\n",
       "      <td>&lt;filter object at 0x000001DC3C623550&gt;</td>\n",
       "      <td>[guy, loser, cant, get, girl, need, build, pic...</td>\n",
       "      <td>guy loser cant get girl need build pick strong...</td>\n",
       "    </tr>\n",
       "    <tr>\n",
       "      <th>24998</th>\n",
       "      <td>10194_3</td>\n",
       "      <td>0</td>\n",
       "      <td>30 minute documentary buñuel made early 1930s ...</td>\n",
       "      <td>0.504514</td>\n",
       "      <td>0.065625</td>\n",
       "      <td>1</td>\n",
       "      <td>&lt;filter object at 0x000001DC3C6235B0&gt;</td>\n",
       "      <td>[30, minut, documentari, buñuel, made, earli, ...</td>\n",
       "      <td>30 minut documentari buñuel made earli 1930 on...</td>\n",
       "    </tr>\n",
       "    <tr>\n",
       "      <th>24999</th>\n",
       "      <td>8478_8</td>\n",
       "      <td>1</td>\n",
       "      <td>saw movie child broke heart story unfinished e...</td>\n",
       "      <td>0.735897</td>\n",
       "      <td>0.239295</td>\n",
       "      <td>1</td>\n",
       "      <td>&lt;filter object at 0x000001DC3C623610&gt;</td>\n",
       "      <td>[saw, movi, child, broke, heart, stori, unfini...</td>\n",
       "      <td>saw movi child broke heart stori unfinish end ...</td>\n",
       "    </tr>\n",
       "  </tbody>\n",
       "</table>\n",
       "<p>25000 rows × 9 columns</p>\n",
       "</div>"
      ],
      "text/plain": [
       "            id  sentiment                                             review  \\\n",
       "0       5814_8          1  stuff going moment mj ive started listening mu...   \n",
       "1       2381_9          1  classic war worlds timothy hines entertaining ...   \n",
       "2       7759_3          0  film starts manager nicholas bell giving welco...   \n",
       "3       3630_4          0  must assumed praised film greatest filmed oper...   \n",
       "4       9495_8          1  superbly trashy wondrously unpretentious 80s e...   \n",
       "...        ...        ...                                                ...   \n",
       "24995   3453_3          0  seems like consideration gone imdb reviews fil...   \n",
       "24996   5064_1          0  dont believe made film completely unnecessary ...   \n",
       "24997  10905_3          0  guy loser cant get girls needs build picked st...   \n",
       "24998  10194_3          0  30 minute documentary buñuel made early 1930s ...   \n",
       "24999   8478_8          1  saw movie child broke heart story unfinished e...   \n",
       "\n",
       "       BlobSubjectivity  BlobPolarity  Blob_Sentiment  \\\n",
       "0              0.606746      0.001277               1   \n",
       "1              0.531111      0.256349               1   \n",
       "2              0.562933     -0.053941               0   \n",
       "3              0.492901      0.134753               1   \n",
       "4              0.459818     -0.024842               0   \n",
       "...                 ...           ...             ...   \n",
       "24995          0.542857      0.102083               1   \n",
       "24996          0.462371      0.090813               1   \n",
       "24997          0.484103      0.145256               1   \n",
       "24998          0.504514      0.065625               1   \n",
       "24999          0.735897      0.239295               1   \n",
       "\n",
       "                                review_token  \\\n",
       "0      <filter object at 0x000001DC2A861340>   \n",
       "1      <filter object at 0x000001DC0881A280>   \n",
       "2      <filter object at 0x000001DC2A945FA0>   \n",
       "3      <filter object at 0x000001DC0884EAF0>   \n",
       "4      <filter object at 0x000001DC0884ED00>   \n",
       "...                                      ...   \n",
       "24995  <filter object at 0x000001DC3C623490>   \n",
       "24996  <filter object at 0x000001DC3C6234F0>   \n",
       "24997  <filter object at 0x000001DC3C623550>   \n",
       "24998  <filter object at 0x000001DC3C6235B0>   \n",
       "24999  <filter object at 0x000001DC3C623610>   \n",
       "\n",
       "                                             review_stem  \\\n",
       "0      [stuff, go, moment, mj, ive, start, listen, mu...   \n",
       "1      [classic, war, world, timothi, hine, entertain...   \n",
       "2      [film, start, manag, nichola, bell, give, welc...   \n",
       "3      [must, assum, prais, film, greatest, film, ope...   \n",
       "4      [superbl, trashi, wondrous, unpretenti, 80, ex...   \n",
       "...                                                  ...   \n",
       "24995  [seem, like, consider, gone, imdb, review, fil...   \n",
       "24996  [dont, believ, made, film, complet, unnecessar...   \n",
       "24997  [guy, loser, cant, get, girl, need, build, pic...   \n",
       "24998  [30, minut, documentari, buñuel, made, earli, ...   \n",
       "24999  [saw, movi, child, broke, heart, stori, unfini...   \n",
       "\n",
       "                                        review_stem_line  \n",
       "0      stuff go moment mj ive start listen music watc...  \n",
       "1      classic war world timothi hine entertain film ...  \n",
       "2      film start manag nichola bell give welcom inve...  \n",
       "3      must assum prais film greatest film opera ever...  \n",
       "4      superbl trashi wondrous unpretenti 80 exploit ...  \n",
       "...                                                  ...  \n",
       "24995  seem like consider gone imdb review film went ...  \n",
       "24996  dont believ made film complet unnecessari firs...  \n",
       "24997  guy loser cant get girl need build pick strong...  \n",
       "24998  30 minut documentari buñuel made earli 1930 on...  \n",
       "24999  saw movi child broke heart stori unfinish end ...  \n",
       "\n",
       "[25000 rows x 9 columns]"
      ]
     },
     "execution_count": 10,
     "metadata": {},
     "output_type": "execute_result"
    }
   ],
   "source": [
    "## Applying stemmed sentences\n",
    "pstemmer = PorterStemmer()\n",
    "df['review_token'] = df['review'].apply(lambda x : filter(None,x.split(' '))) # Tokenizing sentences\n",
    "df['review_stem'] = df['review_token'].apply(lambda x: [pstemmer.stem(s) for s in x]) # Applying stemmer\n",
    "df['review_stem_line'] = df['review_stem'].apply(lambda x: ' '.join(x)) # Converting back to sentences\n",
    "df"
   ]
  },
  {
   "cell_type": "code",
   "execution_count": 11,
   "id": "damaged-affair",
   "metadata": {},
   "outputs": [
    {
     "data": {
      "text/plain": [
       "id                   object\n",
       "sentiment             int64\n",
       "review               object\n",
       "BlobSubjectivity    float64\n",
       "BlobPolarity        float64\n",
       "Blob_Sentiment        int64\n",
       "review_token         object\n",
       "review_stem          object\n",
       "review_stem_line     object\n",
       "dtype: object"
      ]
     },
     "execution_count": 11,
     "metadata": {},
     "output_type": "execute_result"
    }
   ],
   "source": [
    "## Column type check\n",
    "df.dtypes"
   ]
  },
  {
   "cell_type": "code",
   "execution_count": 12,
   "id": "novel-conjunction",
   "metadata": {},
   "outputs": [
    {
     "data": {
      "text/plain": [
       "(25000, 9)"
      ]
     },
     "execution_count": 12,
     "metadata": {},
     "output_type": "execute_result"
    }
   ],
   "source": [
    "## Dataframe shape check\n",
    "df.shape"
   ]
  },
  {
   "cell_type": "code",
   "execution_count": 13,
   "id": "female-confidentiality",
   "metadata": {},
   "outputs": [
    {
     "name": "stdout",
     "output_type": "stream",
     "text": [
      "Training data shape:\n",
      "(20000,)\n",
      "(20000,)\n",
      "\n",
      "Testing data shape:\n",
      "(5000,)\n",
      "(5000,)\n"
     ]
    }
   ],
   "source": [
    "# Split this into a training and test set.\n",
    "x_train, x_test, y_train, y_test = train_test_split(df['review_stem_line'], df['sentiment'], test_size=0.2)\n",
    "print('Training data shape:')\n",
    "print(x_train.shape)\n",
    "print(y_train.shape)\n",
    "print('\\nTesting data shape:')\n",
    "print(x_test.shape)\n",
    "print(y_test.shape)"
   ]
  },
  {
   "cell_type": "code",
   "execution_count": 14,
   "id": "hungarian-environment",
   "metadata": {},
   "outputs": [
    {
     "data": {
      "text/plain": [
       "(20000, 80973)"
      ]
     },
     "execution_count": 14,
     "metadata": {},
     "output_type": "execute_result"
    }
   ],
   "source": [
    "# Fit and apply the tf-idf vectorization to the training set.\n",
    "tf_idf = TfidfVectorizer()\n",
    "x_train_vect = tf_idf.fit_transform(x_train)\n",
    "x_train_vect.shape"
   ]
  },
  {
   "cell_type": "code",
   "execution_count": 15,
   "id": "separated-consistency",
   "metadata": {},
   "outputs": [
    {
     "name": "stdout",
     "output_type": "stream",
     "text": [
      "Shape: (5000, 80973)\n",
      "Fitting the test set could cause leakage to our model\n"
     ]
    }
   ],
   "source": [
    "# Apply but DO NOT FIT the tf-idf vectorization to the test set (Why?).\n",
    "x_test_vect = tf_idf.transform(x_test)\n",
    "print(f'Shape: {x_test_vect.shape}')\n",
    "print(f'Fitting the test set could cause leakage to our model')"
   ]
  },
  {
   "cell_type": "code",
   "execution_count": 16,
   "id": "continent-point",
   "metadata": {},
   "outputs": [
    {
     "data": {
      "text/plain": [
       "LogisticRegression()"
      ]
     },
     "execution_count": 16,
     "metadata": {},
     "output_type": "execute_result"
    }
   ],
   "source": [
    "# Train a logistic regression using the training data.\n",
    "log_model = LogisticRegression()\n",
    "log_model.fit(x_train_vect, y_train)"
   ]
  },
  {
   "cell_type": "code",
   "execution_count": 21,
   "id": "accepted-cambridge",
   "metadata": {},
   "outputs": [
    {
     "name": "stdout",
     "output_type": "stream",
     "text": [
      "Accuracy = 0.8874\n"
     ]
    },
    {
     "data": {
      "image/png": "[encoded data removed]",
      "text/plain": [
       "<Figure size 576x396 with 1 Axes>"
      ]
     },
     "metadata": {},
     "output_type": "display_data"
    },
    {
     "data": {
      "text/plain": [
       "<AxesSubplot:title={'center':'LogisticRegression Confusion Matrix'}, xlabel='Predicted Class', ylabel='True Class'>"
      ]
     },
     "execution_count": 21,
     "metadata": {},
     "output_type": "execute_result"
    }
   ],
   "source": [
    "# Find the model accuracy on test set and create a confusion matrix for the test set predictions.\n",
    "matrix = ConfusionMatrix(log_model, encoder={0: 'Negative', 1: 'Positive'}, percent=False)\n",
    "matrix.fit(x_test_vect, y_test)\n",
    "model_accuracy = matrix.score(x_test_vect, y_test)\n",
    "print(f'Accuracy = {model_accuracy}')\n",
    "matrix.show()"
   ]
  },
  {
   "cell_type": "code",
   "execution_count": 24,
   "id": "green-minnesota",
   "metadata": {},
   "outputs": [
    {
     "name": "stdout",
     "output_type": "stream",
     "text": [
      "Accuracy = 0.8874\n"
     ]
    },
    {
     "data": {
      "image/png": "[encoded data removed]",
      "text/plain": [
       "<Figure size 576x396 with 2 Axes>"
      ]
     },
     "metadata": {},
     "output_type": "display_data"
    },
    {
     "data": {
      "text/plain": [
       "<AxesSubplot:title={'center':'LogisticRegression Classification Report'}>"
      ]
     },
     "execution_count": 24,
     "metadata": {},
     "output_type": "execute_result"
    }
   ],
   "source": [
    "# Get the precision, recall, and F1-score for the test set predictions.\n",
    "report = ClassificationReport(log_model, encoder={0: 'Negative', 1: 'Positive'})\n",
    "report.fit(x_train_vect, y_test)\n",
    "report_accuracy = report.score(x_test_vect, y_test)\n",
    "print(f'Accuracy = {report_accuracy}')\n",
    "report.show()"
   ]
  },
  {
   "cell_type": "code",
   "execution_count": 25,
   "id": "ruled-philadelphia",
   "metadata": {},
   "outputs": [
    {
     "name": "stdout",
     "output_type": "stream",
     "text": [
      "Accuracy = 0.9538253415402731\n"
     ]
    },
    {
     "data": {
      "image/png": "[encoded data removed]",
      "text/plain": [
       "<Figure size 576x396 with 1 Axes>"
      ]
     },
     "metadata": {},
     "output_type": "display_data"
    },
    {
     "data": {
      "text/plain": [
       "<AxesSubplot:title={'center':'ROC Curves for LogisticRegression'}, xlabel='False Positive Rate', ylabel='True Positive Rate'>"
      ]
     },
     "execution_count": 25,
     "metadata": {},
     "output_type": "execute_result"
    }
   ],
   "source": [
    "# Create a ROC curve for the test set.\n",
    "roc = ROCAUC(log_model, encoder={0: 'Negative', 1: 'Positive'})\n",
    "roc.fit(x_test_vect, y_test)\n",
    "roc_accuracy = roc.score(x_test_vect, y_test)\n",
    "print(f'Accuracy = {roc_accuracy}')\n",
    "roc.show()"
   ]
  },
  {
   "cell_type": "code",
   "execution_count": 27,
   "id": "commercial-hamilton",
   "metadata": {},
   "outputs": [
    {
     "data": {
      "text/plain": [
       "RandomForestClassifier()"
      ]
     },
     "execution_count": 27,
     "metadata": {},
     "output_type": "execute_result"
    }
   ],
   "source": [
    "# Pick another classification model you learned about this week and repeat steps (5) – (9).\n",
    "## Will choose Random Forest Classifier\n",
    "forest = RandomForestClassifier()\n",
    "forest.fit(x_train_vect, y_train)"
   ]
  },
  {
   "cell_type": "code",
   "execution_count": 28,
   "id": "imperial-engineer",
   "metadata": {},
   "outputs": [
    {
     "name": "stdout",
     "output_type": "stream",
     "text": [
      "Accuracy = 0.8422\n"
     ]
    },
    {
     "data": {
      "image/png": "[encoded data removed]",
      "text/plain": [
       "<Figure size 576x396 with 1 Axes>"
      ]
     },
     "metadata": {},
     "output_type": "display_data"
    },
    {
     "data": {
      "text/plain": [
       "<AxesSubplot:title={'center':'RandomForestClassifier Confusion Matrix'}, xlabel='Predicted Class', ylabel='True Class'>"
      ]
     },
     "execution_count": 28,
     "metadata": {},
     "output_type": "execute_result"
    }
   ],
   "source": [
    "## Find the model accuracy on test set and create a confusion matrix for the test set predictions.\n",
    "f_matrix = ConfusionMatrix(forest, encoder={0: 'Negative', 1: 'Positive'}, percent=False)\n",
    "f_matrix.fit(x_test_vect, y_test)\n",
    "f_model_accuracy = f_matrix.score(x_test_vect, y_test)\n",
    "print(f'Accuracy = {f_model_accuracy}')\n",
    "f_matrix.show()"
   ]
  },
  {
   "cell_type": "code",
   "execution_count": 29,
   "id": "logical-origin",
   "metadata": {},
   "outputs": [
    {
     "name": "stdout",
     "output_type": "stream",
     "text": [
      "Accuracy = 0.8422\n"
     ]
    },
    {
     "data": {
      "image/png": "[encoded data removed]",
      "text/plain": [
       "<Figure size 576x396 with 2 Axes>"
      ]
     },
     "metadata": {},
     "output_type": "display_data"
    },
    {
     "data": {
      "text/plain": [
       "<AxesSubplot:title={'center':'RandomForestClassifier Classification Report'}>"
      ]
     },
     "execution_count": 29,
     "metadata": {},
     "output_type": "execute_result"
    }
   ],
   "source": [
    "## Get the precision, recall, and F1-score for the test set predictions.\n",
    "f_report = ClassificationReport(forest, encoder={0: 'Negative', 1: 'Positive'})\n",
    "f_report.fit(x_train_vect, y_test)\n",
    "f_report_accuracy = f_report.score(x_test_vect, y_test)\n",
    "print(f'Accuracy = {f_report_accuracy}')\n",
    "f_report.show()"
   ]
  },
  {
   "cell_type": "code",
   "execution_count": 31,
   "id": "particular-glasgow",
   "metadata": {},
   "outputs": [
    {
     "name": "stdout",
     "output_type": "stream",
     "text": [
      "Accuracy = 0.9236150319112006\n"
     ]
    },
    {
     "data": {
      "image/png": "[encoded data removed]",
      "text/plain": [
       "<Figure size 576x396 with 1 Axes>"
      ]
     },
     "metadata": {},
     "output_type": "display_data"
    },
    {
     "data": {
      "text/plain": [
       "<AxesSubplot:title={'center':'ROC Curves for RandomForestClassifier'}, xlabel='False Positive Rate', ylabel='True Positive Rate'>"
      ]
     },
     "execution_count": 31,
     "metadata": {},
     "output_type": "execute_result"
    }
   ],
   "source": [
    "# Create a ROC curve for the test set.\n",
    "f_roc = ROCAUC(forest, encoder={0: 'Negative', 1: 'Positive'})\n",
    "f_roc.fit(x_test_vect, y_test)\n",
    "f_roc_accuracy = f_roc.score(x_test_vect, y_test)\n",
    "print(f'Accuracy = {f_roc_accuracy}')\n",
    "f_roc.show()"
   ]
  }
 ],
 "metadata": {
  "kernelspec": {
   "display_name": "Python 3",
   "language": "python",
   "name": "python3"
  },
  "language_info": {
   "codemirror_mode": {
    "name": "ipython",
    "version": 3
   },
   "file_extension": ".py",
   "mimetype": "text/x-python",
   "name": "python",
   "nbconvert_exporter": "python",
   "pygments_lexer": "ipython3",
   "version": "3.8.8"
  }
 },
 "nbformat": 4,
 "nbformat_minor": 5
}
