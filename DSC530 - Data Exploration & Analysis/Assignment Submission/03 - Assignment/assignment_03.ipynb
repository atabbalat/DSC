{
 "cells": [
  {
   "cell_type": "markdown",
   "id": "cross-trick",
   "metadata": {},
   "source": [
    "## Week 4 - Abed Tabbalat\n",
    "\n",
    "http://thinkstats2.com\n",
    "\n",
    "Copyright 2016 Allen B. Downey\n",
    "\n",
    "MIT License: https://opensource.org/licenses/MIT"
   ]
  },
  {
   "cell_type": "markdown",
   "id": "smart-visit",
   "metadata": {},
   "source": [
    "## Exercise 3.1"
   ]
  },
  {
   "cell_type": "markdown",
   "id": "retained-matter",
   "metadata": {},
   "source": [
    "Something like the class size paradox appears if you survey children and ask how many children are in their family. Families with many children are more likely to appear in your sample, and families with no children have no chance to be in the sample.\n",
    "\n",
    "Use the NSFG respondent variable `numkdhh` to construct the actual distribution for the number of children under 18 in the respondents' households.\n",
    "\n",
    "Now compute the biased distribution we would see if we surveyed the children and asked them how many children under 18 (including themselves) are in their household.\n",
    "\n",
    "Plot the actual and biased distributions, and compute their means."
   ]
  },
  {
   "cell_type": "code",
   "execution_count": 1,
   "id": "indian-question",
   "metadata": {},
   "outputs": [],
   "source": [
    "from __future__ import print_function, division\n",
    "\n",
    "%matplotlib inline\n",
    "\n",
    "import numpy as np\n",
    "\n",
    "import nsfg\n",
    "import first\n",
    "import thinkstats2\n",
    "import thinkplot"
   ]
  },
  {
   "cell_type": "code",
   "execution_count": 2,
   "id": "armed-viewer",
   "metadata": {},
   "outputs": [],
   "source": [
    "resp = nsfg.ReadFemResp()"
   ]
  },
  {
   "cell_type": "code",
   "execution_count": 3,
   "id": "built-peripheral",
   "metadata": {},
   "outputs": [],
   "source": [
    "pmf_ch = thinkstats2.Pmf(resp.numkdhh, label='actual')"
   ]
  },
  {
   "cell_type": "code",
   "execution_count": 5,
   "id": "expired-cancer",
   "metadata": {},
   "outputs": [],
   "source": [
    "def BiasPmf(pmf, label):\n",
    "    new_pmf = pmf.Copy(label=label)\n",
    "\n",
    "    for x, p in pmf.Items():\n",
    "        new_pmf.Mult(x, x)\n",
    "        \n",
    "    new_pmf.Normalize()\n",
    "    return new_pmf"
   ]
  },
  {
   "cell_type": "code",
   "execution_count": 7,
   "id": "comic-saskatchewan",
   "metadata": {},
   "outputs": [],
   "source": [
    "biased_pmf_ch = BiasPmf(pmf_ch, label='Observed')"
   ]
  },
  {
   "cell_type": "code",
   "execution_count": 8,
   "id": "comfortable-germany",
   "metadata": {},
   "outputs": [
    {
     "data": {
      "text/plain": [
       "<Figure size 432x288 with 0 Axes>"
      ]
     },
     "metadata": {},
     "output_type": "display_data"
    }
   ],
   "source": [
    "thinkplot.PrePlot(2)"
   ]
  },
  {
   "cell_type": "code",
   "execution_count": 11,
   "id": "european-collect",
   "metadata": {},
   "outputs": [
    {
     "data": {
      "image/png": "[encoded data removed]",
      "text/plain": [
       "<Figure size 432x288 with 1 Axes>"
      ]
     },
     "metadata": {
      "needs_background": "light"
     },
     "output_type": "display_data"
    }
   ],
   "source": [
    "thinkplot.Pmfs([pmf_ch, biased_pmf_ch])\n",
    "thinkplot.Config(xlabel='Children', ylabel='PMF')"
   ]
  },
  {
   "cell_type": "code",
   "execution_count": 12,
   "id": "sufficient-documentation",
   "metadata": {},
   "outputs": [
    {
     "name": "stdout",
     "output_type": "stream",
     "text": [
      "Actual mean 1.024205155043831\n",
      "Observed mean 2.403679100664282\n"
     ]
    }
   ],
   "source": [
    "print('Actual mean', pmf_ch.Mean())\n",
    "print('Observed mean', biased_pmf_ch.Mean())"
   ]
  },
  {
   "cell_type": "markdown",
   "id": "healthy-gazette",
   "metadata": {},
   "source": [
    "## Exercise 3.2"
   ]
  },
  {
   "cell_type": "markdown",
   "id": "consistent-stranger",
   "metadata": {},
   "source": [
    "write a function called `PMFMean` and `PMFVar` that take a PMF object and compute the mean and variance. To test these methods, check that they are consistent with the methods `Mean` and `Var` provided by PMF."
   ]
  },
  {
   "cell_type": "code",
   "execution_count": 30,
   "id": "whole-litigation",
   "metadata": {},
   "outputs": [],
   "source": [
    "def PmfMean(pmf):\n",
    "    mean = 0.0\n",
    "    for x, p in pmf.Items():\n",
    "        mean += x*p\n",
    "    return mean"
   ]
  },
  {
   "cell_type": "code",
   "execution_count": 31,
   "id": "secret-belief",
   "metadata": {},
   "outputs": [],
   "source": [
    "def PmfVar(pmf, mean=None):\n",
    "    var = 0\n",
    "    if mean == None:\n",
    "        mean = PmfMean(pmf)\n",
    "    for x, p in pmf.Items():\n",
    "        var += p * ( x - mean ) ** 2\n",
    "    return var"
   ]
  },
  {
   "cell_type": "code",
   "execution_count": null,
   "id": "controversial-submission",
   "metadata": {},
   "outputs": [],
   "source": []
  },
  {
   "cell_type": "markdown",
   "id": "young-armor",
   "metadata": {},
   "source": [
    "## Exercise 4.1"
   ]
  },
  {
   "cell_type": "markdown",
   "id": "supposed-lighting",
   "metadata": {},
   "source": [
    "How much did you weigh at birth? If you don’t know, call your mother or someone else who knows. Using the NSFG data (all live births), compute the distribution of birth weights and use it to find your percentile rank. If you were a first baby, find your percentile rank in the distribution for first babies. Otherwise use the distribution for others. If you are in the 90th percentile or higher, call your mother back and apologize."
   ]
  },
  {
   "cell_type": "code",
   "execution_count": 13,
   "id": "exposed-worker",
   "metadata": {},
   "outputs": [],
   "source": [
    "from __future__ import print_function, division\n",
    "\n",
    "%matplotlib inline\n",
    "\n",
    "import numpy as np\n",
    "\n",
    "import nsfg\n",
    "import first\n",
    "import thinkstats2\n",
    "import thinkplot"
   ]
  },
  {
   "cell_type": "code",
   "execution_count": 16,
   "id": "improving-america",
   "metadata": {},
   "outputs": [],
   "source": [
    "live, firsts, others = first.MakeFrames()\n",
    "weights = live.totalwgt_lb"
   ]
  },
  {
   "cell_type": "code",
   "execution_count": 17,
   "id": "certified-christmas",
   "metadata": {},
   "outputs": [],
   "source": [
    "f_weights = firsts.totalwgt_lb\n",
    "firsts_cdf = thinkstats2.Cdf(weights, label='firsts')"
   ]
  },
  {
   "cell_type": "code",
   "execution_count": 18,
   "id": "wireless-heater",
   "metadata": {},
   "outputs": [],
   "source": [
    "def PercentileRank(scores, your_score):\n",
    "    count = 0\n",
    "    for score in scores:\n",
    "        if score <= your_score:\n",
    "            count += 1\n",
    "\n",
    "    percentile_rank = 100.0 * count / len(scores)\n",
    "    return percentile_rank"
   ]
  },
  {
   "cell_type": "code",
   "execution_count": 19,
   "id": "competent-monaco",
   "metadata": {},
   "outputs": [
    {
     "data": {
      "text/plain": [
       "92.48727594600575"
      ]
     },
     "execution_count": 19,
     "metadata": {},
     "output_type": "execute_result"
    }
   ],
   "source": [
    "my_weight = 9\n",
    "firsts_cdf.PercentileRank(my_weight)"
   ]
  },
  {
   "cell_type": "code",
   "execution_count": null,
   "id": "thick-inventory",
   "metadata": {},
   "outputs": [],
   "source": [
    "# Will definitely go and apologize."
   ]
  },
  {
   "cell_type": "markdown",
   "id": "lonely-warrior",
   "metadata": {},
   "source": [
    "## Exercise 4.2"
   ]
  },
  {
   "cell_type": "markdown",
   "id": "ordered-jacket",
   "metadata": {},
   "source": [
    "The numbers generated by `numpy.random.random` are supposed to be uniform between 0 and 1; that is, every value in the range should have the same probability.\n",
    "\n",
    "Generate 1000 numbers from `numpy.random.random` and plot their PMF.  What goes wrong?\n",
    "\n",
    "Now plot the CDF. Is the distribution uniform?"
   ]
  },
  {
   "cell_type": "code",
   "execution_count": 20,
   "id": "korean-approach",
   "metadata": {},
   "outputs": [],
   "source": [
    "sample1 = np.random.random(1000)"
   ]
  },
  {
   "cell_type": "code",
   "execution_count": 21,
   "id": "interim-rugby",
   "metadata": {},
   "outputs": [
    {
     "data": {
      "image/png": "[encoded data removed]",
      "text/plain": [
       "<Figure size 432x288 with 1 Axes>"
      ]
     },
     "metadata": {
      "needs_background": "light"
     },
     "output_type": "display_data"
    }
   ],
   "source": [
    "random_pmf = thinkstats2.Pmf(sample1)\n",
    "thinkplot.Pmf(random_pmf)\n",
    "thinkplot.Config(xlabel='Percentile random', ylabel='PMF')\n",
    "\n",
    "#Since numbers are random the probability could be anything, hence the chart will exist as infinit points."
   ]
  },
  {
   "cell_type": "code",
   "execution_count": 22,
   "id": "present-amplifier",
   "metadata": {},
   "outputs": [
    {
     "data": {
      "image/png": "[encoded data removed]",
      "text/plain": [
       "<Figure size 432x288 with 1 Axes>"
      ]
     },
     "metadata": {
      "needs_background": "light"
     },
     "output_type": "display_data"
    }
   ],
   "source": [
    "random_cdf = thinkstats2.Cdf(sample1)\n",
    "thinkplot.Cdf(random_cdf)\n",
    "thinkplot.Config(xlabel='Percentile random', ylabel='CDF')\n",
    "# distribution on CDF is uniform."
   ]
  },
  {
   "cell_type": "code",
   "execution_count": null,
   "id": "congressional-reggae",
   "metadata": {},
   "outputs": [],
   "source": []
  }
 ],
 "metadata": {
  "kernelspec": {
   "display_name": "Python 3",
   "language": "python",
   "name": "python3"
  },
  "language_info": {
   "codemirror_mode": {
    "name": "ipython",
    "version": 3
   },
   "file_extension": ".py",
   "mimetype": "text/x-python",
   "name": "python",
   "nbconvert_exporter": "python",
   "pygments_lexer": "ipython3",
   "version": "3.8.8"
  }
 },
 "nbformat": 4,
 "nbformat_minor": 5
}
