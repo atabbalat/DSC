{
 "cells": [
  {
   "cell_type": "markdown",
   "id": "married-leader",
   "metadata": {},
   "source": [
    "### Term Project\n",
    "### DSC 530\n",
    "### Abed Tabbalat\n",
    "### Fall 2021"
   ]
  },
  {
   "cell_type": "code",
   "execution_count": 13,
   "id": "signal-interview",
   "metadata": {},
   "outputs": [],
   "source": [
    "from __future__ import print_function, division\n",
    "from scipy import stats\n",
    "from estimation import RMSE, MeanError\n",
    "\n",
    "%matplotlib inline\n",
    "\n",
    "import numpy as np\n",
    "import pandas as pd\n",
    "import sys\n",
    "import thinkplot\n",
    "import thinkstats2\n",
    "import analytic\n",
    "import math\n",
    "import scipy\n",
    "import estimation\n",
    "import scatter\n",
    "import brfss\n",
    "import hypothesis\n",
    "import statsmodels.formula.api as smf\n",
    "import regression\n",
    "import random"
   ]
  },
  {
   "cell_type": "markdown",
   "id": "dressed-earth",
   "metadata": {},
   "source": [
    "    I will be using insurance data for this project, import shown below:"
   ]
  },
  {
   "cell_type": "code",
   "execution_count": 14,
   "id": "grateful-ethiopia",
   "metadata": {},
   "outputs": [],
   "source": [
    "ins = pd.read_csv('DSC530_Exposure.csv')"
   ]
  },
  {
   "cell_type": "code",
   "execution_count": 15,
   "id": "activated-oracle",
   "metadata": {},
   "outputs": [
    {
     "data": {
      "text/html": [
       "<div>\n",
       "<style scoped>\n",
       "    .dataframe tbody tr th:only-of-type {\n",
       "        vertical-align: middle;\n",
       "    }\n",
       "\n",
       "    .dataframe tbody tr th {\n",
       "        vertical-align: top;\n",
       "    }\n",
       "\n",
       "    .dataframe thead th {\n",
       "        text-align: right;\n",
       "    }\n",
       "</style>\n",
       "<table border=\"1\" class=\"dataframe\">\n",
       "  <thead>\n",
       "    <tr style=\"text-align: right;\">\n",
       "      <th></th>\n",
       "      <th>WPolicyNum</th>\n",
       "      <th>WLocNum</th>\n",
       "      <th>Company</th>\n",
       "      <th>Product</th>\n",
       "      <th>Subline</th>\n",
       "      <th>PM.Segment</th>\n",
       "      <th>Sub.Segment</th>\n",
       "      <th>Item.Segment</th>\n",
       "      <th>InceptDate</th>\n",
       "      <th>ExpireDate</th>\n",
       "      <th>...</th>\n",
       "      <th>Roof.Age</th>\n",
       "      <th>Customer_Segment</th>\n",
       "      <th>Distance_to_Coast_Range</th>\n",
       "      <th>Distance_to_Coast_Water_Type</th>\n",
       "      <th>Policy.Deductible.Percent</th>\n",
       "      <th>Months.Owner.Occupied</th>\n",
       "      <th>Loss.Of.Use.Deductible</th>\n",
       "      <th>Total Incurred</th>\n",
       "      <th>Total Ceded Premium</th>\n",
       "      <th>Total Premium</th>\n",
       "    </tr>\n",
       "  </thead>\n",
       "  <tbody>\n",
       "    <tr>\n",
       "      <th>0</th>\n",
       "      <td>39-0011653388-9-1</td>\n",
       "      <td>0</td>\n",
       "      <td>3000</td>\n",
       "      <td>HO</td>\n",
       "      <td>HO4</td>\n",
       "      <td>Homeowners (NC&amp;SC)</td>\n",
       "      <td>FCIC_Homeowners_SC_HO4</td>\n",
       "      <td>NaN</td>\n",
       "      <td>8/30/2020 0:00</td>\n",
       "      <td>8/30/2021 0:00</td>\n",
       "      <td>...</td>\n",
       "      <td>NaN</td>\n",
       "      <td></td>\n",
       "      <td>2001 feet to 2500 feet</td>\n",
       "      <td>NaN</td>\n",
       "      <td>0</td>\n",
       "      <td>0</td>\n",
       "      <td>0</td>\n",
       "      <td>0.0</td>\n",
       "      <td>50.924196</td>\n",
       "      <td>184.0</td>\n",
       "    </tr>\n",
       "    <tr>\n",
       "      <th>1</th>\n",
       "      <td>09-0016011670-8-1</td>\n",
       "      <td>0</td>\n",
       "      <td>3000</td>\n",
       "      <td>PHO</td>\n",
       "      <td>HO3</td>\n",
       "      <td>Homeowners - Pristine (FL)</td>\n",
       "      <td>FCIC_Homeowners_Pristine_FL_HO3</td>\n",
       "      <td>NaN</td>\n",
       "      <td>9/18/2020 0:00</td>\n",
       "      <td>9/18/2021 0:00</td>\n",
       "      <td>...</td>\n",
       "      <td>1.0</td>\n",
       "      <td>Preferred</td>\n",
       "      <td>65 to 69.99 miles</td>\n",
       "      <td>NaN</td>\n",
       "      <td>0</td>\n",
       "      <td>0</td>\n",
       "      <td>0</td>\n",
       "      <td>0.0</td>\n",
       "      <td>191.071987</td>\n",
       "      <td>670.0</td>\n",
       "    </tr>\n",
       "    <tr>\n",
       "      <th>2</th>\n",
       "      <td>09-0016013861-0-1</td>\n",
       "      <td>0</td>\n",
       "      <td>3000</td>\n",
       "      <td>PHO</td>\n",
       "      <td>HO3</td>\n",
       "      <td>Homeowners - Pristine (FL)</td>\n",
       "      <td>FCIC_Homeowners_Pristine_FL_HO3</td>\n",
       "      <td>NaN</td>\n",
       "      <td>10/15/2020 0:00</td>\n",
       "      <td>10/15/2021 0:00</td>\n",
       "      <td>...</td>\n",
       "      <td>6.0</td>\n",
       "      <td>Ultra Preferred</td>\n",
       "      <td>35 to 35.99 miles</td>\n",
       "      <td>NaN</td>\n",
       "      <td>0</td>\n",
       "      <td>0</td>\n",
       "      <td>0</td>\n",
       "      <td>0.0</td>\n",
       "      <td>258.990203</td>\n",
       "      <td>1038.0</td>\n",
       "    </tr>\n",
       "    <tr>\n",
       "      <th>3</th>\n",
       "      <td>09-0016027733-5-0</td>\n",
       "      <td>0</td>\n",
       "      <td>3000</td>\n",
       "      <td>PHO</td>\n",
       "      <td>HO3</td>\n",
       "      <td>Homeowners - Pristine (FL)</td>\n",
       "      <td>FCIC_Homeowners_Pristine_FL_HO3</td>\n",
       "      <td>NaN</td>\n",
       "      <td>4/23/2020 0:00</td>\n",
       "      <td>4/23/2021 0:00</td>\n",
       "      <td>...</td>\n",
       "      <td>2.0</td>\n",
       "      <td>Ultra Preferred</td>\n",
       "      <td>2.3 to 2.39 miles</td>\n",
       "      <td>NaN</td>\n",
       "      <td>0</td>\n",
       "      <td>0</td>\n",
       "      <td>0</td>\n",
       "      <td>0.0</td>\n",
       "      <td>776.208957</td>\n",
       "      <td>1005.0</td>\n",
       "    </tr>\n",
       "    <tr>\n",
       "      <th>4</th>\n",
       "      <td>17-0016804295-7-0</td>\n",
       "      <td>0</td>\n",
       "      <td>8000</td>\n",
       "      <td>PHO</td>\n",
       "      <td>HO3</td>\n",
       "      <td>Homeowners - Pristine (LA)</td>\n",
       "      <td>BSIC_Homeowners_Pristine_LA_HO3</td>\n",
       "      <td>NaN</td>\n",
       "      <td>4/28/2020 0:00</td>\n",
       "      <td>4/28/2021 0:00</td>\n",
       "      <td>...</td>\n",
       "      <td>12.0</td>\n",
       "      <td>Ultra Preferred</td>\n",
       "      <td>2.4 to 2.49 miles</td>\n",
       "      <td>NaN</td>\n",
       "      <td>0</td>\n",
       "      <td>0</td>\n",
       "      <td>0</td>\n",
       "      <td>0.0</td>\n",
       "      <td>2270.123433</td>\n",
       "      <td>3143.0</td>\n",
       "    </tr>\n",
       "  </tbody>\n",
       "</table>\n",
       "<p>5 rows × 110 columns</p>\n",
       "</div>"
      ],
      "text/plain": [
       "          WPolicyNum  WLocNum  Company Product Subline  \\\n",
       "0  39-0011653388-9-1        0     3000    HO       HO4   \n",
       "1  09-0016011670-8-1        0     3000    PHO      HO3   \n",
       "2  09-0016013861-0-1        0     3000    PHO      HO3   \n",
       "3  09-0016027733-5-0        0     3000    PHO      HO3   \n",
       "4  17-0016804295-7-0        0     8000    PHO      HO3   \n",
       "\n",
       "                   PM.Segment                      Sub.Segment  Item.Segment  \\\n",
       "0          Homeowners (NC&SC)           FCIC_Homeowners_SC_HO4           NaN   \n",
       "1  Homeowners - Pristine (FL)  FCIC_Homeowners_Pristine_FL_HO3           NaN   \n",
       "2  Homeowners - Pristine (FL)  FCIC_Homeowners_Pristine_FL_HO3           NaN   \n",
       "3  Homeowners - Pristine (FL)  FCIC_Homeowners_Pristine_FL_HO3           NaN   \n",
       "4  Homeowners - Pristine (LA)  BSIC_Homeowners_Pristine_LA_HO3           NaN   \n",
       "\n",
       "        InceptDate       ExpireDate  ...  Roof.Age  Customer_Segment  \\\n",
       "0   8/30/2020 0:00   8/30/2021 0:00  ...       NaN                     \n",
       "1   9/18/2020 0:00   9/18/2021 0:00  ...       1.0         Preferred   \n",
       "2  10/15/2020 0:00  10/15/2021 0:00  ...       6.0   Ultra Preferred   \n",
       "3   4/23/2020 0:00   4/23/2021 0:00  ...       2.0   Ultra Preferred   \n",
       "4   4/28/2020 0:00   4/28/2021 0:00  ...      12.0   Ultra Preferred   \n",
       "\n",
       "  Distance_to_Coast_Range Distance_to_Coast_Water_Type  \\\n",
       "0  2001 feet to 2500 feet                          NaN   \n",
       "1       65 to 69.99 miles                          NaN   \n",
       "2       35 to 35.99 miles                          NaN   \n",
       "3       2.3 to 2.39 miles                          NaN   \n",
       "4       2.4 to 2.49 miles                          NaN   \n",
       "\n",
       "  Policy.Deductible.Percent  Months.Owner.Occupied  Loss.Of.Use.Deductible  \\\n",
       "0                         0                      0                       0   \n",
       "1                         0                      0                       0   \n",
       "2                         0                      0                       0   \n",
       "3                         0                      0                       0   \n",
       "4                         0                      0                       0   \n",
       "\n",
       "   Total Incurred  Total Ceded Premium Total Premium  \n",
       "0             0.0            50.924196         184.0  \n",
       "1             0.0           191.071987         670.0  \n",
       "2             0.0           258.990203        1038.0  \n",
       "3             0.0           776.208957        1005.0  \n",
       "4             0.0          2270.123433        3143.0  \n",
       "\n",
       "[5 rows x 110 columns]"
      ]
     },
     "execution_count": 15,
     "metadata": {},
     "output_type": "execute_result"
    }
   ],
   "source": [
    "ins.head()"
   ]
  },
  {
   "cell_type": "markdown",
   "id": "polished-castle",
   "metadata": {},
   "source": [
    "    Focusing on 5 variables in the dataset which will be, Product, State, Total Premium, Total Ceded Premium, and Total Incurred."
   ]
  },
  {
   "cell_type": "code",
   "execution_count": 16,
   "id": "incorporate-agency",
   "metadata": {},
   "outputs": [],
   "source": [
    "ins_5 = ins[['WPolicyNum', 'Product', 'Property.State', 'Total Premium', 'Total Ceded Premium', 'Total Incurred']]"
   ]
  },
  {
   "cell_type": "code",
   "execution_count": 17,
   "id": "mexican-warning",
   "metadata": {},
   "outputs": [
    {
     "data": {
      "text/html": [
       "<div>\n",
       "<style scoped>\n",
       "    .dataframe tbody tr th:only-of-type {\n",
       "        vertical-align: middle;\n",
       "    }\n",
       "\n",
       "    .dataframe tbody tr th {\n",
       "        vertical-align: top;\n",
       "    }\n",
       "\n",
       "    .dataframe thead th {\n",
       "        text-align: right;\n",
       "    }\n",
       "</style>\n",
       "<table border=\"1\" class=\"dataframe\">\n",
       "  <thead>\n",
       "    <tr style=\"text-align: right;\">\n",
       "      <th></th>\n",
       "      <th>WPolicyNum</th>\n",
       "      <th>Product</th>\n",
       "      <th>Property.State</th>\n",
       "      <th>Total Premium</th>\n",
       "      <th>Total Ceded Premium</th>\n",
       "      <th>Total Incurred</th>\n",
       "    </tr>\n",
       "  </thead>\n",
       "  <tbody>\n",
       "    <tr>\n",
       "      <th>0</th>\n",
       "      <td>39-0011653388-9-1</td>\n",
       "      <td>HO</td>\n",
       "      <td>SC</td>\n",
       "      <td>184.0</td>\n",
       "      <td>50.924196</td>\n",
       "      <td>0.0</td>\n",
       "    </tr>\n",
       "    <tr>\n",
       "      <th>1</th>\n",
       "      <td>09-0016011670-8-1</td>\n",
       "      <td>PHO</td>\n",
       "      <td>FL</td>\n",
       "      <td>670.0</td>\n",
       "      <td>191.071987</td>\n",
       "      <td>0.0</td>\n",
       "    </tr>\n",
       "    <tr>\n",
       "      <th>2</th>\n",
       "      <td>09-0016013861-0-1</td>\n",
       "      <td>PHO</td>\n",
       "      <td>FL</td>\n",
       "      <td>1038.0</td>\n",
       "      <td>258.990203</td>\n",
       "      <td>0.0</td>\n",
       "    </tr>\n",
       "    <tr>\n",
       "      <th>3</th>\n",
       "      <td>09-0016027733-5-0</td>\n",
       "      <td>PHO</td>\n",
       "      <td>FL</td>\n",
       "      <td>1005.0</td>\n",
       "      <td>776.208957</td>\n",
       "      <td>0.0</td>\n",
       "    </tr>\n",
       "    <tr>\n",
       "      <th>4</th>\n",
       "      <td>17-0016804295-7-0</td>\n",
       "      <td>PHO</td>\n",
       "      <td>LA</td>\n",
       "      <td>3143.0</td>\n",
       "      <td>2270.123433</td>\n",
       "      <td>0.0</td>\n",
       "    </tr>\n",
       "  </tbody>\n",
       "</table>\n",
       "</div>"
      ],
      "text/plain": [
       "          WPolicyNum Product Property.State  Total Premium  \\\n",
       "0  39-0011653388-9-1    HO               SC          184.0   \n",
       "1  09-0016011670-8-1    PHO              FL          670.0   \n",
       "2  09-0016013861-0-1    PHO              FL         1038.0   \n",
       "3  09-0016027733-5-0    PHO              FL         1005.0   \n",
       "4  17-0016804295-7-0    PHO              LA         3143.0   \n",
       "\n",
       "   Total Ceded Premium  Total Incurred  \n",
       "0            50.924196             0.0  \n",
       "1           191.071987             0.0  \n",
       "2           258.990203             0.0  \n",
       "3           776.208957             0.0  \n",
       "4          2270.123433             0.0  "
      ]
     },
     "execution_count": 17,
     "metadata": {},
     "output_type": "execute_result"
    }
   ],
   "source": [
    "ins_5 = ins_5.dropna()\n",
    "ins_5.head()"
   ]
  },
  {
   "cell_type": "markdown",
   "id": "unavailable-adapter",
   "metadata": {},
   "source": [
    "    Will add a column that calculates the Net Margin which will be: (Premium - Ceded Premium - Incurred)"
   ]
  },
  {
   "cell_type": "code",
   "execution_count": 18,
   "id": "mighty-sleeping",
   "metadata": {},
   "outputs": [],
   "source": [
    "ins_5['Net_Margin'] = ins_5['Total Premium'] - ins_5['Total Ceded Premium'] - ins_5['Total Incurred']"
   ]
  },
  {
   "cell_type": "code",
   "execution_count": 19,
   "id": "dutch-deposit",
   "metadata": {},
   "outputs": [
    {
     "data": {
      "text/html": [
       "<div>\n",
       "<style scoped>\n",
       "    .dataframe tbody tr th:only-of-type {\n",
       "        vertical-align: middle;\n",
       "    }\n",
       "\n",
       "    .dataframe tbody tr th {\n",
       "        vertical-align: top;\n",
       "    }\n",
       "\n",
       "    .dataframe thead th {\n",
       "        text-align: right;\n",
       "    }\n",
       "</style>\n",
       "<table border=\"1\" class=\"dataframe\">\n",
       "  <thead>\n",
       "    <tr style=\"text-align: right;\">\n",
       "      <th></th>\n",
       "      <th>WPolicyNum</th>\n",
       "      <th>Product</th>\n",
       "      <th>Property.State</th>\n",
       "      <th>Total Premium</th>\n",
       "      <th>Total Ceded Premium</th>\n",
       "      <th>Total Incurred</th>\n",
       "      <th>Net_Margin</th>\n",
       "    </tr>\n",
       "  </thead>\n",
       "  <tbody>\n",
       "    <tr>\n",
       "      <th>0</th>\n",
       "      <td>39-0011653388-9-1</td>\n",
       "      <td>HO</td>\n",
       "      <td>SC</td>\n",
       "      <td>184.0</td>\n",
       "      <td>50.924196</td>\n",
       "      <td>0.0</td>\n",
       "      <td>133.075804</td>\n",
       "    </tr>\n",
       "    <tr>\n",
       "      <th>1</th>\n",
       "      <td>09-0016011670-8-1</td>\n",
       "      <td>PHO</td>\n",
       "      <td>FL</td>\n",
       "      <td>670.0</td>\n",
       "      <td>191.071987</td>\n",
       "      <td>0.0</td>\n",
       "      <td>478.928013</td>\n",
       "    </tr>\n",
       "    <tr>\n",
       "      <th>2</th>\n",
       "      <td>09-0016013861-0-1</td>\n",
       "      <td>PHO</td>\n",
       "      <td>FL</td>\n",
       "      <td>1038.0</td>\n",
       "      <td>258.990203</td>\n",
       "      <td>0.0</td>\n",
       "      <td>779.009797</td>\n",
       "    </tr>\n",
       "    <tr>\n",
       "      <th>3</th>\n",
       "      <td>09-0016027733-5-0</td>\n",
       "      <td>PHO</td>\n",
       "      <td>FL</td>\n",
       "      <td>1005.0</td>\n",
       "      <td>776.208957</td>\n",
       "      <td>0.0</td>\n",
       "      <td>228.791043</td>\n",
       "    </tr>\n",
       "    <tr>\n",
       "      <th>4</th>\n",
       "      <td>17-0016804295-7-0</td>\n",
       "      <td>PHO</td>\n",
       "      <td>LA</td>\n",
       "      <td>3143.0</td>\n",
       "      <td>2270.123433</td>\n",
       "      <td>0.0</td>\n",
       "      <td>872.876567</td>\n",
       "    </tr>\n",
       "  </tbody>\n",
       "</table>\n",
       "</div>"
      ],
      "text/plain": [
       "          WPolicyNum Product Property.State  Total Premium  \\\n",
       "0  39-0011653388-9-1    HO               SC          184.0   \n",
       "1  09-0016011670-8-1    PHO              FL          670.0   \n",
       "2  09-0016013861-0-1    PHO              FL         1038.0   \n",
       "3  09-0016027733-5-0    PHO              FL         1005.0   \n",
       "4  17-0016804295-7-0    PHO              LA         3143.0   \n",
       "\n",
       "   Total Ceded Premium  Total Incurred  Net_Margin  \n",
       "0            50.924196             0.0  133.075804  \n",
       "1           191.071987             0.0  478.928013  \n",
       "2           258.990203             0.0  779.009797  \n",
       "3           776.208957             0.0  228.791043  \n",
       "4          2270.123433             0.0  872.876567  "
      ]
     },
     "execution_count": 19,
     "metadata": {},
     "output_type": "execute_result"
    }
   ],
   "source": [
    "ins_5.head()"
   ]
  },
  {
   "cell_type": "code",
   "execution_count": 20,
   "id": "informal-joining",
   "metadata": {},
   "outputs": [
    {
     "data": {
      "text/html": [
       "<div>\n",
       "<style scoped>\n",
       "    .dataframe tbody tr th:only-of-type {\n",
       "        vertical-align: middle;\n",
       "    }\n",
       "\n",
       "    .dataframe tbody tr th {\n",
       "        vertical-align: top;\n",
       "    }\n",
       "\n",
       "    .dataframe thead th {\n",
       "        text-align: right;\n",
       "    }\n",
       "</style>\n",
       "<table border=\"1\" class=\"dataframe\">\n",
       "  <thead>\n",
       "    <tr style=\"text-align: right;\">\n",
       "      <th></th>\n",
       "      <th>Total Premium</th>\n",
       "      <th>Total Ceded Premium</th>\n",
       "      <th>Total Incurred</th>\n",
       "      <th>Net_Margin</th>\n",
       "    </tr>\n",
       "  </thead>\n",
       "  <tbody>\n",
       "    <tr>\n",
       "      <th>count</th>\n",
       "      <td>61606.000000</td>\n",
       "      <td>61606.000000</td>\n",
       "      <td>61606.000000</td>\n",
       "      <td>61606.000000</td>\n",
       "    </tr>\n",
       "    <tr>\n",
       "      <th>mean</th>\n",
       "      <td>1335.774767</td>\n",
       "      <td>503.191193</td>\n",
       "      <td>312.599103</td>\n",
       "      <td>519.984471</td>\n",
       "    </tr>\n",
       "    <tr>\n",
       "      <th>std</th>\n",
       "      <td>954.691254</td>\n",
       "      <td>662.625698</td>\n",
       "      <td>5960.935003</td>\n",
       "      <td>5998.066606</td>\n",
       "    </tr>\n",
       "    <tr>\n",
       "      <th>min</th>\n",
       "      <td>50.000000</td>\n",
       "      <td>0.000000</td>\n",
       "      <td>0.000000</td>\n",
       "      <td>-681840.365307</td>\n",
       "    </tr>\n",
       "    <tr>\n",
       "      <th>25%</th>\n",
       "      <td>738.000000</td>\n",
       "      <td>158.640178</td>\n",
       "      <td>0.000000</td>\n",
       "      <td>382.996880</td>\n",
       "    </tr>\n",
       "    <tr>\n",
       "      <th>50%</th>\n",
       "      <td>1117.000000</td>\n",
       "      <td>334.110177</td>\n",
       "      <td>0.000000</td>\n",
       "      <td>678.022940</td>\n",
       "    </tr>\n",
       "    <tr>\n",
       "      <th>75%</th>\n",
       "      <td>1674.000000</td>\n",
       "      <td>600.751889</td>\n",
       "      <td>0.000000</td>\n",
       "      <td>1088.984121</td>\n",
       "    </tr>\n",
       "    <tr>\n",
       "      <th>max</th>\n",
       "      <td>23705.000000</td>\n",
       "      <td>16097.212900</td>\n",
       "      <td>682511.400000</td>\n",
       "      <td>11960.838568</td>\n",
       "    </tr>\n",
       "  </tbody>\n",
       "</table>\n",
       "</div>"
      ],
      "text/plain": [
       "       Total Premium  Total Ceded Premium  Total Incurred     Net_Margin\n",
       "count   61606.000000         61606.000000    61606.000000   61606.000000\n",
       "mean     1335.774767           503.191193      312.599103     519.984471\n",
       "std       954.691254           662.625698     5960.935003    5998.066606\n",
       "min        50.000000             0.000000        0.000000 -681840.365307\n",
       "25%       738.000000           158.640178        0.000000     382.996880\n",
       "50%      1117.000000           334.110177        0.000000     678.022940\n",
       "75%      1674.000000           600.751889        0.000000    1088.984121\n",
       "max     23705.000000         16097.212900   682511.400000   11960.838568"
      ]
     },
     "execution_count": 20,
     "metadata": {},
     "output_type": "execute_result"
    }
   ],
   "source": [
    "ins_5.describe()"
   ]
  },
  {
   "cell_type": "markdown",
   "id": "potential-michigan",
   "metadata": {},
   "source": [
    "Include a histogram of each of the 5 variables – in your summary and analysis, identify any outliers, and explain the reasoning for them being outliers and how you believe they should be handled (Chapter 2)."
   ]
  },
  {
   "cell_type": "code",
   "execution_count": 66,
   "id": "unexpected-daniel",
   "metadata": {},
   "outputs": [
    {
     "data": {
      "image/png": "[encoded data removed]",
      "text/plain": [
       "<Figure size 432x288 with 1 Axes>"
      ]
     },
     "metadata": {
      "needs_background": "light"
     },
     "output_type": "display_data"
    }
   ],
   "source": [
    "hist_p = thinkstats2.Hist(ins_5['Product'], label='Product')\n",
    "thinkplot.Hist(hist_p)\n",
    "thinkplot.Config(xlabel='Product', ylabel='Count')"
   ]
  },
  {
   "cell_type": "markdown",
   "id": "strategic-consciousness",
   "metadata": {},
   "source": [
    "        Histogram above shows that PHO product has the most amount of policies, this histogram would not identify any outliers."
   ]
  },
  {
   "cell_type": "code",
   "execution_count": 84,
   "id": "square-pregnancy",
   "metadata": {},
   "outputs": [
    {
     "data": {
      "image/png": "[encoded data removed]",
      "text/plain": [
       "<Figure size 432x288 with 1 Axes>"
      ]
     },
     "metadata": {
      "needs_background": "light"
     },
     "output_type": "display_data"
    }
   ],
   "source": [
    "hist_st = thinkstats2.Hist(ins_5['Property.State'], label='State')\n",
    "thinkplot.Hist(hist_st)\n",
    "thinkplot.Config(xlabel='State', ylabel='Count')"
   ]
  },
  {
   "cell_type": "markdown",
   "id": "illegal-canvas",
   "metadata": {},
   "source": [
    "    This histogram shows that the state of FL holds the most number of policies in the company."
   ]
  },
  {
   "cell_type": "code",
   "execution_count": 85,
   "id": "differential-lyric",
   "metadata": {},
   "outputs": [
    {
     "data": {
      "image/png": "[encoded data removed]",
      "text/plain": [
       "<Figure size 432x288 with 1 Axes>"
      ]
     },
     "metadata": {
      "needs_background": "light"
     },
     "output_type": "display_data"
    }
   ],
   "source": [
    "flr_prem = np.floor(ins_5['Total Premium'])\n",
    "hist_prem = thinkstats2.Hist(flr_prem, label='Premiums')\n",
    "thinkplot.Hist(hist_prem)\n",
    "thinkplot.Config(xlabel='Premium', ylabel='Count', xlim=[0, 10000], ylim=[0, 60])"
   ]
  },
  {
   "cell_type": "markdown",
   "id": "experimental-printer",
   "metadata": {},
   "source": [
    "        There are a few outliers that I am observing which are high end homes with high amount of premiums that we can observe right below the 7,000 mark."
   ]
  },
  {
   "cell_type": "code",
   "execution_count": 86,
   "id": "possible-architecture",
   "metadata": {},
   "outputs": [
    {
     "data": {
      "image/png": "[encoded data removed]",
      "text/plain": [
       "<Figure size 432x288 with 1 Axes>"
      ]
     },
     "metadata": {
      "needs_background": "light"
     },
     "output_type": "display_data"
    }
   ],
   "source": [
    "flr_ceded = np.floor(ins_5['Total Ceded Premium'])\n",
    "hist_ceded = thinkstats2.Hist(flr_ceded, label='Ceded')\n",
    "thinkplot.Hist(hist_ceded)\n",
    "thinkplot.Config(xlabel='Ceded', ylabel='Count', xlim=[0, 4000], ylim=[0, 200])"
   ]
  },
  {
   "cell_type": "markdown",
   "id": "fallen-gateway",
   "metadata": {},
   "source": [
    "    The main outlier in the ceded are the policies that are not subject to any reinsurance contract, hence we can see the highest count forms the policies that aren't counted."
   ]
  },
  {
   "cell_type": "code",
   "execution_count": 87,
   "id": "premier-arbor",
   "metadata": {},
   "outputs": [
    {
     "data": {
      "image/png": "[encoded data removed]",
      "text/plain": [
       "<Figure size 432x288 with 1 Axes>"
      ]
     },
     "metadata": {
      "needs_background": "light"
     },
     "output_type": "display_data"
    }
   ],
   "source": [
    "flr_loss = np.floor(ins_5['Total Incurred'])\n",
    "hist_loss = thinkstats2.Hist(flr_loss, label='Loss')\n",
    "thinkplot.Hist(hist_loss)\n",
    "thinkplot.Config(xlabel='Loss', ylabel='Count', xlim=[0, 3500], ylim=[0, 2])"
   ]
  },
  {
   "cell_type": "markdown",
   "id": "damaged-tobacco",
   "metadata": {},
   "source": [
    "    This makes sense for losses as this is showing the count per policy on the amount of losses, since the data is in a chunk of a period of time, a policy can only file one claim and the amount of claims paid would move based on the loss amount."
   ]
  },
  {
   "cell_type": "code",
   "execution_count": 88,
   "id": "caring-oxide",
   "metadata": {},
   "outputs": [
    {
     "data": {
      "image/png": "[encoded data removed]",
      "text/plain": [
       "<Figure size 432x288 with 1 Axes>"
      ]
     },
     "metadata": {
      "needs_background": "light"
     },
     "output_type": "display_data"
    }
   ],
   "source": [
    "flr_net = np.floor(ins_5['Net_Margin'])\n",
    "hist_net = thinkstats2.Hist(flr_net, label='Net Margin')\n",
    "thinkplot.Hist(hist_net)\n",
    "thinkplot.Config(xlabel='Net Margin', ylabel='Count', xlim=[0, 3500], ylim=[0, 100])"
   ]
  },
  {
   "cell_type": "markdown",
   "id": "cross-breathing",
   "metadata": {},
   "source": [
    "        Outliers here are going to be the policies that are not subject to reinsurance and have no losses which can show full profit from the premium. Most of the policies that are in the average of losses and reinsurance will profit about 500 per policy."
   ]
  },
  {
   "cell_type": "markdown",
   "id": "handy-narrow",
   "metadata": {},
   "source": [
    "Using pg. 29 of your text as an example, compare two scenarios in your data using a PMF. Reminder, this isn’t comparing two variables against each other – it is the same variable, but a different scenario. Almost like a filter. The example in the book is first babies compared to all other babies, it is still the same variable, but breaking the data out based on criteria we are exploring (Chapter 3)."
   ]
  },
  {
   "cell_type": "markdown",
   "id": "romance-evidence",
   "metadata": {},
   "source": [
    "    Will attempt a PMF on Total Premium between the Products HO and PHO."
   ]
  },
  {
   "cell_type": "code",
   "execution_count": 89,
   "id": "frozen-following",
   "metadata": {},
   "outputs": [],
   "source": [
    "ins_5_HO = ins_5[ins_5.Product == 'HO  ']\n",
    "ins_5_PHO = ins_5[ins_5.Product == 'PHO ']"
   ]
  },
  {
   "cell_type": "code",
   "execution_count": 90,
   "id": "blind-drama",
   "metadata": {},
   "outputs": [],
   "source": [
    "ho_prem_pmf = thinkstats2.Pmf(ins_5_HO['Total Premium'], label='HO')\n",
    "pho_prem_pmf = thinkstats2.Pmf(ins_5_PHO['Total Premium'], label='PHO')"
   ]
  },
  {
   "cell_type": "code",
   "execution_count": 91,
   "id": "southwest-luxury",
   "metadata": {},
   "outputs": [
    {
     "data": {
      "image/png": "[encoded data removed]",
      "text/plain": [
       "<Figure size 432x288 with 1 Axes>"
      ]
     },
     "metadata": {
      "needs_background": "light"
     },
     "output_type": "display_data"
    }
   ],
   "source": [
    "thinkplot.PrePlot(2)\n",
    "thinkplot.SubPlot(2)\n",
    "thinkplot.Pmfs([ho_prem_pmf, pho_prem_pmf])\n",
    "thinkplot.Config(xlabel='Total Premium')"
   ]
  },
  {
   "cell_type": "markdown",
   "id": "worst-inventory",
   "metadata": {},
   "source": [
    "Create 1 CDF with one of your variables, using page 41-44 as your guide, what does this tell you about your variable, and how does it address the question you are trying to answer (Chapter 4)."
   ]
  },
  {
   "cell_type": "code",
   "execution_count": 92,
   "id": "signed-hardware",
   "metadata": {},
   "outputs": [],
   "source": [
    "ho_prem_cdf = thinkstats2.Cdf(ins_5_HO['Total Premium'], label='HO')\n",
    "pho_prem_cdf = thinkstats2.Cdf(ins_5_PHO['Total Premium'], label='PHO')"
   ]
  },
  {
   "cell_type": "code",
   "execution_count": 93,
   "id": "generous-nebraska",
   "metadata": {},
   "outputs": [
    {
     "data": {
      "image/png": "[encoded data removed]",
      "text/plain": [
       "<Figure size 432x288 with 1 Axes>"
      ]
     },
     "metadata": {
      "needs_background": "light"
     },
     "output_type": "display_data"
    }
   ],
   "source": [
    "thinkplot.PrePlot(2)\n",
    "thinkplot.Cdfs([ho_prem_cdf, pho_prem_cdf])\n",
    "thinkplot.Config(xlabel='Total Premium', ylabel='CDF')"
   ]
  },
  {
   "cell_type": "markdown",
   "id": "environmental-subsection",
   "metadata": {},
   "source": [
    "Plot 1 analytical distribution and provide your analysis on how it applies to the dataset you have chosen (Chapter 5)."
   ]
  },
  {
   "cell_type": "markdown",
   "id": "dirty-mailman",
   "metadata": {},
   "source": [
    "    Will attempt a lognormal model on Ceded Premiums."
   ]
  },
  {
   "cell_type": "code",
   "execution_count": 94,
   "id": "understanding-content",
   "metadata": {},
   "outputs": [],
   "source": [
    "def MakeNormalModel(ceded):\n",
    "\n",
    "    cdf = thinkstats2.Cdf(ceded, label='ceded')\n",
    "\n",
    "    mean, var = thinkstats2.TrimmedMeanVar(ceded)\n",
    "    std = np.sqrt(var)\n",
    "    print('n, mean, std', len(ceded), mean, std)\n",
    "\n",
    "    xmin = mean - 4 * std\n",
    "    xmax = mean + 4 * std\n",
    "\n",
    "    xs, ps = thinkstats2.RenderNormalCdf(mean, std, xmin, xmax)\n",
    "    thinkplot.Plot(xs, ps, label='model', linewidth=4, color='0.8')\n",
    "    thinkplot.Cdf(cdf)"
   ]
  },
  {
   "cell_type": "code",
   "execution_count": 95,
   "id": "living-finger",
   "metadata": {},
   "outputs": [],
   "source": [
    "ins_ceded = ins_5['Total Ceded Premium'].dropna()"
   ]
  },
  {
   "cell_type": "code",
   "execution_count": 96,
   "id": "departmental-reality",
   "metadata": {},
   "outputs": [
    {
     "name": "stdout",
     "output_type": "stream",
     "text": [
      "n, mean, std 61606 465.14541261801577 483.57437213047007\n"
     ]
    },
    {
     "data": {
      "image/png": "[encoded data removed]",
      "text/plain": [
       "<Figure size 432x288 with 1 Axes>"
      ]
     },
     "metadata": {
      "needs_background": "light"
     },
     "output_type": "display_data"
    }
   ],
   "source": [
    "MakeNormalModel(ins_ceded)\n",
    "thinkplot.Config(title='Computing CDF on Ceded Premiums', xlabel='Ceded',\n",
    "                 ylabel='CDF', loc='upper right')"
   ]
  },
  {
   "cell_type": "markdown",
   "id": "scenic-detection",
   "metadata": {},
   "source": [
    "    The model is a good fit for the data, meaning every policy that gets issued will cede a portion of it."
   ]
  },
  {
   "cell_type": "markdown",
   "id": "pleasant-noise",
   "metadata": {},
   "source": [
    "Create two scatter plots comparing two variables and provide your analysis on correlation and causation. Remember, covariance, Pearson’s correlation, and Non-Linear "
   ]
  },
  {
   "cell_type": "code",
   "execution_count": 97,
   "id": "sudden-regard",
   "metadata": {},
   "outputs": [],
   "source": [
    "ins_prem = ins_5['Total Premium']\n",
    "ins_loss = ins_5['Total Incurred']\n",
    "inc_ceded = ins_5['Total Ceded Premium']"
   ]
  },
  {
   "cell_type": "markdown",
   "id": "biblical-conversation",
   "metadata": {},
   "source": [
    "Scatter Plot for Premiums against Losses:"
   ]
  },
  {
   "cell_type": "code",
   "execution_count": 98,
   "id": "handy-advancement",
   "metadata": {},
   "outputs": [
    {
     "data": {
      "image/png": "[encoded data removed]",
      "text/plain": [
       "<Figure size 432x288 with 1 Axes>"
      ]
     },
     "metadata": {
      "needs_background": "light"
     },
     "output_type": "display_data"
    }
   ],
   "source": [
    "thinkplot.Scatter(ins_prem, ins_loss, alpha=1)\n",
    "thinkplot.Config(xlabel='Premium',\n",
    "                 ylabel='Loss')"
   ]
  },
  {
   "cell_type": "markdown",
   "id": "searching-forty",
   "metadata": {},
   "source": [
    "Scatter Plot for Premiums against Ceded Premium:"
   ]
  },
  {
   "cell_type": "code",
   "execution_count": 99,
   "id": "norman-limit",
   "metadata": {},
   "outputs": [
    {
     "data": {
      "image/png": "[encoded data removed]",
      "text/plain": [
       "<Figure size 432x288 with 1 Axes>"
      ]
     },
     "metadata": {
      "needs_background": "light"
     },
     "output_type": "display_data"
    }
   ],
   "source": [
    "thinkplot.Scatter(ins_prem, ins_ceded, alpha=1)\n",
    "thinkplot.Config(xlabel='Premium',\n",
    "                 ylabel='Ceded')"
   ]
  },
  {
   "cell_type": "code",
   "execution_count": 100,
   "id": "wireless-snowboard",
   "metadata": {},
   "outputs": [],
   "source": [
    "def Cov(xs, ys, meanx=None, meany=None):\n",
    "    xs = np.asarray(xs)\n",
    "    ys = np.asarray(ys)\n",
    "\n",
    "    if meanx is None:\n",
    "        meanx = np.mean(xs)\n",
    "    if meany is None:\n",
    "        meany = np.mean(ys)\n",
    "\n",
    "    cov = np.dot(xs-meanx, ys-meany) / len(xs)\n",
    "    return cov"
   ]
  },
  {
   "cell_type": "code",
   "execution_count": 101,
   "id": "coated-terrace",
   "metadata": {},
   "outputs": [],
   "source": [
    "def Corr(xs, ys):\n",
    "    xs = np.asarray(xs)\n",
    "    ys = np.asarray(ys)\n",
    "\n",
    "    meanx, varx = thinkstats2.MeanVar(xs)\n",
    "    meany, vary = thinkstats2.MeanVar(ys)\n",
    "\n",
    "    corr = Cov(xs, ys, meanx, meany) / np.sqrt(varx * vary)\n",
    "    return corr"
   ]
  },
  {
   "cell_type": "code",
   "execution_count": 102,
   "id": "certified-seafood",
   "metadata": {},
   "outputs": [],
   "source": [
    "def SpearmanCorr(xs, ys):\n",
    "    xranks = pd.Series(xs).rank()\n",
    "    yranks = pd.Series(ys).rank()\n",
    "    return Corr(xranks, yranks)"
   ]
  },
  {
   "cell_type": "markdown",
   "id": "inside-dispute",
   "metadata": {},
   "source": [
    "Covariance, Correlation, and Spearman Correlation on Premiums vs Losses:"
   ]
  },
  {
   "cell_type": "code",
   "execution_count": 103,
   "id": "explicit-warehouse",
   "metadata": {},
   "outputs": [
    {
     "data": {
      "text/plain": [
       "74392.9096584277"
      ]
     },
     "execution_count": 103,
     "metadata": {},
     "output_type": "execute_result"
    }
   ],
   "source": [
    "Cov(ins_prem, ins_loss)"
   ]
  },
  {
   "cell_type": "markdown",
   "id": "agricultural-actress",
   "metadata": {},
   "source": [
    "    Positive coefficient means that more premiums we get, more losses will happen."
   ]
  },
  {
   "cell_type": "code",
   "execution_count": 104,
   "id": "moderate-staff",
   "metadata": {},
   "outputs": [
    {
     "data": {
      "text/plain": [
       "0.01307257868157886"
      ]
     },
     "execution_count": 104,
     "metadata": {},
     "output_type": "execute_result"
    }
   ],
   "source": [
    "Corr(ins_prem, ins_loss)"
   ]
  },
  {
   "cell_type": "code",
   "execution_count": 105,
   "id": "therapeutic-medicaid",
   "metadata": {},
   "outputs": [
    {
     "data": {
      "text/plain": [
       "0.033853141733091965"
      ]
     },
     "execution_count": 105,
     "metadata": {},
     "output_type": "execute_result"
    }
   ],
   "source": [
    "SpearmanCorr(ins_prem, ins_loss)"
   ]
  },
  {
   "cell_type": "markdown",
   "id": "pretty-supply",
   "metadata": {},
   "source": [
    "    The covariance stated that a positive coefficient stating if premiums increase, losses will do the same. However, after running a correlation test and Spearman's correlation test, the result is 0.013 which is close to zero. Meaning, they're having more or less premiums doesnt mean that losses will happen. This makes sense as a company can have a year where they are shrinking and also having a bad weather year causing so many losses to occur. Or, growing the premiums where that year had no weather impacts that could affect those policies as much."
   ]
  },
  {
   "cell_type": "code",
   "execution_count": 106,
   "id": "military-supplier",
   "metadata": {},
   "outputs": [
    {
     "data": {
      "text/plain": [
       "0.033853141733091965"
      ]
     },
     "execution_count": 106,
     "metadata": {},
     "output_type": "execute_result"
    }
   ],
   "source": [
    "SpearmanCorr(ins_prem, ins_loss)"
   ]
  },
  {
   "cell_type": "markdown",
   "id": "literary-symposium",
   "metadata": {},
   "source": [
    "    Covariance, Correlation, and Spearman Correlation on Premiums vs Ceded Premiums:"
   ]
  },
  {
   "cell_type": "code",
   "execution_count": 107,
   "id": "athletic-today",
   "metadata": {},
   "outputs": [
    {
     "data": {
      "text/plain": [
       "408984.7114696685"
      ]
     },
     "execution_count": 107,
     "metadata": {},
     "output_type": "execute_result"
    }
   ],
   "source": [
    "Cov(ins_prem, ins_ceded)"
   ]
  },
  {
   "cell_type": "markdown",
   "id": "prepared-literature",
   "metadata": {},
   "source": [
    "    Positive coefficient means that more premiums we get, more premium will be given to the reinsurer."
   ]
  },
  {
   "cell_type": "code",
   "execution_count": 108,
   "id": "exciting-minister",
   "metadata": {},
   "outputs": [
    {
     "data": {
      "text/plain": [
       "0.6465213999120649"
      ]
     },
     "execution_count": 108,
     "metadata": {},
     "output_type": "execute_result"
    }
   ],
   "source": [
    "Corr(ins_prem, ins_ceded)"
   ]
  },
  {
   "cell_type": "code",
   "execution_count": 109,
   "id": "greek-round",
   "metadata": {},
   "outputs": [
    {
     "data": {
      "text/plain": [
       "0.6305590457284703"
      ]
     },
     "execution_count": 109,
     "metadata": {},
     "output_type": "execute_result"
    }
   ],
   "source": [
    "SpearmanCorr(ins_prem, ins_ceded)"
   ]
  },
  {
   "cell_type": "markdown",
   "id": "primary-shame",
   "metadata": {},
   "source": [
    "    Correlation and Spearman's Correlation states that there is a positive relationship between premiums and what are given to the reinsurer. This makes sense because depending on the contract (and there could be more than one contract in place) the more premiums we are writing the more we are giving the reinsurer to protect us from exposure. Now the reason that the relationship isnt a full 1 is because some contracts would require a fixed monthly fee as opposed to others that are ceding a percentage of the premium. In addition, some policies maybe not subject to reinsurers which is also another factor."
   ]
  },
  {
   "cell_type": "markdown",
   "id": "respected-booth",
   "metadata": {},
   "source": [
    "Conduct a test on your hypothesis using one of the methods covered in Chapter 9."
   ]
  },
  {
   "cell_type": "markdown",
   "id": "greatest-story",
   "metadata": {},
   "source": [
    "    Will conduct a Permutation Test."
   ]
  },
  {
   "cell_type": "code",
   "execution_count": 110,
   "id": "increasing-blackjack",
   "metadata": {},
   "outputs": [],
   "source": [
    "class DiffMeansPermute(thinkstats2.HypothesisTest):\n",
    "\n",
    "    def TestStatistic(self, data):\n",
    "        group1, group2 = data\n",
    "        test_stat = abs(group1.mean() - group2.mean())\n",
    "        return test_stat\n",
    "\n",
    "    def MakeModel(self):\n",
    "        group1, group2 = self.data\n",
    "        self.n, self.m = len(group1), len(group2)\n",
    "        self.pool = np.hstack((group1, group2))\n",
    "\n",
    "    def RunModel(self):\n",
    "        np.random.shuffle(self.pool)\n",
    "        data = self.pool[:self.n], self.pool[self.n:]\n",
    "        return data"
   ]
  },
  {
   "cell_type": "code",
   "execution_count": 111,
   "id": "interstate-purse",
   "metadata": {},
   "outputs": [],
   "source": [
    "ins_loss_ = ins_5_HO['Total Incurred'].values, ins_5_PHO['Total Incurred']"
   ]
  },
  {
   "cell_type": "code",
   "execution_count": 112,
   "id": "structured-richardson",
   "metadata": {},
   "outputs": [
    {
     "data": {
      "text/plain": [
       "0.278"
      ]
     },
     "execution_count": 112,
     "metadata": {},
     "output_type": "execute_result"
    }
   ],
   "source": [
    "ht_loss = DiffMeansPermute(ins_loss_)\n",
    "pvalue = ht_loss.PValue()\n",
    "pvalue"
   ]
  },
  {
   "cell_type": "markdown",
   "id": "numerous-daughter",
   "metadata": {},
   "source": [
    "    P value came at 27.8% which is plausible that the observed difference is the result from random sampling."
   ]
  },
  {
   "cell_type": "markdown",
   "id": "encouraging-walter",
   "metadata": {},
   "source": [
    "For this project, conduct a regression analysis on either one dependent and one explanatory variable, or multiple explanatory variables (Chapter 10 & 11)."
   ]
  },
  {
   "cell_type": "markdown",
   "id": "generic-thanksgiving",
   "metadata": {},
   "source": [
    "    Will attempt a linear regression between Premiums Net Margin."
   ]
  },
  {
   "cell_type": "code",
   "execution_count": 115,
   "id": "rapid-corner",
   "metadata": {},
   "outputs": [
    {
     "data": {
      "text/html": [
       "<table class=\"simpletable\">\n",
       "<caption>OLS Regression Results</caption>\n",
       "<tr>\n",
       "  <th>Dep. Variable:</th>    <td>ins_5[\"Total Premium\"]</td> <th>  R-squared:         </th>  <td>   0.006</td>  \n",
       "</tr>\n",
       "<tr>\n",
       "  <th>Model:</th>                      <td>OLS</td>          <th>  Adj. R-squared:    </th>  <td>   0.006</td>  \n",
       "</tr>\n",
       "<tr>\n",
       "  <th>Method:</th>                <td>Least Squares</td>     <th>  F-statistic:       </th>  <td>   346.2</td>  \n",
       "</tr>\n",
       "<tr>\n",
       "  <th>Date:</th>                <td>Fri, 19 Nov 2021</td>    <th>  Prob (F-statistic):</th>  <td>4.72e-77</td>  \n",
       "</tr>\n",
       "<tr>\n",
       "  <th>Time:</th>                    <td>12:19:55</td>        <th>  Log-Likelihood:    </th> <td>-5.0994e+05</td>\n",
       "</tr>\n",
       "<tr>\n",
       "  <th>No. Observations:</th>         <td> 61606</td>         <th>  AIC:               </th>  <td>1.020e+06</td> \n",
       "</tr>\n",
       "<tr>\n",
       "  <th>Df Residuals:</th>             <td> 61604</td>         <th>  BIC:               </th>  <td>1.020e+06</td> \n",
       "</tr>\n",
       "<tr>\n",
       "  <th>Df Model:</th>                 <td>     1</td>         <th>                     </th>      <td> </td>     \n",
       "</tr>\n",
       "<tr>\n",
       "  <th>Covariance Type:</th>         <td>nonrobust</td>       <th>                     </th>      <td> </td>     \n",
       "</tr>\n",
       "</table>\n",
       "<table class=\"simpletable\">\n",
       "<tr>\n",
       "           <td></td>              <th>coef</th>     <th>std err</th>      <th>t</th>      <th>P>|t|</th>  <th>[0.025</th>    <th>0.975]</th>  \n",
       "</tr>\n",
       "<tr>\n",
       "  <th>Intercept</th>           <td> 1329.5880</td> <td>    3.850</td> <td>  345.345</td> <td> 0.000</td> <td> 1322.042</td> <td> 1337.134</td>\n",
       "</tr>\n",
       "<tr>\n",
       "  <th>ins_5[\"Net_Margin\"]</th> <td>    0.0119</td> <td>    0.001</td> <td>   18.606</td> <td> 0.000</td> <td>    0.011</td> <td>    0.013</td>\n",
       "</tr>\n",
       "</table>\n",
       "<table class=\"simpletable\">\n",
       "<tr>\n",
       "  <th>Omnibus:</th>       <td>40193.896</td> <th>  Durbin-Watson:     </th>  <td>   1.893</td>  \n",
       "</tr>\n",
       "<tr>\n",
       "  <th>Prob(Omnibus):</th>  <td> 0.000</td>   <th>  Jarque-Bera (JB):  </th> <td>1055019.631</td>\n",
       "</tr>\n",
       "<tr>\n",
       "  <th>Skew:</th>           <td> 2.740</td>   <th>  Prob(JB):          </th>  <td>    0.00</td>  \n",
       "</tr>\n",
       "<tr>\n",
       "  <th>Kurtosis:</th>       <td>22.519</td>   <th>  Cond. No.          </th>  <td>6.04e+03</td>  \n",
       "</tr>\n",
       "</table><br/><br/>Notes:<br/>[1] Standard Errors assume that the covariance matrix of the errors is correctly specified.<br/>[2] The condition number is large, 6.04e+03. This might indicate that there are<br/>strong multicollinearity or other numerical problems."
      ],
      "text/plain": [
       "<class 'statsmodels.iolib.summary.Summary'>\n",
       "\"\"\"\n",
       "                              OLS Regression Results                              \n",
       "==================================================================================\n",
       "Dep. Variable:     ins_5[\"Total Premium\"]   R-squared:                       0.006\n",
       "Model:                                OLS   Adj. R-squared:                  0.006\n",
       "Method:                     Least Squares   F-statistic:                     346.2\n",
       "Date:                    Fri, 19 Nov 2021   Prob (F-statistic):           4.72e-77\n",
       "Time:                            12:19:55   Log-Likelihood:            -5.0994e+05\n",
       "No. Observations:                   61606   AIC:                         1.020e+06\n",
       "Df Residuals:                       61604   BIC:                         1.020e+06\n",
       "Df Model:                               1                                         \n",
       "Covariance Type:                nonrobust                                         \n",
       "=======================================================================================\n",
       "                          coef    std err          t      P>|t|      [0.025      0.975]\n",
       "---------------------------------------------------------------------------------------\n",
       "Intercept            1329.5880      3.850    345.345      0.000    1322.042    1337.134\n",
       "ins_5[\"Net_Margin\"]     0.0119      0.001     18.606      0.000       0.011       0.013\n",
       "==============================================================================\n",
       "Omnibus:                    40193.896   Durbin-Watson:                   1.893\n",
       "Prob(Omnibus):                  0.000   Jarque-Bera (JB):          1055019.631\n",
       "Skew:                           2.740   Prob(JB):                         0.00\n",
       "Kurtosis:                      22.519   Cond. No.                     6.04e+03\n",
       "==============================================================================\n",
       "\n",
       "Notes:\n",
       "[1] Standard Errors assume that the covariance matrix of the errors is correctly specified.\n",
       "[2] The condition number is large, 6.04e+03. This might indicate that there are\n",
       "strong multicollinearity or other numerical problems.\n",
       "\"\"\""
      ]
     },
     "execution_count": 115,
     "metadata": {},
     "output_type": "execute_result"
    }
   ],
   "source": [
    "formula = 'ins_5[\"Total Premium\"] ~ ins_5[\"Net_Margin\"]'\n",
    "model = smf.ols(formula, data=ins_5)\n",
    "results = model.fit()\n",
    "results.summary()"
   ]
  },
  {
   "cell_type": "code",
   "execution_count": null,
   "id": "charming-somewhere",
   "metadata": {},
   "outputs": [],
   "source": []
  }
 ],
 "metadata": {
  "kernelspec": {
   "display_name": "Python 3",
   "language": "python",
   "name": "python3"
  },
  "language_info": {
   "codemirror_mode": {
    "name": "ipython",
    "version": 3
   },
   "file_extension": ".py",
   "mimetype": "text/x-python",
   "name": "python",
   "nbconvert_exporter": "python",
   "pygments_lexer": "ipython3",
   "version": "3.8.8"
  }
 },
 "nbformat": 4,
 "nbformat_minor": 5
}
