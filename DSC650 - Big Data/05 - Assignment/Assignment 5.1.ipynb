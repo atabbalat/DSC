{
 "cells": [
  {
   "cell_type": "markdown",
   "metadata": {
    "id": "AoP6cQxbQPVp"
   },
   "source": [
    "### Week 5\n",
    "### DSC 650\n",
    "### Abed Tabbalat"
   ]
  },
  {
   "cell_type": "code",
   "execution_count": 1,
   "metadata": {
    "colab": {
     "base_uri": "https://localhost:8080/"
    },
    "executionInfo": {
     "elapsed": 27382,
     "status": "ok",
     "timestamp": 1679353725747,
     "user": {
      "displayName": "Abed Tabbalat",
      "userId": "12186395273444324238"
     },
     "user_tz": 240
    },
    "id": "cRC_YlMMQLRA",
    "outputId": "21f78207-3e63-45b6-c20f-8ea0baece119"
   },
   "outputs": [
    {
     "name": "stdout",
     "output_type": "stream",
     "text": [
      "Mounted at /content/drive\n",
      "/content/drive/My Drive/DSC650/Original/dsc650/assignments/assignment05\n"
     ]
    }
   ],
   "source": [
    "# Mounting drive\n",
    "import os\n",
    "from google.colab import drive\n",
    "drive.mount('/content/drive', force_remount = True)\n",
    "os.chdir('/content/drive/My Drive/DSC650/Original/dsc650/assignments/assignment05')\n",
    "!pwd"
   ]
  },
  {
   "cell_type": "code",
   "execution_count": 2,
   "metadata": {
    "executionInfo": {
     "elapsed": 3753,
     "status": "ok",
     "timestamp": 1679353752508,
     "user": {
      "displayName": "Abed Tabbalat",
      "userId": "12186395273444324238"
     },
     "user_tz": 240
    },
    "id": "DW0wmmhrRGh7"
   },
   "outputs": [],
   "source": [
    "# Imports\n",
    "import pandas as pd\n",
    "import numpy as np\n",
    "import matplotlib.pyplot as plt\n",
    "from keras import models\n",
    "from keras import layers\n",
    "from keras import optimizers\n",
    "from keras import losses\n",
    "from keras import metrics\n",
    "from keras.datasets import imdb"
   ]
  },
  {
   "cell_type": "markdown",
   "metadata": {
    "id": "j6A7ZWEHRjui"
   },
   "source": [
    "## Importing Data"
   ]
  },
  {
   "cell_type": "code",
   "execution_count": 3,
   "metadata": {
    "colab": {
     "base_uri": "https://localhost:8080/"
    },
    "executionInfo": {
     "elapsed": 9215,
     "status": "ok",
     "timestamp": 1679353764612,
     "user": {
      "displayName": "Abed Tabbalat",
      "userId": "12186395273444324238"
     },
     "user_tz": 240
    },
    "id": "eJJ5mwEtRnVm",
    "outputId": "426563cb-6970-4f75-f3a1-c70a5ff6ed22"
   },
   "outputs": [
    {
     "name": "stdout",
     "output_type": "stream",
     "text": [
      "Downloading data from https://storage.googleapis.com/tensorflow/tf-keras-datasets/imdb.npz\n",
      "17464789/17464789 [==============================] - 1s 0us/step\n"
     ]
    }
   ],
   "source": [
    "(train_data, train_labels), (test_data, test_labels) = imdb.load_data(num_words = 10000)"
   ]
  },
  {
   "cell_type": "markdown",
   "metadata": {
    "id": "QaXfG0pASUgv"
   },
   "source": [
    "## Data Prep"
   ]
  },
  {
   "cell_type": "code",
   "execution_count": 4,
   "metadata": {
    "executionInfo": {
     "elapsed": 3672,
     "status": "ok",
     "timestamp": 1679353869904,
     "user": {
      "displayName": "Abed Tabbalat",
      "userId": "12186395273444324238"
     },
     "user_tz": 240
    },
    "id": "VYdIH4-cRzLb"
   },
   "outputs": [],
   "source": [
    "def vectorize_sequences(sequences, dimension=10000):\n",
    "    # Create an all-zero matrix of shape (len(sequences), dimension)\n",
    "    results = np.zeros((len(sequences), dimension))\n",
    "\n",
    "    # Set specific indices of results[i] to 1s\n",
    "    for i, sequence in enumerate(sequences):\n",
    "        results[i, sequence] = 1.\n",
    "\n",
    "    return results\n",
    "\n",
    "# Vectorize the training data\n",
    "x_train = vectorize_sequences(train_data)\n",
    "\n",
    "# Vectorize the test data\n",
    "x_test = vectorize_sequences(test_data)"
   ]
  },
  {
   "cell_type": "code",
   "execution_count": 5,
   "metadata": {
    "executionInfo": {
     "elapsed": 305,
     "status": "ok",
     "timestamp": 1679353923969,
     "user": {
      "displayName": "Abed Tabbalat",
      "userId": "12186395273444324238"
     },
     "user_tz": 240
    },
    "id": "XmlK2r42Szw1"
   },
   "outputs": [],
   "source": [
    "y_train = np.asarray(train_labels).astype('float32')\n",
    "y_test = np.asarray(test_labels).astype('float32')"
   ]
  },
  {
   "cell_type": "markdown",
   "metadata": {
    "id": "GlPwm8J7S2KK"
   },
   "source": [
    "## Model"
   ]
  },
  {
   "cell_type": "code",
   "execution_count": 6,
   "metadata": {
    "executionInfo": {
     "elapsed": 823,
     "status": "ok",
     "timestamp": 1679353982612,
     "user": {
      "displayName": "Abed Tabbalat",
      "userId": "12186395273444324238"
     },
     "user_tz": 240
    },
    "id": "FJ7D14DKS6ZE"
   },
   "outputs": [],
   "source": [
    "# Build a Keras sequential model\n",
    "model = models.Sequential()\n",
    "\n",
    "# Add layers to the model\n",
    "model.add(layers.Dense(16, activation='relu', input_shape=(10000,)))\n",
    "model.add(layers.Dense(16, activation='relu'))\n",
    "model.add(layers.Dense(1, activation='sigmoid'))"
   ]
  },
  {
   "cell_type": "code",
   "execution_count": 7,
   "metadata": {
    "colab": {
     "base_uri": "https://localhost:8080/"
    },
    "executionInfo": {
     "elapsed": 292,
     "status": "ok",
     "timestamp": 1679354066616,
     "user": {
      "displayName": "Abed Tabbalat",
      "userId": "12186395273444324238"
     },
     "user_tz": 240
    },
    "id": "t0XAP0c3TDaX",
    "outputId": "7945660f-571b-43b0-a736-94b5ff5135ea"
   },
   "outputs": [
    {
     "name": "stderr",
     "output_type": "stream",
     "text": [
      "/usr/local/lib/python3.9/dist-packages/keras/optimizers/optimizer_v2/rmsprop.py:143: UserWarning: The `lr` argument is deprecated, use `learning_rate` instead.\n",
      "  super().__init__(name, **kwargs)\n"
     ]
    }
   ],
   "source": [
    "# Compile the model using RMSprop optimizer and binary crossentropy loss function\n",
    "model.compile(optimizer='rmsprop', loss='binary_crossentropy', metrics=['accuracy'])\n",
    "\n",
    "# Compile the model using RMSprop optimizer with a learning rate of 0.001 and binary crossentropy loss function\n",
    "model.compile(optimizer=optimizers.RMSprop(lr=0.001), loss='binary_crossentropy', metrics=['accuracy'])\n",
    "\n",
    "# Compile the model using RMSprop optimizer with a learning rate of 0.001 and binary crossentropy loss function and binary accuracy metric\n",
    "model.compile(optimizer=optimizers.RMSprop(lr=0.001), loss=losses.binary_crossentropy, metrics=[metrics.binary_accuracy])\n"
   ]
  },
  {
   "cell_type": "code",
   "execution_count": 8,
   "metadata": {
    "executionInfo": {
     "elapsed": 2,
     "status": "ok",
     "timestamp": 1679354110412,
     "user": {
      "displayName": "Abed Tabbalat",
      "userId": "12186395273444324238"
     },
     "user_tz": 240
    },
    "id": "Ti9mbxpcTgz0"
   },
   "outputs": [],
   "source": [
    "# Split the training data into a validation set and a partial training set\n",
    "x_val = x_train[:10000]\n",
    "partial_x_train = x_train[10000:]\n",
    "\n",
    "# Split the training labels into a validation set and a partial training set\n",
    "y_val = y_train[:10000]\n",
    "partial_y_train = y_train[10000:]"
   ]
  },
  {
   "cell_type": "code",
   "execution_count": 9,
   "metadata": {
    "colab": {
     "base_uri": "https://localhost:8080/"
    },
    "executionInfo": {
     "elapsed": 43341,
     "status": "ok",
     "timestamp": 1679354186888,
     "user": {
      "displayName": "Abed Tabbalat",
      "userId": "12186395273444324238"
     },
     "user_tz": 240
    },
    "id": "BXuu19C8Tio3",
    "outputId": "cc05965e-5d16-4ebb-c7f7-2cfbd6a546ad"
   },
   "outputs": [
    {
     "name": "stdout",
     "output_type": "stream",
     "text": [
      "Epoch 1/20\n",
      "30/30 [==============================] - 3s 83ms/step - loss: 0.5298 - acc: 0.7732 - val_loss: 0.3935 - val_acc: 0.8708\n",
      "Epoch 2/20\n",
      "30/30 [==============================] - 2s 60ms/step - loss: 0.3259 - acc: 0.8933 - val_loss: 0.3138 - val_acc: 0.8845\n",
      "Epoch 3/20\n",
      "30/30 [==============================] - 2s 70ms/step - loss: 0.2381 - acc: 0.9219 - val_loss: 0.2976 - val_acc: 0.8801\n",
      "Epoch 4/20\n",
      "30/30 [==============================] - 2s 58ms/step - loss: 0.1936 - acc: 0.9376 - val_loss: 0.2776 - val_acc: 0.8889\n",
      "Epoch 5/20\n",
      "30/30 [==============================] - 1s 45ms/step - loss: 0.1616 - acc: 0.9491 - val_loss: 0.3250 - val_acc: 0.8738\n",
      "Epoch 6/20\n",
      "30/30 [==============================] - 1s 46ms/step - loss: 0.1382 - acc: 0.9555 - val_loss: 0.2828 - val_acc: 0.8868\n",
      "Epoch 7/20\n",
      "30/30 [==============================] - 1s 45ms/step - loss: 0.1178 - acc: 0.9653 - val_loss: 0.3167 - val_acc: 0.8804\n",
      "Epoch 8/20\n",
      "30/30 [==============================] - 1s 45ms/step - loss: 0.1009 - acc: 0.9711 - val_loss: 0.3054 - val_acc: 0.8827\n",
      "Epoch 9/20\n",
      "30/30 [==============================] - 2s 55ms/step - loss: 0.0876 - acc: 0.9761 - val_loss: 0.3211 - val_acc: 0.8845\n",
      "Epoch 10/20\n",
      "30/30 [==============================] - 2s 55ms/step - loss: 0.0737 - acc: 0.9806 - val_loss: 0.3476 - val_acc: 0.8732\n",
      "Epoch 11/20\n",
      "30/30 [==============================] - 2s 58ms/step - loss: 0.0651 - acc: 0.9835 - val_loss: 0.3532 - val_acc: 0.8816\n",
      "Epoch 12/20\n",
      "30/30 [==============================] - 2s 73ms/step - loss: 0.0502 - acc: 0.9900 - val_loss: 0.4484 - val_acc: 0.8658\n",
      "Epoch 13/20\n",
      "30/30 [==============================] - 2s 69ms/step - loss: 0.0472 - acc: 0.9901 - val_loss: 0.4042 - val_acc: 0.8777\n",
      "Epoch 14/20\n",
      "30/30 [==============================] - 1s 44ms/step - loss: 0.0391 - acc: 0.9920 - val_loss: 0.4095 - val_acc: 0.8744\n",
      "Epoch 15/20\n",
      "30/30 [==============================] - 1s 44ms/step - loss: 0.0309 - acc: 0.9955 - val_loss: 0.4708 - val_acc: 0.8643\n",
      "Epoch 16/20\n",
      "30/30 [==============================] - 1s 45ms/step - loss: 0.0276 - acc: 0.9955 - val_loss: 0.4578 - val_acc: 0.8767\n",
      "Epoch 17/20\n",
      "30/30 [==============================] - 1s 45ms/step - loss: 0.0228 - acc: 0.9965 - val_loss: 0.4749 - val_acc: 0.8702\n",
      "Epoch 18/20\n",
      "30/30 [==============================] - 1s 44ms/step - loss: 0.0169 - acc: 0.9985 - val_loss: 0.5407 - val_acc: 0.8722\n",
      "Epoch 19/20\n",
      "30/30 [==============================] - 1s 46ms/step - loss: 0.0170 - acc: 0.9975 - val_loss: 0.5116 - val_acc: 0.8728\n",
      "Epoch 20/20\n",
      "30/30 [==============================] - 2s 56ms/step - loss: 0.0107 - acc: 0.9995 - val_loss: 0.5686 - val_acc: 0.8704\n"
     ]
    }
   ],
   "source": [
    "# Compile the model using RMSprop optimizer, binary crossentropy loss function, and accuracy metric\n",
    "model.compile(optimizer='rmsprop', loss='binary_crossentropy', metrics=['acc'])\n",
    "\n",
    "# Train the model using the partial training data and validation set\n",
    "history = model.fit(partial_x_train, partial_y_train, \n",
    "                    epochs=20, batch_size=512, \n",
    "                    validation_data=(x_val, y_val))"
   ]
  },
  {
   "cell_type": "code",
   "execution_count": 10,
   "metadata": {
    "colab": {
     "base_uri": "https://localhost:8080/",
     "height": 295
    },
    "executionInfo": {
     "elapsed": 588,
     "status": "ok",
     "timestamp": 1679354245074,
     "user": {
      "displayName": "Abed Tabbalat",
      "userId": "12186395273444324238"
     },
     "user_tz": 240
    },
    "id": "7_flTOgxUBSY",
    "outputId": "8e411e5b-8796-47be-eeb0-7fa84dd05188"
   },
   "outputs": [
    {
     "data": {
      "image/png": "[encoded data removed]",
      "text/plain": [
       "<Figure size 432x288 with 1 Axes>"
      ]
     },
     "metadata": {
      "needs_background": "light"
     },
     "output_type": "display_data"
    }
   ],
   "source": [
    "# Get the training and validation loss values from the history dictionary\n",
    "history_dict = history.history\n",
    "loss_values = history_dict['loss']\n",
    "val_loss_values = history_dict['val_loss']\n",
    "\n",
    "# Get the number of epochs\n",
    "epochs = range(1, len(loss_values) + 1)\n",
    "\n",
    "# Plot the training and validation loss values\n",
    "plt.plot(epochs, loss_values, 'bo', label='Training loss') # 'bo' is for blue dot\n",
    "plt.plot(epochs, val_loss_values, 'r', label='Validation loss') # 'r' is for red line\n",
    "plt.title('Training and Validation Loss')\n",
    "plt.xlabel('Epochs')\n",
    "plt.ylabel('Loss')\n",
    "plt.legend()\n",
    "\n",
    "plt.show()"
   ]
  },
  {
   "cell_type": "code",
   "execution_count": 11,
   "metadata": {
    "colab": {
     "base_uri": "https://localhost:8080/",
     "height": 295
    },
    "executionInfo": {
     "elapsed": 360,
     "status": "ok",
     "timestamp": 1679354332464,
     "user": {
      "displayName": "Abed Tabbalat",
      "userId": "12186395273444324238"
     },
     "user_tz": 240
    },
    "id": "5ArR9Bb9UWIO",
    "outputId": "b01d94c6-fe15-4da2-c1b5-e628893add7a"
   },
   "outputs": [
    {
     "data": {
      "image/png": "[encoded data removed]",
      "text/plain": [
       "<Figure size 432x288 with 1 Axes>"
      ]
     },
     "metadata": {
      "needs_background": "light"
     },
     "output_type": "display_data"
    }
   ],
   "source": [
    "# Clear the current figure\n",
    "plt.clf()\n",
    "\n",
    "# Get the training and validation accuracy values from the history dictionary\n",
    "acc = history_dict['acc']\n",
    "val_acc = history_dict['val_acc']\n",
    "\n",
    "# Get the number of epochs\n",
    "epochs = range(1, len(acc) + 1)\n",
    "\n",
    "# Plot the training and validation accuracy values\n",
    "plt.plot(epochs, acc, 'bo', label='Training acc') # 'bo' is for blue dot\n",
    "plt.plot(epochs, val_acc, 'r', label='Validation acc') # 'r' is for red line\n",
    "plt.title('Training and Validation Accuracy')\n",
    "plt.xlabel('Epochs')\n",
    "plt.ylabel('Accuracy')\n",
    "plt.legend()\n",
    "\n",
    "plt.show()"
   ]
  },
  {
   "cell_type": "code",
   "execution_count": 12,
   "metadata": {
    "colab": {
     "base_uri": "https://localhost:8080/"
    },
    "executionInfo": {
     "elapsed": 17852,
     "status": "ok",
     "timestamp": 1679354388814,
     "user": {
      "displayName": "Abed Tabbalat",
      "userId": "12186395273444324238"
     },
     "user_tz": 240
    },
    "id": "0I2PlLoJUgBs",
    "outputId": "2ef06181-a03b-4aeb-ca48-16a7c46d6315"
   },
   "outputs": [
    {
     "name": "stdout",
     "output_type": "stream",
     "text": [
      "Epoch 1/4\n",
      "49/49 [==============================] - 4s 58ms/step - loss: 0.4519 - accuracy: 0.8188\n",
      "Epoch 2/4\n",
      "49/49 [==============================] - 2s 31ms/step - loss: 0.2665 - accuracy: 0.9043\n",
      "Epoch 3/4\n",
      "49/49 [==============================] - 2s 32ms/step - loss: 0.2100 - accuracy: 0.9244\n",
      "Epoch 4/4\n",
      "49/49 [==============================] - 2s 45ms/step - loss: 0.1774 - accuracy: 0.9379\n",
      "782/782 [==============================] - 2s 2ms/step - loss: 0.2880 - accuracy: 0.8846\n"
     ]
    }
   ],
   "source": [
    "# Define the model architecture\n",
    "model = models.Sequential()\n",
    "model.add(layers.Dense(16, activation='relu', input_shape=(10000,)))\n",
    "model.add(layers.Dense(16, activation='relu'))\n",
    "model.add(layers.Dense(1, activation='sigmoid'))\n",
    "\n",
    "# Compile the model using RMSprop optimizer, binary crossentropy loss function, and accuracy metric\n",
    "model.compile(optimizer='rmsprop', loss='binary_crossentropy', metrics=['accuracy'])\n",
    "\n",
    "# Train the model using the training data\n",
    "model.fit(x_train, y_train, epochs=4, batch_size=512)\n",
    "\n",
    "# Evaluate the model using the testing data\n",
    "results = model.evaluate(x_test, y_test)"
   ]
  },
  {
   "cell_type": "code",
   "execution_count": 13,
   "metadata": {
    "colab": {
     "base_uri": "https://localhost:8080/"
    },
    "executionInfo": {
     "elapsed": 2,
     "status": "ok",
     "timestamp": 1679354411061,
     "user": {
      "displayName": "Abed Tabbalat",
      "userId": "12186395273444324238"
     },
     "user_tz": 240
    },
    "id": "vqwAhjdjUnht",
    "outputId": "6bdd26ce-dbab-420b-efab-60e9126b46f3"
   },
   "outputs": [
    {
     "data": {
      "text/plain": [
       "[0.2879554033279419, 0.8845599889755249]"
      ]
     },
     "execution_count": 13,
     "metadata": {},
     "output_type": "execute_result"
    }
   ],
   "source": [
    "results"
   ]
  },
  {
   "cell_type": "code",
   "execution_count": 14,
   "metadata": {
    "colab": {
     "base_uri": "https://localhost:8080/"
    },
    "executionInfo": {
     "elapsed": 4321,
     "status": "ok",
     "timestamp": 1679354416895,
     "user": {
      "displayName": "Abed Tabbalat",
      "userId": "12186395273444324238"
     },
     "user_tz": 240
    },
    "id": "hME1RnchUpfz",
    "outputId": "239039f0-e687-4979-aa52-73420af85d38"
   },
   "outputs": [
    {
     "name": "stdout",
     "output_type": "stream",
     "text": [
      "782/782 [==============================] - 2s 2ms/step\n"
     ]
    },
    {
     "data": {
      "text/plain": [
       "array([[0.21843332],\n",
       "       [0.99958235],\n",
       "       [0.8934188 ],\n",
       "       ...,\n",
       "       [0.12863925],\n",
       "       [0.08058555],\n",
       "       [0.58139265]], dtype=float32)"
      ]
     },
     "execution_count": 14,
     "metadata": {},
     "output_type": "execute_result"
    }
   ],
   "source": [
    "model.predict(x_test)"
   ]
  }
 ],
 "metadata": {
  "colab": {
   "authorship_tag": "ABX9TyP94dDTZxOj+JIl1ytENFuH",
   "provenance": [],
   "toc_visible": true
  },
  "kernelspec": {
   "display_name": "Python 3 (ipykernel)",
   "language": "python",
   "name": "python3"
  },
  "language_info": {
   "codemirror_mode": {
    "name": "ipython",
    "version": 3
   },
   "file_extension": ".py",
   "mimetype": "text/x-python",
   "name": "python",
   "nbconvert_exporter": "python",
   "pygments_lexer": "ipython3",
   "version": "3.9.12"
  }
 },
 "nbformat": 4,
 "nbformat_minor": 4
}
