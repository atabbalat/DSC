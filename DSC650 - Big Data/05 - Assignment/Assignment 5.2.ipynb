{
 "cells": [
  {
   "cell_type": "markdown",
   "metadata": {
    "id": "JcvhpyJeU4v6"
   },
   "source": [
    "### Week 5\n",
    "### DSC 650\n",
    "### Abed Tabbalat"
   ]
  },
  {
   "cell_type": "code",
   "execution_count": 1,
   "metadata": {
    "colab": {
     "base_uri": "https://localhost:8080/"
    },
    "executionInfo": {
     "elapsed": 32061,
     "status": "ok",
     "timestamp": 1679354525937,
     "user": {
      "displayName": "Abed Tabbalat",
      "userId": "12186395273444324238"
     },
     "user_tz": 240
    },
    "id": "GA8vsTiJU1qi",
    "outputId": "57113749-ad5f-461e-fa75-ffe5cf83846a"
   },
   "outputs": [
    {
     "name": "stdout",
     "output_type": "stream",
     "text": [
      "Mounted at /content/drive\n",
      "/content/drive/My Drive/DSC650/Original/dsc650/assignments/assignment05\n"
     ]
    }
   ],
   "source": [
    "# Mounting drive\n",
    "import os\n",
    "from google.colab import drive\n",
    "drive.mount('/content/drive', force_remount = True)\n",
    "os.chdir('/content/drive/My Drive/DSC650/Original/dsc650/assignments/assignment05')\n",
    "!pwd"
   ]
  },
  {
   "cell_type": "code",
   "execution_count": 2,
   "metadata": {
    "executionInfo": {
     "elapsed": 3433,
     "status": "ok",
     "timestamp": 1679354618020,
     "user": {
      "displayName": "Abed Tabbalat",
      "userId": "12186395273444324238"
     },
     "user_tz": 240
    },
    "id": "EtCWPv9YVOGa"
   },
   "outputs": [],
   "source": [
    "# Imports\n",
    "import pandas as pd\n",
    "import numpy as np\n",
    "import matplotlib.pyplot as plt\n",
    "from keras.utils.np_utils import to_categorical\n",
    "from keras import models\n",
    "from keras import layers\n",
    "from keras.datasets import reuters"
   ]
  },
  {
   "cell_type": "markdown",
   "metadata": {
    "id": "Y4tsI9-BVfHH"
   },
   "source": [
    "## Importing Data"
   ]
  },
  {
   "cell_type": "code",
   "execution_count": 3,
   "metadata": {
    "colab": {
     "base_uri": "https://localhost:8080/"
    },
    "executionInfo": {
     "elapsed": 1259,
     "status": "ok",
     "timestamp": 1679354650965,
     "user": {
      "displayName": "Abed Tabbalat",
      "userId": "12186395273444324238"
     },
     "user_tz": 240
    },
    "id": "w0OqYlMuVh9l",
    "outputId": "b8cf058b-c076-4781-b4f8-850c1c2e59ae"
   },
   "outputs": [
    {
     "name": "stdout",
     "output_type": "stream",
     "text": [
      "Downloading data from https://storage.googleapis.com/tensorflow/tf-keras-datasets/reuters.npz\n",
      "2110848/2110848 [==============================] - 0s 0us/step\n"
     ]
    }
   ],
   "source": [
    "(train_data, train_labels), (test_data, test_labels) = reuters.load_data(num_words = 10000)"
   ]
  },
  {
   "cell_type": "code",
   "execution_count": 4,
   "metadata": {
    "colab": {
     "base_uri": "https://localhost:8080/"
    },
    "executionInfo": {
     "elapsed": 387,
     "status": "ok",
     "timestamp": 1679354711007,
     "user": {
      "displayName": "Abed Tabbalat",
      "userId": "12186395273444324238"
     },
     "user_tz": 240
    },
    "id": "iKcBhEi2VuQX",
    "outputId": "d5dfc37b-02b0-45a8-84f5-03779959999b"
   },
   "outputs": [
    {
     "name": "stdout",
     "output_type": "stream",
     "text": [
      "Downloading data from https://storage.googleapis.com/tensorflow/tf-keras-datasets/reuters_word_index.json\n",
      "550378/550378 [==============================] - 0s 0us/step\n"
     ]
    }
   ],
   "source": [
    "# Get the word index for the Reuters dataset\n",
    "word_index = reuters.get_word_index()\n",
    "\n",
    "# Create a dictionary mapping integers to their corresponding words\n",
    "reverse_word_index = dict([(value, key) for (key, value) in word_index.items()])\n",
    "\n",
    "# Convert the first newswire in the training set from integer-encoded back to words\n",
    "decoded_newswire = ' '.join([reverse_word_index.get(i - 3, '?') for i in train_data[0]])"
   ]
  },
  {
   "cell_type": "code",
   "execution_count": 5,
   "metadata": {
    "colab": {
     "base_uri": "https://localhost:8080/",
     "height": 53
    },
    "executionInfo": {
     "elapsed": 371,
     "status": "ok",
     "timestamp": 1679354714143,
     "user": {
      "displayName": "Abed Tabbalat",
      "userId": "12186395273444324238"
     },
     "user_tz": 240
    },
    "id": "DORacLIPVz-V",
    "outputId": "eb4a2756-932b-4c0d-f318-471045ce2e21"
   },
   "outputs": [
    {
     "data": {
      "application/vnd.google.colaboratory.intrinsic+json": {
       "type": "string"
      },
      "text/plain": [
       "'? ? ? said as a result of its december acquisition of space co it expects earnings per share in 1987 of 1 15 to 1 30 dlrs per share up from 70 cts in 1986 the company said pretax net should rise to nine to 10 mln dlrs from six mln dlrs in 1986 and rental operation revenues to 19 to 22 mln dlrs from 12 5 mln dlrs it said cash flow per share this year should be 2 50 to three dlrs reuter 3'"
      ]
     },
     "execution_count": 5,
     "metadata": {},
     "output_type": "execute_result"
    }
   ],
   "source": [
    "decoded_newswire"
   ]
  },
  {
   "cell_type": "markdown",
   "metadata": {
    "id": "klBoswacV2jQ"
   },
   "source": [
    "## Data Prep"
   ]
  },
  {
   "cell_type": "code",
   "execution_count": 6,
   "metadata": {
    "executionInfo": {
     "elapsed": 579,
     "status": "ok",
     "timestamp": 1679354750712,
     "user": {
      "displayName": "Abed Tabbalat",
      "userId": "12186395273444324238"
     },
     "user_tz": 240
    },
    "id": "cnk5VjjQV4si"
   },
   "outputs": [],
   "source": [
    "def vectorize_sequences(sequences, dimension=10000):\n",
    "    # Create an all-zero matrix of shape (len(sequences), dimension)\n",
    "    results = np.zeros((len(sequences), dimension))\n",
    "\n",
    "    # Set specific indices of results[i] to 1s\n",
    "    for i, sequence in enumerate(sequences):\n",
    "        results[i, sequence] = 1.\n",
    "\n",
    "    return results\n",
    "\n",
    "# Vectorize the training and testing data\n",
    "x_train = vectorize_sequences(train_data)\n",
    "x_test = vectorize_sequences(test_data)"
   ]
  },
  {
   "cell_type": "code",
   "execution_count": 7,
   "metadata": {
    "executionInfo": {
     "elapsed": 154,
     "status": "ok",
     "timestamp": 1679354784806,
     "user": {
      "displayName": "Abed Tabbalat",
      "userId": "12186395273444324238"
     },
     "user_tz": 240
    },
    "id": "PPj7VLyoV-_M"
   },
   "outputs": [],
   "source": [
    "# Convert the training labels to one-hot encoded vectors\n",
    "one_hot_train_labels = to_categorical(train_labels)\n",
    "\n",
    "# Convert the testing labels to one-hot encoded vectors\n",
    "one_hot_test_labels = to_categorical(test_labels)\n"
   ]
  },
  {
   "cell_type": "markdown",
   "metadata": {
    "id": "_P6yPs7wWIpf"
   },
   "source": [
    "## Model"
   ]
  },
  {
   "cell_type": "code",
   "execution_count": 8,
   "metadata": {
    "executionInfo": {
     "elapsed": 734,
     "status": "ok",
     "timestamp": 1679354855330,
     "user": {
      "displayName": "Abed Tabbalat",
      "userId": "12186395273444324238"
     },
     "user_tz": 240
    },
    "id": "8xy7FVBUWOXM"
   },
   "outputs": [],
   "source": [
    "# Define the model architecture\n",
    "model = models.Sequential()\n",
    "model.add(layers.Dense(64, activation='relu', input_shape=(10000,)))\n",
    "model.add(layers.Dense(64, activation='relu'))\n",
    "model.add(layers.Dense(46, activation='softmax'))\n",
    "\n",
    "# Compile the model using RMSprop optimizer, categorical crossentropy loss function, and accuracy metric\n",
    "model.compile(optimizer='rmsprop', loss='categorical_crossentropy', metrics=['accuracy'])"
   ]
  },
  {
   "cell_type": "code",
   "execution_count": 9,
   "metadata": {
    "colab": {
     "base_uri": "https://localhost:8080/"
    },
    "executionInfo": {
     "elapsed": 22920,
     "status": "ok",
     "timestamp": 1679354918602,
     "user": {
      "displayName": "Abed Tabbalat",
      "userId": "12186395273444324238"
     },
     "user_tz": 240
    },
    "id": "RYArzQU0WYfO",
    "outputId": "ada8777f-69dc-4aea-d7a8-de0e550c5451"
   },
   "outputs": [
    {
     "name": "stdout",
     "output_type": "stream",
     "text": [
      "Epoch 1/20\n",
      "16/16 [==============================] - 3s 121ms/step - loss: 2.6809 - accuracy: 0.4994 - val_loss: 1.7552 - val_accuracy: 0.6010\n",
      "Epoch 2/20\n",
      "16/16 [==============================] - 1s 63ms/step - loss: 1.4713 - accuracy: 0.6880 - val_loss: 1.3348 - val_accuracy: 0.6950\n",
      "Epoch 3/20\n",
      "16/16 [==============================] - 1s 51ms/step - loss: 1.1422 - accuracy: 0.7514 - val_loss: 1.1705 - val_accuracy: 0.7400\n",
      "Epoch 4/20\n",
      "16/16 [==============================] - 1s 59ms/step - loss: 0.9394 - accuracy: 0.8003 - val_loss: 1.0827 - val_accuracy: 0.7610\n",
      "Epoch 5/20\n",
      "16/16 [==============================] - 1s 53ms/step - loss: 0.7857 - accuracy: 0.8330 - val_loss: 0.9955 - val_accuracy: 0.7830\n",
      "Epoch 6/20\n",
      "16/16 [==============================] - 1s 48ms/step - loss: 0.6626 - accuracy: 0.8568 - val_loss: 0.9419 - val_accuracy: 0.8020\n",
      "Epoch 7/20\n",
      "16/16 [==============================] - 1s 50ms/step - loss: 0.5499 - accuracy: 0.8814 - val_loss: 0.9339 - val_accuracy: 0.7910\n",
      "Epoch 8/20\n",
      "16/16 [==============================] - 1s 48ms/step - loss: 0.4651 - accuracy: 0.9019 - val_loss: 0.8737 - val_accuracy: 0.8130\n",
      "Epoch 9/20\n",
      "16/16 [==============================] - 1s 52ms/step - loss: 0.3931 - accuracy: 0.9159 - val_loss: 0.8981 - val_accuracy: 0.8160\n",
      "Epoch 10/20\n",
      "16/16 [==============================] - 1s 49ms/step - loss: 0.3319 - accuracy: 0.9262 - val_loss: 0.8724 - val_accuracy: 0.8120\n",
      "Epoch 11/20\n",
      "16/16 [==============================] - 1s 51ms/step - loss: 0.2903 - accuracy: 0.9335 - val_loss: 0.8761 - val_accuracy: 0.8210\n",
      "Epoch 12/20\n",
      "16/16 [==============================] - 1s 52ms/step - loss: 0.2482 - accuracy: 0.9430 - val_loss: 0.9188 - val_accuracy: 0.8050\n",
      "Epoch 13/20\n",
      "16/16 [==============================] - 1s 50ms/step - loss: 0.2231 - accuracy: 0.9471 - val_loss: 0.8910 - val_accuracy: 0.8160\n",
      "Epoch 14/20\n",
      "16/16 [==============================] - 1s 81ms/step - loss: 0.2007 - accuracy: 0.9499 - val_loss: 0.8809 - val_accuracy: 0.8270\n",
      "Epoch 15/20\n",
      "16/16 [==============================] - 1s 89ms/step - loss: 0.1844 - accuracy: 0.9529 - val_loss: 0.8937 - val_accuracy: 0.8260\n",
      "Epoch 16/20\n",
      "16/16 [==============================] - 1s 89ms/step - loss: 0.1713 - accuracy: 0.9510 - val_loss: 0.9597 - val_accuracy: 0.8040\n",
      "Epoch 17/20\n",
      "16/16 [==============================] - 1s 75ms/step - loss: 0.1504 - accuracy: 0.9559 - val_loss: 0.9545 - val_accuracy: 0.8090\n",
      "Epoch 18/20\n",
      "16/16 [==============================] - 1s 48ms/step - loss: 0.1510 - accuracy: 0.9574 - val_loss: 0.9344 - val_accuracy: 0.8160\n",
      "Epoch 19/20\n",
      "16/16 [==============================] - 1s 49ms/step - loss: 0.1388 - accuracy: 0.9558 - val_loss: 0.9665 - val_accuracy: 0.8100\n",
      "Epoch 20/20\n",
      "16/16 [==============================] - 1s 52ms/step - loss: 0.1328 - accuracy: 0.9557 - val_loss: 0.9590 - val_accuracy: 0.8140\n"
     ]
    }
   ],
   "source": [
    "# Split the training data into a validation set and a partial training set\n",
    "x_val = x_train[:1000]\n",
    "partial_x_train = x_train[1000:]\n",
    "\n",
    "y_val = one_hot_train_labels[:1000]\n",
    "partial_y_train = one_hot_train_labels[1000:]\n",
    "\n",
    "# Train the model using the partial training set and validate using the validation set\n",
    "history = model.fit(partial_x_train, partial_y_train,\n",
    "                    epochs=20, batch_size=512,\n",
    "                    validation_data=(x_val, y_val))"
   ]
  },
  {
   "cell_type": "code",
   "execution_count": 10,
   "metadata": {
    "colab": {
     "base_uri": "https://localhost:8080/",
     "height": 295
    },
    "executionInfo": {
     "elapsed": 917,
     "status": "ok",
     "timestamp": 1679354974654,
     "user": {
      "displayName": "Abed Tabbalat",
      "userId": "12186395273444324238"
     },
     "user_tz": 240
    },
    "id": "CrLszmwaWzr5",
    "outputId": "9e6827ac-e7d1-458c-ee9d-523c3be69b9d"
   },
   "outputs": [
    {
     "data": {
      "image/png": "[encoded data removed]",
      "text/plain": [
       "<Figure size 432x288 with 1 Axes>"
      ]
     },
     "metadata": {
      "needs_background": "light"
     },
     "output_type": "display_data"
    }
   ],
   "source": [
    "history_dict = history.history\n",
    "\n",
    "loss = history_dict['loss']\n",
    "val_loss = history_dict['val_loss']\n",
    "\n",
    "epochs = range(1, len(loss) + 1)\n",
    "\n",
    "# Plot the training loss in blue dots and the validation loss in solid blue line\n",
    "plt.plot(epochs, loss, 'bo', label='Training loss')\n",
    "plt.plot(epochs, val_loss, 'r', label='Validation loss')\n",
    "plt.title('Training and Validation Loss')\n",
    "plt.xlabel('Epochs')\n",
    "plt.ylabel('Loss')\n",
    "plt.legend()\n",
    "\n",
    "plt.show()"
   ]
  },
  {
   "cell_type": "code",
   "execution_count": 11,
   "metadata": {
    "colab": {
     "base_uri": "https://localhost:8080/",
     "height": 295
    },
    "executionInfo": {
     "elapsed": 443,
     "status": "ok",
     "timestamp": 1679355026567,
     "user": {
      "displayName": "Abed Tabbalat",
      "userId": "12186395273444324238"
     },
     "user_tz": 240
    },
    "id": "8HH5aik9W226",
    "outputId": "3561b2c0-7551-4063-a48f-698aa22672be"
   },
   "outputs": [
    {
     "data": {
      "image/png": "[encoded data removed]",
      "text/plain": [
       "<Figure size 432x288 with 1 Axes>"
      ]
     },
     "metadata": {
      "needs_background": "light"
     },
     "output_type": "display_data"
    }
   ],
   "source": [
    "acc = history_dict['accuracy']\n",
    "val_acc = history_dict['val_accuracy']\n",
    "\n",
    "epochs = range(1, len(acc) + 1)\n",
    "\n",
    "# Plot the training accuracy in blue dots and the validation accuracy in solid red line\n",
    "plt.plot(epochs, acc, 'bo', label='Training acc')\n",
    "plt.plot(epochs, val_acc, 'r', label='Validation acc')\n",
    "plt.title('Training and Validation Accuracy')\n",
    "plt.xlabel('Epochs')\n",
    "plt.ylabel('Accuracy')\n",
    "plt.legend()\n",
    "\n",
    "plt.show()"
   ]
  },
  {
   "cell_type": "code",
   "execution_count": 12,
   "metadata": {
    "colab": {
     "base_uri": "https://localhost:8080/"
    },
    "executionInfo": {
     "elapsed": 12428,
     "status": "ok",
     "timestamp": 1679355096982,
     "user": {
      "displayName": "Abed Tabbalat",
      "userId": "12186395273444324238"
     },
     "user_tz": 240
    },
    "id": "DdZO_kqUXGas",
    "outputId": "fce4b17c-fb9b-4bec-e5ae-d8ef37375314"
   },
   "outputs": [
    {
     "name": "stdout",
     "output_type": "stream",
     "text": [
      "Epoch 1/9\n",
      "16/16 [==============================] - 2s 66ms/step - loss: 2.8593 - accuracy: 0.4230 - val_loss: 1.9469 - val_accuracy: 0.5770\n",
      "Epoch 2/9\n",
      "16/16 [==============================] - 1s 51ms/step - loss: 1.6115 - accuracy: 0.6590 - val_loss: 1.4088 - val_accuracy: 0.6890\n",
      "Epoch 3/9\n",
      "16/16 [==============================] - 1s 51ms/step - loss: 1.2176 - accuracy: 0.7432 - val_loss: 1.2190 - val_accuracy: 0.7450\n",
      "Epoch 4/9\n",
      "16/16 [==============================] - 1s 50ms/step - loss: 0.9992 - accuracy: 0.7876 - val_loss: 1.0939 - val_accuracy: 0.7630\n",
      "Epoch 5/9\n",
      "16/16 [==============================] - 1s 85ms/step - loss: 0.8357 - accuracy: 0.8198 - val_loss: 1.0179 - val_accuracy: 0.7770\n",
      "Epoch 6/9\n",
      "16/16 [==============================] - 1s 85ms/step - loss: 0.7067 - accuracy: 0.8489 - val_loss: 0.9610 - val_accuracy: 0.7890\n",
      "Epoch 7/9\n",
      "16/16 [==============================] - 1s 89ms/step - loss: 0.5971 - accuracy: 0.8726 - val_loss: 0.9198 - val_accuracy: 0.8040\n",
      "Epoch 8/9\n",
      "16/16 [==============================] - 1s 65ms/step - loss: 0.5030 - accuracy: 0.8963 - val_loss: 0.8934 - val_accuracy: 0.8120\n",
      "Epoch 9/9\n",
      "16/16 [==============================] - 1s 63ms/step - loss: 0.4274 - accuracy: 0.9118 - val_loss: 0.8579 - val_accuracy: 0.8250\n",
      "71/71 [==============================] - 0s 6ms/step - loss: 0.9459 - accuracy: 0.7832\n"
     ]
    }
   ],
   "source": [
    "# define sequential model\n",
    "model = models.Sequential()\n",
    "\n",
    "# add two hidden layers with 64 units and ReLU activation\n",
    "model.add(layers.Dense(64, activation='relu', input_shape=(10000,)))\n",
    "model.add(layers.Dense(64, activation='relu'))\n",
    "\n",
    "# add output layer with 46 units and softmax activation\n",
    "model.add(layers.Dense(46, activation='softmax'))\n",
    "\n",
    "# compile model with 'rmsprop' optimizer, 'categorical_crossentropy' loss function, and accuracy metric\n",
    "model.compile(optimizer='rmsprop',\n",
    "              loss='categorical_crossentropy',\n",
    "              metrics=['accuracy'])\n",
    "\n",
    "# train model on partial training data and validation data, for 9 epochs with batch size of 512\n",
    "history = model.fit(partial_x_train,\n",
    "                    partial_y_train,\n",
    "                    epochs=9,\n",
    "                    batch_size=512,\n",
    "                    validation_data=(x_val, y_val))\n",
    "\n",
    "# evaluate model performance on test data\n",
    "results = model.evaluate(x_test, one_hot_test_labels)"
   ]
  },
  {
   "cell_type": "code",
   "execution_count": 13,
   "metadata": {
    "colab": {
     "base_uri": "https://localhost:8080/"
    },
    "executionInfo": {
     "elapsed": 1,
     "status": "ok",
     "timestamp": 1679355110068,
     "user": {
      "displayName": "Abed Tabbalat",
      "userId": "12186395273444324238"
     },
     "user_tz": 240
    },
    "id": "Jf1TV8OLXUu6",
    "outputId": "c7b520b1-824d-45c4-d349-22b663915f31"
   },
   "outputs": [
    {
     "data": {
      "text/plain": [
       "[0.9458596110343933, 0.7831701040267944]"
      ]
     },
     "execution_count": 13,
     "metadata": {},
     "output_type": "execute_result"
    }
   ],
   "source": [
    "results"
   ]
  },
  {
   "cell_type": "code",
   "execution_count": 14,
   "metadata": {
    "colab": {
     "base_uri": "https://localhost:8080/"
    },
    "executionInfo": {
     "elapsed": 966,
     "status": "ok",
     "timestamp": 1679355119774,
     "user": {
      "displayName": "Abed Tabbalat",
      "userId": "12186395273444324238"
     },
     "user_tz": 240
    },
    "id": "r1BbRlH9XWiu",
    "outputId": "1865f6d3-ec67-4291-c17e-f333987985db"
   },
   "outputs": [
    {
     "name": "stdout",
     "output_type": "stream",
     "text": [
      "71/71 [==============================] - 1s 6ms/step\n"
     ]
    }
   ],
   "source": [
    "predictions = model.predict(x_test)"
   ]
  }
 ],
 "metadata": {
  "colab": {
   "authorship_tag": "ABX9TyPVYkYFepaycuEgvgZoZdNq",
   "provenance": [],
   "toc_visible": true
  },
  "kernelspec": {
   "display_name": "Python 3 (ipykernel)",
   "language": "python",
   "name": "python3"
  },
  "language_info": {
   "codemirror_mode": {
    "name": "ipython",
    "version": 3
   },
   "file_extension": ".py",
   "mimetype": "text/x-python",
   "name": "python",
   "nbconvert_exporter": "python",
   "pygments_lexer": "ipython3",
   "version": "3.9.12"
  }
 },
 "nbformat": 4,
 "nbformat_minor": 4
}
