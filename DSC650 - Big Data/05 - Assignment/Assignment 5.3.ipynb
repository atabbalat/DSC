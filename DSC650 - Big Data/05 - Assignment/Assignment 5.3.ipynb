{
 "cells": [
  {
   "cell_type": "markdown",
   "metadata": {
    "id": "Uw0qaWUscp86"
   },
   "source": [
    "### Week 5\n",
    "### DSC 650\n",
    "### Abed Tabbalat"
   ]
  },
  {
   "cell_type": "code",
   "execution_count": 1,
   "metadata": {
    "colab": {
     "base_uri": "https://localhost:8080/"
    },
    "executionInfo": {
     "elapsed": 16547,
     "status": "ok",
     "timestamp": 1679350649022,
     "user": {
      "displayName": "Abed Tabbalat",
      "userId": "12186395273444324238"
     },
     "user_tz": 240
    },
    "id": "8h1RQ5BkcUby",
    "outputId": "d107f065-8cd6-4df8-cace-7fc77bc0495d"
   },
   "outputs": [
    {
     "name": "stdout",
     "output_type": "stream",
     "text": [
      "Mounted at /content/drive\n",
      "/content/drive/MyDrive/DSC650/Original/dsc650/assignments/assignment05\n"
     ]
    }
   ],
   "source": [
    "# Mounting drive\n",
    "import os\n",
    "from google.colab import drive\n",
    "drive.mount('/content/drive', force_remount = True)\n",
    "os.chdir('/content/drive/My Drive/DSC650/Original/dsc650/assignments/assignment05')\n",
    "!pwd"
   ]
  },
  {
   "cell_type": "code",
   "execution_count": 2,
   "metadata": {
    "executionInfo": {
     "elapsed": 4269,
     "status": "ok",
     "timestamp": 1679350833432,
     "user": {
      "displayName": "Abed Tabbalat",
      "userId": "12186395273444324238"
     },
     "user_tz": 240
    },
    "id": "DvitwtvccuJr"
   },
   "outputs": [],
   "source": [
    "# Imports\n",
    "import pandas as pd\n",
    "import numpy as np\n",
    "import matplotlib.pyplot as plt\n",
    "from keras import models\n",
    "from keras import layers\n",
    "from keras.datasets import boston_housing\n"
   ]
  },
  {
   "cell_type": "markdown",
   "metadata": {
    "id": "8EK2I0uudGVC"
   },
   "source": [
    "## Importing Data"
   ]
  },
  {
   "cell_type": "code",
   "execution_count": 3,
   "metadata": {
    "colab": {
     "base_uri": "https://localhost:8080/"
    },
    "executionInfo": {
     "elapsed": 5,
     "status": "ok",
     "timestamp": 1679350833432,
     "user": {
      "displayName": "Abed Tabbalat",
      "userId": "12186395273444324238"
     },
     "user_tz": 240
    },
    "id": "fPsyX317dOGi",
    "outputId": "d3b53641-c1e4-4421-d11a-b9b40001da4b"
   },
   "outputs": [
    {
     "name": "stdout",
     "output_type": "stream",
     "text": [
      "Downloading data from https://storage.googleapis.com/tensorflow/tf-keras-datasets/boston_housing.npz\n",
      "57026/57026 [==============================] - 0s 0us/step\n"
     ]
    }
   ],
   "source": [
    "(train_data, train_targets), (test_data, test_targets) = boston_housing.load_data()"
   ]
  },
  {
   "cell_type": "code",
   "execution_count": 4,
   "metadata": {
    "colab": {
     "base_uri": "https://localhost:8080/"
    },
    "executionInfo": {
     "elapsed": 4,
     "status": "ok",
     "timestamp": 1679350833433,
     "user": {
      "displayName": "Abed Tabbalat",
      "userId": "12186395273444324238"
     },
     "user_tz": 240
    },
    "id": "uIUX3bKodS4Y",
    "outputId": "87b38cb7-e2d6-450e-de92-1fa4215e48dc"
   },
   "outputs": [
    {
     "data": {
      "text/plain": [
       "(404, 13)"
      ]
     },
     "execution_count": 4,
     "metadata": {},
     "output_type": "execute_result"
    }
   ],
   "source": [
    "# Trained data shape\n",
    "train_data.shape"
   ]
  },
  {
   "cell_type": "code",
   "execution_count": 5,
   "metadata": {
    "colab": {
     "base_uri": "https://localhost:8080/"
    },
    "executionInfo": {
     "elapsed": 200,
     "status": "ok",
     "timestamp": 1679350833630,
     "user": {
      "displayName": "Abed Tabbalat",
      "userId": "12186395273444324238"
     },
     "user_tz": 240
    },
    "id": "kn1gYl2ydX2H",
    "outputId": "8679441d-915e-466f-856a-4d2585c2685d"
   },
   "outputs": [
    {
     "data": {
      "text/plain": [
       "(102, 13)"
      ]
     },
     "execution_count": 5,
     "metadata": {},
     "output_type": "execute_result"
    }
   ],
   "source": [
    "# Test data shape\n",
    "test_data.shape"
   ]
  },
  {
   "cell_type": "code",
   "execution_count": 6,
   "metadata": {
    "colab": {
     "base_uri": "https://localhost:8080/"
    },
    "executionInfo": {
     "elapsed": 3,
     "status": "ok",
     "timestamp": 1679350833631,
     "user": {
      "displayName": "Abed Tabbalat",
      "userId": "12186395273444324238"
     },
     "user_tz": 240
    },
    "id": "lTD7HzQmeAxK",
    "outputId": "df336773-b4d9-4396-acda-5eb2f66651b5"
   },
   "outputs": [
    {
     "data": {
      "text/plain": [
       "array([15.2, 42.3, 50. , 21.1, 17.7, 18.5, 11.3, 15.6, 15.6, 14.4, 12.1,\n",
       "       17.9, 23.1, 19.9, 15.7,  8.8, 50. , 22.5, 24.1, 27.5, 10.9, 30.8,\n",
       "       32.9, 24. , 18.5, 13.3, 22.9, 34.7, 16.6, 17.5, 22.3, 16.1, 14.9,\n",
       "       23.1, 34.9, 25. , 13.9, 13.1, 20.4, 20. , 15.2, 24.7, 22.2, 16.7,\n",
       "       12.7, 15.6, 18.4, 21. , 30.1, 15.1, 18.7,  9.6, 31.5, 24.8, 19.1,\n",
       "       22. , 14.5, 11. , 32. , 29.4, 20.3, 24.4, 14.6, 19.5, 14.1, 14.3,\n",
       "       15.6, 10.5,  6.3, 19.3, 19.3, 13.4, 36.4, 17.8, 13.5, 16.5,  8.3,\n",
       "       14.3, 16. , 13.4, 28.6, 43.5, 20.2, 22. , 23. , 20.7, 12.5, 48.5,\n",
       "       14.6, 13.4, 23.7, 50. , 21.7, 39.8, 38.7, 22.2, 34.9, 22.5, 31.1,\n",
       "       28.7, 46. , 41.7, 21. , 26.6, 15. , 24.4, 13.3, 21.2, 11.7, 21.7,\n",
       "       19.4, 50. , 22.8, 19.7, 24.7, 36.2, 14.2, 18.9, 18.3, 20.6, 24.6,\n",
       "       18.2,  8.7, 44. , 10.4, 13.2, 21.2, 37. , 30.7, 22.9, 20. , 19.3,\n",
       "       31.7, 32. , 23.1, 18.8, 10.9, 50. , 19.6,  5. , 14.4, 19.8, 13.8,\n",
       "       19.6, 23.9, 24.5, 25. , 19.9, 17.2, 24.6, 13.5, 26.6, 21.4, 11.9,\n",
       "       22.6, 19.6,  8.5, 23.7, 23.1, 22.4, 20.5, 23.6, 18.4, 35.2, 23.1,\n",
       "       27.9, 20.6, 23.7, 28. , 13.6, 27.1, 23.6, 20.6, 18.2, 21.7, 17.1,\n",
       "        8.4, 25.3, 13.8, 22.2, 18.4, 20.7, 31.6, 30.5, 20.3,  8.8, 19.2,\n",
       "       19.4, 23.1, 23. , 14.8, 48.8, 22.6, 33.4, 21.1, 13.6, 32.2, 13.1,\n",
       "       23.4, 18.9, 23.9, 11.8, 23.3, 22.8, 19.6, 16.7, 13.4, 22.2, 20.4,\n",
       "       21.8, 26.4, 14.9, 24.1, 23.8, 12.3, 29.1, 21. , 19.5, 23.3, 23.8,\n",
       "       17.8, 11.5, 21.7, 19.9, 25. , 33.4, 28.5, 21.4, 24.3, 27.5, 33.1,\n",
       "       16.2, 23.3, 48.3, 22.9, 22.8, 13.1, 12.7, 22.6, 15. , 15.3, 10.5,\n",
       "       24. , 18.5, 21.7, 19.5, 33.2, 23.2,  5. , 19.1, 12.7, 22.3, 10.2,\n",
       "       13.9, 16.3, 17. , 20.1, 29.9, 17.2, 37.3, 45.4, 17.8, 23.2, 29. ,\n",
       "       22. , 18. , 17.4, 34.6, 20.1, 25. , 15.6, 24.8, 28.2, 21.2, 21.4,\n",
       "       23.8, 31. , 26.2, 17.4, 37.9, 17.5, 20. ,  8.3, 23.9,  8.4, 13.8,\n",
       "        7.2, 11.7, 17.1, 21.6, 50. , 16.1, 20.4, 20.6, 21.4, 20.6, 36.5,\n",
       "        8.5, 24.8, 10.8, 21.9, 17.3, 18.9, 36.2, 14.9, 18.2, 33.3, 21.8,\n",
       "       19.7, 31.6, 24.8, 19.4, 22.8,  7.5, 44.8, 16.8, 18.7, 50. , 50. ,\n",
       "       19.5, 20.1, 50. , 17.2, 20.8, 19.3, 41.3, 20.4, 20.5, 13.8, 16.5,\n",
       "       23.9, 20.6, 31.5, 23.3, 16.8, 14. , 33.8, 36.1, 12.8, 18.3, 18.7,\n",
       "       19.1, 29. , 30.1, 50. , 50. , 22. , 11.9, 37.6, 50. , 22.7, 20.8,\n",
       "       23.5, 27.9, 50. , 19.3, 23.9, 22.6, 15.2, 21.7, 19.2, 43.8, 20.3,\n",
       "       33.2, 19.9, 22.5, 32.7, 22. , 17.1, 19. , 15. , 16.1, 25.1, 23.7,\n",
       "       28.7, 37.2, 22.6, 16.4, 25. , 29.8, 22.1, 17.4, 18.1, 30.3, 17.5,\n",
       "       24.7, 12.6, 26.5, 28.7, 13.3, 10.4, 24.4, 23. , 20. , 17.8,  7. ,\n",
       "       11.8, 24.4, 13.8, 19.4, 25.2, 19.4, 19.4, 29.1])"
      ]
     },
     "execution_count": 6,
     "metadata": {},
     "output_type": "execute_result"
    }
   ],
   "source": [
    "# Targets\n",
    "train_targets"
   ]
  },
  {
   "cell_type": "markdown",
   "metadata": {
    "id": "hQqmCQ6Uer1N"
   },
   "source": [
    "## Data Prep"
   ]
  },
  {
   "cell_type": "code",
   "execution_count": 7,
   "metadata": {
    "executionInfo": {
     "elapsed": 162,
     "status": "ok",
     "timestamp": 1679350835058,
     "user": {
      "displayName": "Abed Tabbalat",
      "userId": "12186395273444324238"
     },
     "user_tz": 240
    },
    "id": "EoC_gIFAeus_"
   },
   "outputs": [],
   "source": [
    "mean = train_data.mean(axis = 0)\n",
    "train_data -= mean\n",
    "std = train_data.std(axis = 0)\n",
    "train_data /= std\n",
    "\n",
    "test_data -= mean\n",
    "test_data /= std"
   ]
  },
  {
   "cell_type": "markdown",
   "metadata": {
    "id": "FcHNucjaHJ8z"
   },
   "source": [
    "## Model"
   ]
  },
  {
   "cell_type": "code",
   "execution_count": 8,
   "metadata": {
    "executionInfo": {
     "elapsed": 192,
     "status": "ok",
     "timestamp": 1679350921419,
     "user": {
      "displayName": "Abed Tabbalat",
      "userId": "12186395273444324238"
     },
     "user_tz": 240
    },
    "id": "1OQ1J0yNHIw0"
   },
   "outputs": [],
   "source": [
    "def build_model(input_shape):\n",
    "    # Define the neural network model architecture\n",
    "    model = models.Sequential([\n",
    "        layers.Dense(64, activation='relu', input_shape=input_shape),\n",
    "        layers.Dense(64, activation='relu'),\n",
    "        layers.Dense(1)\n",
    "    ])\n",
    "\n",
    "    # Compile the model with the optimizer, loss function, and evaluation metric\n",
    "    model.compile(optimizer='rmsprop',\n",
    "                  loss='mse',  # mean squared error\n",
    "                  metrics=['mae'])  # mean absolute error\n",
    "    \n",
    "    return model\n"
   ]
  },
  {
   "cell_type": "code",
   "execution_count": 9,
   "metadata": {
    "colab": {
     "base_uri": "https://localhost:8080/"
    },
    "executionInfo": {
     "elapsed": 237292,
     "status": "ok",
     "timestamp": 1679351196392,
     "user": {
      "displayName": "Abed Tabbalat",
      "userId": "12186395273444324238"
     },
     "user_tz": 240
    },
    "id": "Oca0Y7yoHURk",
    "outputId": "a42a50ca-929c-4f99-99bf-fda23e9dc844"
   },
   "outputs": [
    {
     "name": "stdout",
     "output_type": "stream",
     "text": [
      "Processing fold #0\n",
      "Processing fold #1\n",
      "Processing fold #2\n",
      "Processing fold #3\n"
     ]
    }
   ],
   "source": [
    "k = 4\n",
    "num_val_samples = len(train_data) // k\n",
    "num_epochs = 100\n",
    "all_scores = []\n",
    "\n",
    "# Split the data into K folds for cross-validation\n",
    "for i in range(k):\n",
    "    print(f\"Processing fold #{i}\")\n",
    "\n",
    "    # Prepare the validation data for this fold\n",
    "    val_data = train_data[i*num_val_samples: (i+1)*num_val_samples]\n",
    "    val_targets = train_targets[i*num_val_samples: (i+1)*num_val_samples]\n",
    "\n",
    "    # Prepare the training data for this fold\n",
    "    partial_train_data = np.concatenate(\n",
    "        [train_data[:i*num_val_samples],\n",
    "         train_data[(i+1)*num_val_samples:]],\n",
    "        axis=0\n",
    "    )\n",
    "    partial_train_targets = np.concatenate(\n",
    "        [train_targets[:i*num_val_samples],\n",
    "         train_targets[(i+1)*num_val_samples:]],\n",
    "        axis=0\n",
    "    )\n",
    "\n",
    "    # Build the Keras model\n",
    "    model = build_model(input_shape=(train_data.shape[1],))\n",
    "\n",
    "    # Train the model on the training data for this fold\n",
    "    model.fit(partial_train_data, partial_train_targets, \n",
    "              epochs=num_epochs, batch_size=1, verbose=0)\n",
    "\n",
    "    # Evaluate the model on the validation data for this fold\n",
    "    val_mse, val_mae = model.evaluate(val_data, val_targets, verbose=0)\n",
    "    all_scores.append(val_mae)\n"
   ]
  },
  {
   "cell_type": "code",
   "execution_count": 11,
   "metadata": {
    "colab": {
     "base_uri": "https://localhost:8080/"
    },
    "executionInfo": {
     "elapsed": 183,
     "status": "ok",
     "timestamp": 1679351362932,
     "user": {
      "displayName": "Abed Tabbalat",
      "userId": "12186395273444324238"
     },
     "user_tz": 240
    },
    "id": "lKMCPRpvI5i_",
    "outputId": "fa7070f8-d265-4fa5-a826-37249d1ab7ab"
   },
   "outputs": [
    {
     "name": "stdout",
     "output_type": "stream",
     "text": [
      "Scores: [1.811415672302246, 2.7241051197052, 2.4456658363342285, 2.4289543628692627]\n"
     ]
    }
   ],
   "source": [
    "print(f'Scores: {all_scores}')"
   ]
  },
  {
   "cell_type": "code",
   "execution_count": 12,
   "metadata": {
    "colab": {
     "base_uri": "https://localhost:8080/"
    },
    "executionInfo": {
     "elapsed": 210,
     "status": "ok",
     "timestamp": 1679351398939,
     "user": {
      "displayName": "Abed Tabbalat",
      "userId": "12186395273444324238"
     },
     "user_tz": 240
    },
    "id": "dRPK7alBJFDW",
    "outputId": "2b636f00-1742-4b34-a12a-616245963be8"
   },
   "outputs": [
    {
     "name": "stdout",
     "output_type": "stream",
     "text": [
      "Mean: 2.3525352478027344\n"
     ]
    }
   ],
   "source": [
    "print(f'Mean: {np.mean(all_scores)}') "
   ]
  },
  {
   "cell_type": "code",
   "execution_count": 13,
   "metadata": {
    "colab": {
     "base_uri": "https://localhost:8080/"
    },
    "executionInfo": {
     "elapsed": 1485941,
     "status": "ok",
     "timestamp": 1679352933757,
     "user": {
      "displayName": "Abed Tabbalat",
      "userId": "12186395273444324238"
     },
     "user_tz": 240
    },
    "id": "_fw5dALlJNWr",
    "outputId": "6a77cff1-7766-4eae-9fc5-c10ae54507a1"
   },
   "outputs": [
    {
     "name": "stdout",
     "output_type": "stream",
     "text": [
      "Processing fold #0\n",
      "Processing fold #1\n",
      "Processing fold #2\n",
      "Processing fold #3\n"
     ]
    }
   ],
   "source": [
    "num_epochs = 500\n",
    "all_mae_histories = []\n",
    "\n",
    "# Loop through the K folds for cross-validation\n",
    "for i in range(k):\n",
    "    print(f\"Processing fold #{i}\")\n",
    "\n",
    "    # Prepare the validation data for this fold\n",
    "    val_data = train_data[i*num_val_samples: (i+1)*num_val_samples]\n",
    "    val_targets = train_targets[i*num_val_samples: (i+1)*num_val_samples]\n",
    "\n",
    "    # Prepare the training data for this fold\n",
    "    partial_train_data = np.concatenate(\n",
    "        [train_data[:i*num_val_samples],\n",
    "         train_data[(i+1)*num_val_samples:]],\n",
    "        axis=0\n",
    "    )\n",
    "    partial_train_targets = np.concatenate(\n",
    "        [train_targets[:i*num_val_samples],\n",
    "         train_targets[(i+1)*num_val_samples:]],\n",
    "        axis=0\n",
    "    )\n",
    "\n",
    "    # Build the Keras model\n",
    "    model = build_model(input_shape=(train_data.shape[1],))\n",
    "\n",
    "    # Train the model on the training data for this fold, and record the validation MAE for each epoch\n",
    "    history = model.fit(partial_train_data, partial_train_targets, \n",
    "                        validation_data=(val_data, val_targets),\n",
    "                        epochs=num_epochs, batch_size=1, verbose=0)\n",
    "\n",
    "    mae_history = history.history['val_mae']\n",
    "    all_mae_histories.append(mae_history)"
   ]
  },
  {
   "cell_type": "code",
   "execution_count": 14,
   "metadata": {
    "colab": {
     "base_uri": "https://localhost:8080/",
     "height": 279
    },
    "executionInfo": {
     "elapsed": 375,
     "status": "ok",
     "timestamp": 1679352942848,
     "user": {
      "displayName": "Abed Tabbalat",
      "userId": "12186395273444324238"
     },
     "user_tz": 240
    },
    "id": "ZuuF-gGzMuUV",
    "outputId": "279eccc5-0344-4dec-b428-d278e1c25b84"
   },
   "outputs": [
    {
     "data": {
      "image/png": "[encoded data removed]",
      "text/plain": [
       "<Figure size 432x288 with 1 Axes>"
      ]
     },
     "metadata": {
      "needs_background": "light"
     },
     "output_type": "display_data"
    }
   ],
   "source": [
    "# Compute the average MAE over all folds for each epoch\n",
    "avg_mae_history = [np.mean([x[i] for x in all_mae_histories]) for i in range(num_epochs)]\n",
    "\n",
    "# Plot the average MAE history over epochs\n",
    "plt.plot(range(1, num_epochs+1), avg_mae_history, color='red')\n",
    "plt.xlabel('Epochs')\n",
    "plt.ylabel('MAE')\n",
    "plt.show()"
   ]
  },
  {
   "cell_type": "code",
   "execution_count": 15,
   "metadata": {
    "colab": {
     "base_uri": "https://localhost:8080/",
     "height": 279
    },
    "executionInfo": {
     "elapsed": 451,
     "status": "ok",
     "timestamp": 1679352949499,
     "user": {
      "displayName": "Abed Tabbalat",
      "userId": "12186395273444324238"
     },
     "user_tz": 240
    },
    "id": "FsYkNfKNNhso",
    "outputId": "00bea4f4-aa3f-4722-8ba2-d8f99316cf35"
   },
   "outputs": [
    {
     "data": {
      "image/png": "[encoded data removed]",
      "text/plain": [
       "<Figure size 432x288 with 1 Axes>"
      ]
     },
     "metadata": {
      "needs_background": "light"
     },
     "output_type": "display_data"
    }
   ],
   "source": [
    "def smooth_curve(points, factor=0.9):\n",
    "    smoothed_points = []\n",
    "    for point in points:\n",
    "        if smoothed_points:\n",
    "            previous = smoothed_points[-1]\n",
    "            smoothed_points.append(previous*factor + point*(1-factor))\n",
    "        else:\n",
    "            smoothed_points.append(point)\n",
    "    return smoothed_points\n",
    "\n",
    "# Smooth the MAE curve by taking a moving average\n",
    "smooth_mae_history = smooth_curve(avg_mae_history[10:])\n",
    "\n",
    "# Plot the smoothed MAE curve over epochs\n",
    "plt.plot(range(1, len(smooth_mae_history)+1), smooth_mae_history, color='red')\n",
    "plt.xlabel('Epochs')\n",
    "plt.ylabel('MAE')\n",
    "plt.show()"
   ]
  },
  {
   "cell_type": "code",
   "execution_count": 16,
   "metadata": {
    "colab": {
     "base_uri": "https://localhost:8080/"
    },
    "executionInfo": {
     "elapsed": 6440,
     "status": "ok",
     "timestamp": 1679352959718,
     "user": {
      "displayName": "Abed Tabbalat",
      "userId": "12186395273444324238"
     },
     "user_tz": 240
    },
    "id": "-uH4Ufe3N1-5",
    "outputId": "7c55d2c2-2257-4da9-dc01-ea6ed8e96e30"
   },
   "outputs": [
    {
     "name": "stdout",
     "output_type": "stream",
     "text": [
      "4/4 [==============================] - 0s 4ms/step - loss: 17.3967 - mae: 2.5874\n"
     ]
    }
   ],
   "source": [
    "# Build a fresh Keras model\n",
    "model = build_model(input_shape=(train_data.shape[1],))\n",
    "\n",
    "# Train the model on the entire dataset\n",
    "model.fit(train_data, train_targets,\n",
    "          epochs=80, batch_size=16, verbose=0)\n",
    "\n",
    "# Evaluate the model on the test set and record the test MSE and MAE\n",
    "test_mse_score, test_mae_score = model.evaluate(test_data, test_targets)"
   ]
  },
  {
   "cell_type": "code",
   "execution_count": 17,
   "metadata": {
    "colab": {
     "base_uri": "https://localhost:8080/"
    },
    "executionInfo": {
     "elapsed": 279,
     "status": "ok",
     "timestamp": 1679352964332,
     "user": {
      "displayName": "Abed Tabbalat",
      "userId": "12186395273444324238"
     },
     "user_tz": 240
    },
    "id": "6aiEyRmrN8DX",
    "outputId": "78a60a6b-8e4d-408a-d3fd-b2964c43a211"
   },
   "outputs": [
    {
     "name": "stdout",
     "output_type": "stream",
     "text": [
      "MAE: 2.5873796939849854\n"
     ]
    }
   ],
   "source": [
    "print(f'MAE: {test_mae_score}')"
   ]
  }
 ],
 "metadata": {
  "colab": {
   "authorship_tag": "ABX9TyPUbZ4fL4vKRftHlz75QbsW",
   "provenance": [],
   "toc_visible": true
  },
  "kernelspec": {
   "display_name": "Python 3 (ipykernel)",
   "language": "python",
   "name": "python3"
  },
  "language_info": {
   "codemirror_mode": {
    "name": "ipython",
    "version": 3
   },
   "file_extension": ".py",
   "mimetype": "text/x-python",
   "name": "python",
   "nbconvert_exporter": "python",
   "pygments_lexer": "ipython3",
   "version": "3.9.12"
  }
 },
 "nbformat": 4,
 "nbformat_minor": 4
}
