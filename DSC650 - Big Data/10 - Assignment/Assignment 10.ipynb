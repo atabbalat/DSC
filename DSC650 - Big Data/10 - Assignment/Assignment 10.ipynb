{
 "cells": [
  {
   "cell_type": "markdown",
   "metadata": {
    "id": "ng4Zev1u2J6-"
   },
   "source": [
    "### Week 10\n",
    "### DSC 650\n",
    "### Abed Tabbalat"
   ]
  },
  {
   "cell_type": "code",
   "execution_count": 1,
   "metadata": {
    "colab": {
     "base_uri": "https://localhost:8080/"
    },
    "executionInfo": {
     "elapsed": 4947,
     "status": "ok",
     "timestamp": 1679968885826,
     "user": {
      "displayName": "Abed Tabbalat",
      "userId": "12186395273444324238"
     },
     "user_tz": 240
    },
    "id": "h_sgHxsC15XW",
    "outputId": "9d115c4c-10d7-40e8-9d49-f6ed64f32c84"
   },
   "outputs": [
    {
     "name": "stdout",
     "output_type": "stream",
     "text": [
      "Mounted at /content/drive\n",
      "/content/drive/My Drive/DSC650/Original/dsc650/assignments/assignment10\n"
     ]
    }
   ],
   "source": [
    "# Mounting drive\n",
    "import os\n",
    "from google.colab import drive\n",
    "drive.mount('/content/drive', force_remount = True)\n",
    "os.chdir('/content/drive/My Drive/DSC650/Original/dsc650/assignments/assignment10')\n",
    "!pwd"
   ]
  },
  {
   "cell_type": "code",
   "execution_count": 2,
   "metadata": {
    "executionInfo": {
     "elapsed": 5611,
     "status": "ok",
     "timestamp": 1679968894256,
     "user": {
      "displayName": "Abed Tabbalat",
      "userId": "12186395273444324238"
     },
     "user_tz": 240
    },
    "id": "5tlT1l5d2hg0"
   },
   "outputs": [],
   "source": [
    "# Imports\n",
    "import pandas as pd\n",
    "import numpy as np\n",
    "import matplotlib.pyplot as plt\n",
    "import string\n",
    "from pathlib import Path\n",
    "from keras.preprocessing.text import Tokenizer\n",
    "from tensorflow.keras.utils import pad_sequences\n",
    "from keras.models import Sequential\n",
    "from keras.layers import Embedding, Flatten, Dense\n",
    "from keras.layers import LSTM\n",
    "from keras.layers import Conv1D, MaxPooling1D, GlobalMaxPooling1D\n",
    "from tensorflow.keras.optimizers import RMSprop"
   ]
  },
  {
   "cell_type": "markdown",
   "metadata": {
    "id": "c7fLqFs43TJ2"
   },
   "source": [
    "## Assignment 10.1"
   ]
  },
  {
   "cell_type": "markdown",
   "metadata": {
    "id": "jxaWcblZ47I3"
   },
   "source": [
    "#### Assignment 10.1a\n"
   ]
  },
  {
   "cell_type": "code",
   "execution_count": 3,
   "metadata": {
    "executionInfo": {
     "elapsed": 419,
     "status": "ok",
     "timestamp": 1679968897541,
     "user": {
      "displayName": "Abed Tabbalat",
      "userId": "12186395273444324238"
     },
     "user_tz": 240
    },
    "id": "03Pj3j2Q3VCN"
   },
   "outputs": [],
   "source": [
    "def tokenize(sentence):\n",
    "    \"\"\"\n",
    "    Splits a sentence into words, converts them to lowercase, and removes punctuation.\n",
    "\n",
    "    Args:\n",
    "        sentence (str): The sentence to tokenize.\n",
    "\n",
    "    Returns:\n",
    "        A list of strings representing the tokens.\n",
    "    \"\"\"\n",
    "    tokens = []\n",
    "    \n",
    "    # Split sentence into words\n",
    "    words = sentence.split()\n",
    "    \n",
    "    # Convert words to lowercase\n",
    "    words = [word.lower() for word in words]\n",
    "    \n",
    "    # Remove punctuation from each word\n",
    "    translator = str.maketrans('', '', string.punctuation)\n",
    "    tokens = [word.translate(translator) for word in words]\n",
    "\n",
    "    return tokens"
   ]
  },
  {
   "cell_type": "code",
   "execution_count": 4,
   "metadata": {
    "colab": {
     "base_uri": "https://localhost:8080/"
    },
    "executionInfo": {
     "elapsed": 251,
     "status": "ok",
     "timestamp": 1679968900327,
     "user": {
      "displayName": "Abed Tabbalat",
      "userId": "12186395273444324238"
     },
     "user_tz": 240
    },
    "id": "fXCHYHHT3xXI",
    "outputId": "a9386ed9-dd7c-46a0-cf11-49813f5b21d5"
   },
   "outputs": [
    {
     "name": "stdout",
     "output_type": "stream",
     "text": [
      "['the', 'greatest', 'glory', 'in', 'living', 'lies', 'not', 'in', 'never', 'falling', 'but', 'in', 'rising', 'every', 'time', 'we', 'fall']\n"
     ]
    }
   ],
   "source": [
    "sentence = 'The greatest glory in living lies not in never falling, but in rising every time we fall.'\n",
    "words_token = tokenize(sentence)\n",
    "print(words_token)"
   ]
  },
  {
   "cell_type": "markdown",
   "metadata": {
    "id": "ypCQKXqd5B7w"
   },
   "source": [
    "#### Assignment 10.1c"
   ]
  },
  {
   "cell_type": "code",
   "execution_count": 5,
   "metadata": {
    "executionInfo": {
     "elapsed": 895,
     "status": "ok",
     "timestamp": 1679968904259,
     "user": {
      "displayName": "Abed Tabbalat",
      "userId": "12186395273444324238"
     },
     "user_tz": 240
    },
    "id": "BDstk78i4HsE"
   },
   "outputs": [],
   "source": [
    "def one_hot_encode(tokens, num_words=100):\n",
    "    \"\"\"\n",
    "    One-hot encodes a list of tokens.\n",
    "\n",
    "    Args:\n",
    "        tokens (list): A list of strings representing the tokens to be encoded.\n",
    "        num_words (int, optional): The maximum number of words to consider in the encoding. Defaults to 100.\n",
    "\n",
    "    Returns:\n",
    "        A 3D numpy array of shape (num_tokens, max_length, num_words+1), where num_tokens is the number of tokens,\n",
    "        max_length is the maximum length of a token sequence, and num_words+1 is the size of the vocabulary (plus 1 for\n",
    "        the padding token).\n",
    "    \"\"\"\n",
    "    # Create a dictionary mapping each unique token to a unique integer index\n",
    "    token_index = {}\n",
    "    for word in tokens:\n",
    "        if word not in token_index:\n",
    "            token_index[word] = len(token_index) + 1  # We add 1 to the index because 0 is reserved for the padding token\n",
    "    \n",
    "    # Set the maximum length of a token sequence to 10\n",
    "    max_length = 10\n",
    "    \n",
    "    # Initialize a 3D numpy array to hold the one-hot encoded tokens\n",
    "    results = np.zeros(shape=(len(tokens), max_length, max(token_index.values()) + 1))  # We add 1 to the vocabulary size to account for the padding token\n",
    "    \n",
    "    # Iterate over the tokens and their indices, and encode them one-hot\n",
    "    for i, word in enumerate(tokens):\n",
    "        for j, word in list(enumerate(tokens))[:max_length]:  # We use list(enumerate()) to limit the number of words to max_length\n",
    "            index = token_index.get(word)\n",
    "            results[i, j, index] = 1  # Set the corresponding entry to 1 for the one-hot encoding\n",
    "    \n",
    "    return results"
   ]
  },
  {
   "cell_type": "code",
   "execution_count": 6,
   "metadata": {
    "colab": {
     "base_uri": "https://localhost:8080/"
    },
    "executionInfo": {
     "elapsed": 229,
     "status": "ok",
     "timestamp": 1679968906583,
     "user": {
      "displayName": "Abed Tabbalat",
      "userId": "12186395273444324238"
     },
     "user_tz": 240
    },
    "id": "hCHDIDZi4qkq",
    "outputId": "06ba9fdf-8cf7-4d91-ec45-3df59e4949bf"
   },
   "outputs": [
    {
     "name": "stdout",
     "output_type": "stream",
     "text": [
      "[[[0. 1. 0. ... 0. 0. 0.]\n",
      "  [0. 0. 1. ... 0. 0. 0.]\n",
      "  [0. 0. 0. ... 0. 0. 0.]\n",
      "  ...\n",
      "  [0. 0. 0. ... 0. 0. 0.]\n",
      "  [0. 0. 0. ... 0. 0. 0.]\n",
      "  [0. 0. 0. ... 0. 0. 0.]]\n",
      "\n",
      " [[0. 1. 0. ... 0. 0. 0.]\n",
      "  [0. 0. 1. ... 0. 0. 0.]\n",
      "  [0. 0. 0. ... 0. 0. 0.]\n",
      "  ...\n",
      "  [0. 0. 0. ... 0. 0. 0.]\n",
      "  [0. 0. 0. ... 0. 0. 0.]\n",
      "  [0. 0. 0. ... 0. 0. 0.]]\n",
      "\n",
      " [[0. 1. 0. ... 0. 0. 0.]\n",
      "  [0. 0. 1. ... 0. 0. 0.]\n",
      "  [0. 0. 0. ... 0. 0. 0.]\n",
      "  ...\n",
      "  [0. 0. 0. ... 0. 0. 0.]\n",
      "  [0. 0. 0. ... 0. 0. 0.]\n",
      "  [0. 0. 0. ... 0. 0. 0.]]\n",
      "\n",
      " ...\n",
      "\n",
      " [[0. 1. 0. ... 0. 0. 0.]\n",
      "  [0. 0. 1. ... 0. 0. 0.]\n",
      "  [0. 0. 0. ... 0. 0. 0.]\n",
      "  ...\n",
      "  [0. 0. 0. ... 0. 0. 0.]\n",
      "  [0. 0. 0. ... 0. 0. 0.]\n",
      "  [0. 0. 0. ... 0. 0. 0.]]\n",
      "\n",
      " [[0. 1. 0. ... 0. 0. 0.]\n",
      "  [0. 0. 1. ... 0. 0. 0.]\n",
      "  [0. 0. 0. ... 0. 0. 0.]\n",
      "  ...\n",
      "  [0. 0. 0. ... 0. 0. 0.]\n",
      "  [0. 0. 0. ... 0. 0. 0.]\n",
      "  [0. 0. 0. ... 0. 0. 0.]]\n",
      "\n",
      " [[0. 1. 0. ... 0. 0. 0.]\n",
      "  [0. 0. 1. ... 0. 0. 0.]\n",
      "  [0. 0. 0. ... 0. 0. 0.]\n",
      "  ...\n",
      "  [0. 0. 0. ... 0. 0. 0.]\n",
      "  [0. 0. 0. ... 0. 0. 0.]\n",
      "  [0. 0. 0. ... 0. 0. 0.]]]\n"
     ]
    }
   ],
   "source": [
    "words_one_hot = one_hot_encode(words_token)\n",
    "print(words_one_hot[1:10])"
   ]
  },
  {
   "cell_type": "markdown",
   "metadata": {
    "id": "9uCEPdBm5F7y"
   },
   "source": [
    "## Assignment 10.2"
   ]
  },
  {
   "cell_type": "code",
   "execution_count": 7,
   "metadata": {
    "executionInfo": {
     "elapsed": 44593,
     "status": "ok",
     "timestamp": 1679968954537,
     "user": {
      "displayName": "Abed Tabbalat",
      "userId": "12186395273444324238"
     },
     "user_tz": 240
    },
    "id": "-kgOVv-O5I1n"
   },
   "outputs": [],
   "source": [
    "# Set the current directory to an absolute path\n",
    "current_dir = Path(os.getcwd()).absolute()\n",
    "\n",
    "# Set the path to the IMDB dataset\n",
    "imdb_dir = '../../../data/external/imdb/aclImdb'\n",
    "\n",
    "# Set the paths to the train and test directories of the IMDB dataset\n",
    "train_dir = os.path.join(imdb_dir, 'train')\n",
    "test_dir = os.path.join(imdb_dir, 'test')\n",
    "\n",
    "# Process the labels and texts from the raw IMDB data\n",
    "labels = []   # A list to hold the labels (0 for negative, 1 for positive)\n",
    "texts = []    # A list to hold the text data\n",
    "\n",
    "for label_type in ['neg', 'pos']:\n",
    "    dir_name = os.path.join(train_dir, label_type)\n",
    "\n",
    "    # Iterate over the files in the directory and extract the text data\n",
    "    for fname in os.listdir(dir_name):\n",
    "        if fname[-4:] == '.txt':\n",
    "            f = open(os.path.join(dir_name, fname), encoding='utf-8')\n",
    "            texts.append(f.read())\n",
    "            f.close()\n",
    "\n",
    "            # Set the corresponding label (0 for negative, 1 for positive)\n",
    "            if label_type == 'neg':\n",
    "                labels.append(0)\n",
    "            else:\n",
    "                labels.append(1)"
   ]
  },
  {
   "cell_type": "code",
   "execution_count": 8,
   "metadata": {
    "colab": {
     "base_uri": "https://localhost:8080/"
    },
    "executionInfo": {
     "elapsed": 8414,
     "status": "ok",
     "timestamp": 1679969035096,
     "user": {
      "displayName": "Abed Tabbalat",
      "userId": "12186395273444324238"
     },
     "user_tz": 240
    },
    "id": "48LWpI-Y5xtN",
    "outputId": "5f61f0d9-92de-429e-d3fa-4860d19f77a2"
   },
   "outputs": [
    {
     "name": "stdout",
     "output_type": "stream",
     "text": [
      "Unique Tokens: 88582 \n"
     ]
    }
   ],
   "source": [
    "# Set the maximum length of a review to 100 words\n",
    "maxlen = 100\n",
    "\n",
    "# Set the number of samples to use for training\n",
    "training_samples = 200\n",
    "\n",
    "# Set the number of samples to use for validation\n",
    "validation_samples = 10000\n",
    "\n",
    "# Consider only the top 10000 words in the dataset\n",
    "max_words = 10000\n",
    "\n",
    "# Create a tokenizer object and fit it on the texts\n",
    "tokenizer = Tokenizer(num_words=max_words)\n",
    "tokenizer.fit_on_texts(texts)\n",
    "\n",
    "# Convert the texts to sequences of integers\n",
    "sequences = tokenizer.texts_to_sequences(texts)\n",
    "\n",
    "# Get the word index from the tokenizer and print the number of unique tokens\n",
    "word_index = tokenizer.word_index\n",
    "print(f'Unique Tokens: {len(word_index)} ')"
   ]
  },
  {
   "cell_type": "code",
   "execution_count": 9,
   "metadata": {
    "colab": {
     "base_uri": "https://localhost:8080/"
    },
    "executionInfo": {
     "elapsed": 608,
     "status": "ok",
     "timestamp": 1679969038264,
     "user": {
      "displayName": "Abed Tabbalat",
      "userId": "12186395273444324238"
     },
     "user_tz": 240
    },
    "id": "Zd1U0YcP5-zV",
    "outputId": "3cc9da95-eb98-442c-e192-7c04e3665974"
   },
   "outputs": [
    {
     "name": "stdout",
     "output_type": "stream",
     "text": [
      "Data tensor: (25000, 100)\n",
      "Label tensor: (25000,)\n"
     ]
    }
   ],
   "source": [
    "data = pad_sequences(sequences, maxlen = maxlen)\n",
    "\n",
    "\n",
    "labels = np.asarray(labels)\n",
    "print(f'Data tensor: {data.shape}')\n",
    "print(f'Label tensor: {labels.shape}')"
   ]
  },
  {
   "cell_type": "code",
   "execution_count": 10,
   "metadata": {
    "colab": {
     "base_uri": "https://localhost:8080/"
    },
    "executionInfo": {
     "elapsed": 2142,
     "status": "ok",
     "timestamp": 1679969043124,
     "user": {
      "displayName": "Abed Tabbalat",
      "userId": "12186395273444324238"
     },
     "user_tz": 240
    },
    "id": "9EhXrXSa6Sqt",
    "outputId": "7843ee23-90c4-4e85-c05b-70cf9b989462"
   },
   "outputs": [
    {
     "name": "stdout",
     "output_type": "stream",
     "text": [
      "Model: \"sequential\"\n",
      "_________________________________________________________________\n",
      " Layer (type)                Output Shape              Param #   \n",
      "=================================================================\n",
      " embedding (Embedding)       (None, 100, 100)          1000000   \n",
      "                                                                 \n",
      " flatten (Flatten)           (None, 10000)             0         \n",
      "                                                                 \n",
      " dense (Dense)               (None, 32)                320032    \n",
      "                                                                 \n",
      " dense_1 (Dense)             (None, 1)                 33        \n",
      "                                                                 \n",
      "=================================================================\n",
      "Total params: 1,320,065\n",
      "Trainable params: 1,320,065\n",
      "Non-trainable params: 0\n",
      "_________________________________________________________________\n"
     ]
    }
   ],
   "source": [
    "# Shuffle the indices of the data and labels arrays\n",
    "indices = np.arange(data.shape[0])\n",
    "np.random.shuffle(indices)\n",
    "data = data[indices]\n",
    "labels = labels[indices]\n",
    "\n",
    "# Split the data and labels into training and validation sets\n",
    "x_train = data[:training_samples]\n",
    "y_train = labels[:training_samples]\n",
    "\n",
    "x_val = data[training_samples: training_samples + validation_samples]\n",
    "y_val = labels[training_samples: training_samples + validation_samples]\n",
    "\n",
    "# Train the model\n",
    "embedding_dim = 100   # Set the dimension of the embedding space\n",
    "\n",
    "# Create a sequential model\n",
    "model = Sequential()\n",
    "\n",
    "# Add an embedding layer\n",
    "model.add(Embedding(max_words, embedding_dim, input_length=maxlen))\n",
    "\n",
    "# Add a flattening layer\n",
    "model.add(Flatten())\n",
    "\n",
    "# Add a dense layer with 32 units and a ReLU activation function\n",
    "model.add(Dense(32, activation='relu'))\n",
    "\n",
    "# Add a dense layer with 1 unit and a sigmoid activation function\n",
    "model.add(Dense(1, activation='sigmoid'))\n",
    "\n",
    "# Print a summary of the model architecture\n",
    "model.summary()"
   ]
  },
  {
   "cell_type": "code",
   "execution_count": 11,
   "metadata": {
    "colab": {
     "base_uri": "https://localhost:8080/"
    },
    "executionInfo": {
     "elapsed": 21398,
     "status": "ok",
     "timestamp": 1679969068811,
     "user": {
      "displayName": "Abed Tabbalat",
      "userId": "12186395273444324238"
     },
     "user_tz": 240
    },
    "id": "C8u3MYGN6kun",
    "outputId": "335eca05-5749-416b-bc17-fb7ab5220fb4"
   },
   "outputs": [
    {
     "name": "stdout",
     "output_type": "stream",
     "text": [
      "Epoch 1/10\n",
      "7/7 [==============================] - 3s 258ms/step - loss: 0.6909 - acc: 0.5300 - val_loss: 0.6919 - val_acc: 0.5136\n",
      "Epoch 2/10\n",
      "7/7 [==============================] - 2s 351ms/step - loss: 0.5674 - acc: 0.9600 - val_loss: 0.6918 - val_acc: 0.5217\n",
      "Epoch 3/10\n",
      "7/7 [==============================] - 2s 317ms/step - loss: 0.4226 - acc: 0.9800 - val_loss: 0.6955 - val_acc: 0.5225\n",
      "Epoch 4/10\n",
      "7/7 [==============================] - 2s 252ms/step - loss: 0.2564 - acc: 1.0000 - val_loss: 0.6971 - val_acc: 0.5270\n",
      "Epoch 5/10\n",
      "7/7 [==============================] - 1s 212ms/step - loss: 0.1467 - acc: 1.0000 - val_loss: 0.7009 - val_acc: 0.5289\n",
      "Epoch 6/10\n",
      "7/7 [==============================] - 2s 270ms/step - loss: 0.0841 - acc: 1.0000 - val_loss: 0.7099 - val_acc: 0.5288\n",
      "Epoch 7/10\n",
      "7/7 [==============================] - 2s 248ms/step - loss: 0.0507 - acc: 1.0000 - val_loss: 0.7162 - val_acc: 0.5315\n",
      "Epoch 8/10\n",
      "7/7 [==============================] - 1s 194ms/step - loss: 0.0325 - acc: 1.0000 - val_loss: 0.7209 - val_acc: 0.5310\n",
      "Epoch 9/10\n",
      "7/7 [==============================] - 2s 268ms/step - loss: 0.0218 - acc: 1.0000 - val_loss: 0.7322 - val_acc: 0.5323\n",
      "Epoch 10/10\n",
      "7/7 [==============================] - 3s 560ms/step - loss: 0.0153 - acc: 1.0000 - val_loss: 0.7429 - val_acc: 0.5333\n"
     ]
    }
   ],
   "source": [
    "# Compile the model with the RMSprop optimizer, binary cross-entropy loss function, and accuracy metric\n",
    "model.compile(optimizer='rmsprop', loss='binary_crossentropy', metrics=['acc'])\n",
    "\n",
    "# Train the model on the training data and evaluate it on the validation data\n",
    "history = model.fit(x_train, y_train, epochs=10, batch_size=32, validation_data=(x_val, y_val))"
   ]
  },
  {
   "cell_type": "code",
   "execution_count": 12,
   "metadata": {
    "executionInfo": {
     "elapsed": 578350,
     "status": "ok",
     "timestamp": 1679969650200,
     "user": {
      "displayName": "Abed Tabbalat",
      "userId": "12186395273444324238"
     },
     "user_tz": 240
    },
    "id": "D24K_dUy6uL9"
   },
   "outputs": [],
   "source": [
    "# Process the labels and texts from the test data\n",
    "labels = []   # A list to hold the labels (0 for negative, 1 for positive)\n",
    "texts = []    # A list to hold the text data\n",
    "\n",
    "for label_type in ['neg', 'pos']:\n",
    "    dir_name = os.path.join(test_dir, label_type)\n",
    "\n",
    "    # Iterate over the files in the directory and extract the text data\n",
    "    for fname in os.listdir(dir_name):\n",
    "        if fname[-4:] == '.txt':\n",
    "            f = open(os.path.join(dir_name, fname), encoding='utf-8')\n",
    "            texts.append(f.read())\n",
    "            f.close()\n",
    "\n",
    "            # Set the corresponding label (0 for negative, 1 for positive)\n",
    "            if label_type == 'neg':\n",
    "                labels.append(0)\n",
    "            else:\n",
    "                labels.append(1)\n",
    "\n",
    "# Convert the texts to sequences of integers and pad them to a fixed length\n",
    "sequences = tokenizer.texts_to_sequences(texts)\n",
    "x_test = pad_sequences(sequences, maxlen=maxlen)\n",
    "\n",
    "# Convert the labels to a numpy array\n",
    "y_test = np.asarray(labels)"
   ]
  },
  {
   "cell_type": "code",
   "execution_count": 13,
   "metadata": {
    "colab": {
     "base_uri": "https://localhost:8080/",
     "height": 295
    },
    "executionInfo": {
     "elapsed": 833,
     "status": "ok",
     "timestamp": 1679969654807,
     "user": {
      "displayName": "Abed Tabbalat",
      "userId": "12186395273444324238"
     },
     "user_tz": 240
    },
    "id": "cVcHjz4-7Dsd",
    "outputId": "8ea45dae-5439-4e94-9f11-f3e6eb5509bf"
   },
   "outputs": [
    {
     "data": {
      "image/png": "[encoded data removed]",
      "text/plain": [
       "<Figure size 432x288 with 1 Axes>"
      ]
     },
     "metadata": {
      "needs_background": "light"
     },
     "output_type": "display_data"
    }
   ],
   "source": [
    "# Plot the training and validation accuracy curves\n",
    "plt.plot(history.history['acc'], color='red')   # Red line for training accuracy\n",
    "plt.plot(history.history['val_acc'], color='blue')\n",
    "\n",
    "# Set the title and axis labels\n",
    "plt.title('Training and Validation Accuracy')\n",
    "plt.ylabel('Accuracy')\n",
    "plt.xlabel('Number of Epochs')\n",
    "\n",
    "# Add a legend to the plot\n",
    "plt.legend(['Training', 'Validation'], loc='lower right')\n",
    "\n",
    "# Show the plot\n",
    "plt.show()"
   ]
  },
  {
   "cell_type": "code",
   "execution_count": 14,
   "metadata": {
    "colab": {
     "base_uri": "https://localhost:8080/",
     "height": 295
    },
    "executionInfo": {
     "elapsed": 3,
     "status": "ok",
     "timestamp": 1679969657875,
     "user": {
      "displayName": "Abed Tabbalat",
      "userId": "12186395273444324238"
     },
     "user_tz": 240
    },
    "id": "F0ndJGlK7npj",
    "outputId": "3335b478-556a-4be3-8ccf-d2ae32830c32"
   },
   "outputs": [
    {
     "data": {
      "image/png": "[encoded data removed]",
      "text/plain": [
       "<Figure size 432x288 with 1 Axes>"
      ]
     },
     "metadata": {
      "needs_background": "light"
     },
     "output_type": "display_data"
    }
   ],
   "source": [
    "# Plot the training and validation loss curves\n",
    "plt.plot(history.history['loss'], color='red')   # Red line for training loss\n",
    "plt.plot(history.history['val_loss'], color='blue')\n",
    "\n",
    "# Set the title and axis labels\n",
    "plt.title('Training and Validation Loss')\n",
    "plt.ylabel('Loss')\n",
    "plt.xlabel('Number of Epochs')\n",
    "\n",
    "# Add a legend to the plot\n",
    "plt.legend(['Training', 'Validation'], loc='upper right')\n",
    "\n",
    "# Show the plot\n",
    "plt.show()"
   ]
  },
  {
   "cell_type": "code",
   "execution_count": 15,
   "metadata": {
    "colab": {
     "base_uri": "https://localhost:8080/"
    },
    "executionInfo": {
     "elapsed": 2708,
     "status": "ok",
     "timestamp": 1679969664276,
     "user": {
      "displayName": "Abed Tabbalat",
      "userId": "12186395273444324238"
     },
     "user_tz": 240
    },
    "id": "w9LiZ2gC7xAQ",
    "outputId": "f82d5028-067c-42bf-eedc-86c92425383a"
   },
   "outputs": [
    {
     "name": "stdout",
     "output_type": "stream",
     "text": [
      "782/782 [==============================] - 2s 3ms/step - loss: 0.7509 - acc: 0.5242\n",
      "Model Accuracy: 52.4%\n",
      "Model Loss: 0.751\n"
     ]
    }
   ],
   "source": [
    "# Evaluate the model on the test data\n",
    "eval = model.evaluate(x_test, y_test)\n",
    "\n",
    "# Print the model's accuracy and loss on the test data\n",
    "print(f'Model Accuracy: {eval[1] * 100:.1f}%')\n",
    "print(f'Model Loss: {eval[0]:.3f}')"
   ]
  },
  {
   "cell_type": "markdown",
   "metadata": {
    "id": "ktDRTCO97495"
   },
   "source": [
    "## Assignment 10.3"
   ]
  },
  {
   "cell_type": "code",
   "execution_count": 16,
   "metadata": {
    "colab": {
     "base_uri": "https://localhost:8080/"
    },
    "executionInfo": {
     "elapsed": 751,
     "status": "ok",
     "timestamp": 1679969673537,
     "user": {
      "displayName": "Abed Tabbalat",
      "userId": "12186395273444324238"
     },
     "user_tz": 240
    },
    "id": "BJ4RPtEs7_-F",
    "outputId": "bfa62417-3326-4579-dc36-24a4db75a599"
   },
   "outputs": [
    {
     "name": "stdout",
     "output_type": "stream",
     "text": [
      "Model: \"sequential_1\"\n",
      "_________________________________________________________________\n",
      " Layer (type)                Output Shape              Param #   \n",
      "=================================================================\n",
      " embedding_1 (Embedding)     (None, None, 32)          320000    \n",
      "                                                                 \n",
      " lstm (LSTM)                 (None, 32)                8320      \n",
      "                                                                 \n",
      " dense_2 (Dense)             (None, 1)                 33        \n",
      "                                                                 \n",
      "=================================================================\n",
      "Total params: 328,353\n",
      "Trainable params: 328,353\n",
      "Non-trainable params: 0\n",
      "_________________________________________________________________\n"
     ]
    }
   ],
   "source": [
    "# Set the number of words to consider as features\n",
    "max_features = 10000\n",
    "\n",
    "# Create a sequential model with an embedding layer, LSTM layer, and dense layer\n",
    "model = Sequential()\n",
    "\n",
    "# Add an embedding layer with 32-dimensional vectors\n",
    "model.add(Embedding(max_features, 32))\n",
    "\n",
    "# Add an LSTM layer with 32 units\n",
    "model.add(LSTM(32))\n",
    "\n",
    "# Add a dense layer with a single unit and a sigmoid activation function\n",
    "model.add(Dense(1, activation='sigmoid'))\n",
    "\n",
    "# Print a summary of the model architecture\n",
    "model.summary()"
   ]
  },
  {
   "cell_type": "code",
   "execution_count": 17,
   "metadata": {
    "colab": {
     "base_uri": "https://localhost:8080/"
    },
    "executionInfo": {
     "elapsed": 8300,
     "status": "ok",
     "timestamp": 1679969690518,
     "user": {
      "displayName": "Abed Tabbalat",
      "userId": "12186395273444324238"
     },
     "user_tz": 240
    },
    "id": "vRGddnNV8-V-",
    "outputId": "94135f2c-d058-4d70-b450-9db55f42cff4"
   },
   "outputs": [
    {
     "name": "stdout",
     "output_type": "stream",
     "text": [
      "Epoch 1/10\n",
      "2/2 [==============================] - 4s 666ms/step - loss: 0.6944 - acc: 0.3938 - val_loss: 0.6920 - val_acc: 0.6000\n",
      "Epoch 2/10\n",
      "2/2 [==============================] - 0s 165ms/step - loss: 0.6925 - acc: 0.5562 - val_loss: 0.6912 - val_acc: 0.6500\n",
      "Epoch 3/10\n",
      "2/2 [==============================] - 0s 184ms/step - loss: 0.6913 - acc: 0.6187 - val_loss: 0.6901 - val_acc: 0.5500\n",
      "Epoch 4/10\n",
      "2/2 [==============================] - 0s 167ms/step - loss: 0.6900 - acc: 0.5375 - val_loss: 0.6892 - val_acc: 0.5500\n",
      "Epoch 5/10\n",
      "2/2 [==============================] - 0s 169ms/step - loss: 0.6888 - acc: 0.5188 - val_loss: 0.6893 - val_acc: 0.5500\n",
      "Epoch 6/10\n",
      "2/2 [==============================] - 0s 184ms/step - loss: 0.6874 - acc: 0.5938 - val_loss: 0.6884 - val_acc: 0.5500\n",
      "Epoch 7/10\n",
      "2/2 [==============================] - 0s 282ms/step - loss: 0.6855 - acc: 0.5500 - val_loss: 0.6873 - val_acc: 0.5500\n",
      "Epoch 8/10\n",
      "2/2 [==============================] - 0s 271ms/step - loss: 0.6832 - acc: 0.5500 - val_loss: 0.6855 - val_acc: 0.5500\n",
      "Epoch 9/10\n",
      "2/2 [==============================] - 0s 269ms/step - loss: 0.6801 - acc: 0.5250 - val_loss: 0.6833 - val_acc: 0.5500\n",
      "Epoch 10/10\n",
      "2/2 [==============================] - 0s 265ms/step - loss: 0.6763 - acc: 0.5250 - val_loss: 0.6833 - val_acc: 0.5500\n"
     ]
    }
   ],
   "source": [
    "# Compile the model with the RMSprop optimizer, binary cross-entropy loss function, and accuracy metric\n",
    "model.compile(optimizer='rmsprop', loss='binary_crossentropy', metrics=['acc'])\n",
    "\n",
    "# Train the model on the training data with 10 epochs, a batch size of 128, and a validation split of 0.2\n",
    "history = model.fit(x_train, y_train, epochs=10, batch_size=128, validation_split=0.2)"
   ]
  },
  {
   "cell_type": "code",
   "execution_count": 18,
   "metadata": {
    "colab": {
     "base_uri": "https://localhost:8080/",
     "height": 295
    },
    "executionInfo": {
     "elapsed": 1191,
     "status": "ok",
     "timestamp": 1679969695896,
     "user": {
      "displayName": "Abed Tabbalat",
      "userId": "12186395273444324238"
     },
     "user_tz": 240
    },
    "id": "-IgIkiOo9ABq",
    "outputId": "13aef9ab-c732-4ae4-b66c-eb1285b1d7a8"
   },
   "outputs": [
    {
     "data": {
      "image/png": "[encoded data removed]",
      "text/plain": [
       "<Figure size 432x288 with 1 Axes>"
      ]
     },
     "metadata": {
      "needs_background": "light"
     },
     "output_type": "display_data"
    }
   ],
   "source": [
    "# Plot the training and validation accuracy curves\n",
    "plt.plot(history.history['acc'], color='red')   # Red line for training accuracy\n",
    "plt.plot(history.history['val_acc'], color='blue')\n",
    "\n",
    "# Set the title and axis labels\n",
    "plt.title('Training and Validation Accuracy')\n",
    "plt.ylabel('Accuracy')\n",
    "plt.xlabel('Number of Epochs')\n",
    "\n",
    "# Add a legend to the plot\n",
    "plt.legend(['Training', 'Validation'], loc='lower right')\n",
    "\n",
    "# Show the plot\n",
    "plt.show()"
   ]
  },
  {
   "cell_type": "code",
   "execution_count": 19,
   "metadata": {
    "colab": {
     "base_uri": "https://localhost:8080/",
     "height": 295
    },
    "executionInfo": {
     "elapsed": 1211,
     "status": "ok",
     "timestamp": 1679969700136,
     "user": {
      "displayName": "Abed Tabbalat",
      "userId": "12186395273444324238"
     },
     "user_tz": 240
    },
    "id": "JvU-0MgL9hw1",
    "outputId": "42db1bb8-a261-4b31-8b3f-0840a0031fe5"
   },
   "outputs": [
    {
     "data": {
      "image/png": "[encoded data removed]",
      "text/plain": [
       "<Figure size 432x288 with 1 Axes>"
      ]
     },
     "metadata": {
      "needs_background": "light"
     },
     "output_type": "display_data"
    }
   ],
   "source": [
    "# Plot the training and validation loss curves\n",
    "plt.plot(history.history['loss'], color='red')   # Red line for training loss\n",
    "plt.plot(history.history['val_loss'], color='blue')\n",
    "\n",
    "# Set the title and axis labels\n",
    "plt.title('Training and Validation Loss')\n",
    "plt.ylabel('Loss')\n",
    "plt.xlabel('Number of Epochs')\n",
    "\n",
    "# Add a legend to the plot\n",
    "plt.legend(['Training', 'Validation'], loc='upper right')\n",
    "\n",
    "# Show the plot\n",
    "plt.show()"
   ]
  },
  {
   "cell_type": "code",
   "execution_count": 20,
   "metadata": {
    "colab": {
     "base_uri": "https://localhost:8080/"
    },
    "executionInfo": {
     "elapsed": 5009,
     "status": "ok",
     "timestamp": 1679969707566,
     "user": {
      "displayName": "Abed Tabbalat",
      "userId": "12186395273444324238"
     },
     "user_tz": 240
    },
    "id": "te6Phhmd9pP4",
    "outputId": "b92fe6b4-e44b-4a41-82d5-619362b8bb63"
   },
   "outputs": [
    {
     "name": "stdout",
     "output_type": "stream",
     "text": [
      "782/782 [==============================] - 4s 6ms/step - loss: 0.6914 - acc: 0.5035\n",
      "Model Accuracy: 50.4%\n",
      "Model Loss: 0.691\n"
     ]
    }
   ],
   "source": [
    "# Evaluate the model on the test data\n",
    "eval = model.evaluate(x_test, y_test)\n",
    "\n",
    "# Print the model's accuracy and loss on the test data\n",
    "print(f'Model Accuracy: {eval[1] * 100:.1f}%')\n",
    "print(f'Model Loss: {eval[0]:.3f}')"
   ]
  },
  {
   "cell_type": "markdown",
   "metadata": {
    "id": "qtSku4HI9s6w"
   },
   "source": [
    "## Assignment 10.4"
   ]
  },
  {
   "cell_type": "code",
   "execution_count": 21,
   "metadata": {
    "colab": {
     "base_uri": "https://localhost:8080/"
    },
    "executionInfo": {
     "elapsed": 522,
     "status": "ok",
     "timestamp": 1679969711284,
     "user": {
      "displayName": "Abed Tabbalat",
      "userId": "12186395273444324238"
     },
     "user_tz": 240
    },
    "id": "RHt3YL3L9xts",
    "outputId": "b59946fe-7d6a-40e5-839b-f71496af50ea"
   },
   "outputs": [
    {
     "name": "stdout",
     "output_type": "stream",
     "text": [
      "Model: \"sequential_2\"\n",
      "_________________________________________________________________\n",
      " Layer (type)                Output Shape              Param #   \n",
      "=================================================================\n",
      " embedding_2 (Embedding)     (None, 100, 128)          1280000   \n",
      "                                                                 \n",
      " conv1d (Conv1D)             (None, 94, 32)            28704     \n",
      "                                                                 \n",
      " max_pooling1d (MaxPooling1D  (None, 18, 32)           0         \n",
      " )                                                               \n",
      "                                                                 \n",
      " conv1d_1 (Conv1D)           (None, 12, 32)            7200      \n",
      "                                                                 \n",
      " global_max_pooling1d (Globa  (None, 32)               0         \n",
      " lMaxPooling1D)                                                  \n",
      "                                                                 \n",
      " dense_3 (Dense)             (None, 1)                 33        \n",
      "                                                                 \n",
      "=================================================================\n",
      "Total params: 1,315,937\n",
      "Trainable params: 1,315,937\n",
      "Non-trainable params: 0\n",
      "_________________________________________________________________\n"
     ]
    }
   ],
   "source": [
    "# Set the maximum length of input sequences\n",
    "max_len = 100\n",
    "\n",
    "# Create a sequential model with an embedding layer, two convolutional layers, a global max pooling layer, and a dense layer\n",
    "model = Sequential()\n",
    "\n",
    "# Add an embedding layer with 128-dimensional vectors\n",
    "model.add(Embedding(max_features, 128, input_length=max_len))\n",
    "\n",
    "# Add a 1D convolutional layer with 32 filters, a kernel size of 7, and a ReLU activation function\n",
    "model.add(Conv1D(32, 7, activation='relu'))\n",
    "\n",
    "# Add a max pooling layer with a pool size of 5\n",
    "model.add(MaxPooling1D(5))\n",
    "\n",
    "# Add another 1D convolutional layer with 32 filters, a kernel size of 7, and a ReLU activation function\n",
    "model.add(Conv1D(32, 7, activation='relu'))\n",
    "\n",
    "# Add a global max pooling layer\n",
    "model.add(GlobalMaxPooling1D())\n",
    "\n",
    "# Add a dense layer with a single unit\n",
    "model.add(Dense(1))\n",
    "\n",
    "# Print a summary of the model architecture\n",
    "model.summary()"
   ]
  },
  {
   "cell_type": "code",
   "execution_count": 22,
   "metadata": {
    "colab": {
     "base_uri": "https://localhost:8080/"
    },
    "executionInfo": {
     "elapsed": 11201,
     "status": "ok",
     "timestamp": 1679969725705,
     "user": {
      "displayName": "Abed Tabbalat",
      "userId": "12186395273444324238"
     },
     "user_tz": 240
    },
    "id": "loo6COTi98MR",
    "outputId": "d178cc3d-3b56-4a6c-8ef8-5fe68ce20429"
   },
   "outputs": [
    {
     "name": "stdout",
     "output_type": "stream",
     "text": [
      "Epoch 1/10\n",
      "2/2 [==============================] - 7s 535ms/step - loss: 1.0655 - acc: 0.5188 - val_loss: 0.8813 - val_acc: 0.5500\n",
      "Epoch 2/10\n",
      "2/2 [==============================] - 0s 161ms/step - loss: 0.8988 - acc: 0.5188 - val_loss: 0.8380 - val_acc: 0.5500\n",
      "Epoch 3/10\n",
      "2/2 [==============================] - 0s 176ms/step - loss: 0.8285 - acc: 0.5188 - val_loss: 0.8109 - val_acc: 0.5500\n",
      "Epoch 4/10\n",
      "2/2 [==============================] - 0s 165ms/step - loss: 0.7837 - acc: 0.5188 - val_loss: 0.7923 - val_acc: 0.5500\n",
      "Epoch 5/10\n",
      "2/2 [==============================] - 0s 162ms/step - loss: 0.7512 - acc: 0.5188 - val_loss: 0.7758 - val_acc: 0.5500\n",
      "Epoch 6/10\n",
      "2/2 [==============================] - 0s 167ms/step - loss: 0.7232 - acc: 0.5188 - val_loss: 0.7657 - val_acc: 0.5500\n",
      "Epoch 7/10\n",
      "2/2 [==============================] - 0s 164ms/step - loss: 0.7021 - acc: 0.5188 - val_loss: 0.7561 - val_acc: 0.5500\n",
      "Epoch 8/10\n",
      "2/2 [==============================] - 0s 164ms/step - loss: 0.6827 - acc: 0.5188 - val_loss: 0.7458 - val_acc: 0.5500\n",
      "Epoch 9/10\n",
      "2/2 [==============================] - 0s 56ms/step - loss: 0.6639 - acc: 0.5188 - val_loss: 0.7371 - val_acc: 0.5500\n",
      "Epoch 10/10\n",
      "2/2 [==============================] - 0s 162ms/step - loss: 0.6466 - acc: 0.5188 - val_loss: 0.7276 - val_acc: 0.5500\n"
     ]
    }
   ],
   "source": [
    "# Compile the model with the RMSprop optimizer with a learning rate of 1e-4, binary cross-entropy loss function, and accuracy metric\n",
    "model.compile(optimizer=RMSprop(learning_rate=1e-4), loss='binary_crossentropy', metrics=['acc'])\n",
    "\n",
    "# Train the model on the training data with 10 epochs, a batch size of 128, and a validation split of 0.2\n",
    "history = model.fit(x_train, y_train, epochs=10, batch_size=128, validation_split=0.2)"
   ]
  },
  {
   "cell_type": "code",
   "execution_count": 23,
   "metadata": {
    "colab": {
     "base_uri": "https://localhost:8080/",
     "height": 295
    },
    "executionInfo": {
     "elapsed": 1195,
     "status": "ok",
     "timestamp": 1679969729845,
     "user": {
      "displayName": "Abed Tabbalat",
      "userId": "12186395273444324238"
     },
     "user_tz": 240
    },
    "id": "dBTfCCcZ-E12",
    "outputId": "b20f429f-c0a9-48e2-9022-2a16f36a0013"
   },
   "outputs": [
    {
     "data": {
      "image/png": "[encoded data removed]",
      "text/plain": [
       "<Figure size 432x288 with 1 Axes>"
      ]
     },
     "metadata": {
      "needs_background": "light"
     },
     "output_type": "display_data"
    }
   ],
   "source": [
    "# Plot the training and validation accuracy curves\n",
    "plt.plot(history.history['acc'], color='red')   # Red line for training accuracy\n",
    "plt.plot(history.history['val_acc'], color='blue')\n",
    "\n",
    "# Set the title and axis labels\n",
    "plt.title('Training and Validation Accuracy')\n",
    "plt.ylabel('Accuracy')\n",
    "plt.xlabel('Number of Epochs')\n",
    "\n",
    "# Add a legend to the plot\n",
    "plt.legend(['Training', 'Validation'], loc='lower right')\n",
    "\n",
    "# Show the plot\n",
    "plt.show()"
   ]
  },
  {
   "cell_type": "code",
   "execution_count": 24,
   "metadata": {
    "colab": {
     "base_uri": "https://localhost:8080/",
     "height": 295
    },
    "executionInfo": {
     "elapsed": 284,
     "status": "ok",
     "timestamp": 1679969748610,
     "user": {
      "displayName": "Abed Tabbalat",
      "userId": "12186395273444324238"
     },
     "user_tz": 240
    },
    "id": "g2oqP7pO-N2Z",
    "outputId": "c097cb21-a803-49db-95ed-db8b79e9e89f"
   },
   "outputs": [
    {
     "data": {
      "image/png": "[encoded data removed]",
      "text/plain": [
       "<Figure size 432x288 with 1 Axes>"
      ]
     },
     "metadata": {
      "needs_background": "light"
     },
     "output_type": "display_data"
    }
   ],
   "source": [
    "# Plot the training and validation loss curves\n",
    "plt.plot(history.history['loss'], color='red')   # Red line for training loss\n",
    "plt.plot(history.history['val_loss'], color='blue')\n",
    "\n",
    "# Set the title and axis labels\n",
    "plt.title('Training and Validation Loss')\n",
    "plt.ylabel('Loss')\n",
    "plt.xlabel('Number of Epochs')\n",
    "\n",
    "# Add a legend to the plot\n",
    "plt.legend(['Training', 'Validation'], loc='upper right')\n",
    "\n",
    "# Show the plot\n",
    "plt.show()"
   ]
  },
  {
   "cell_type": "code",
   "execution_count": 25,
   "metadata": {
    "colab": {
     "base_uri": "https://localhost:8080/"
    },
    "executionInfo": {
     "elapsed": 3517,
     "status": "ok",
     "timestamp": 1679969754434,
     "user": {
      "displayName": "Abed Tabbalat",
      "userId": "12186395273444324238"
     },
     "user_tz": 240
    },
    "id": "PU9oVhZF-XGc",
    "outputId": "5b9fa38d-422d-42e2-d7a6-7c083e90d98d"
   },
   "outputs": [
    {
     "name": "stdout",
     "output_type": "stream",
     "text": [
      "782/782 [==============================] - 2s 3ms/step - loss: 0.7765 - acc: 0.5000\n",
      "Model Accuracy: 50.0%\n",
      "Model Loss: 0.777\n"
     ]
    }
   ],
   "source": [
    "# Evaluate the model on the test data\n",
    "eval = model.evaluate(x_test, y_test)\n",
    "\n",
    "# Print the model's accuracy and loss on the test data\n",
    "print(f'Model Accuracy: {eval[1] * 100:.1f}%')   # Display accuracy to one decimal place\n",
    "print(f'Model Loss: {eval[0]:.3f}')   # Display loss to three decimal places"
   ]
  }
 ],
 "metadata": {
  "accelerator": "GPU",
  "colab": {
   "authorship_tag": "ABX9TyML62hP6/BUGkU2cH5rjCro",
   "provenance": [],
   "toc_visible": true
  },
  "gpuClass": "standard",
  "kernelspec": {
   "display_name": "Python 3 (ipykernel)",
   "language": "python",
   "name": "python3"
  },
  "language_info": {
   "codemirror_mode": {
    "name": "ipython",
    "version": 3
   },
   "file_extension": ".py",
   "mimetype": "text/x-python",
   "name": "python",
   "nbconvert_exporter": "python",
   "pygments_lexer": "ipython3",
   "version": "3.9.12"
  }
 },
 "nbformat": 4,
 "nbformat_minor": 4
}
